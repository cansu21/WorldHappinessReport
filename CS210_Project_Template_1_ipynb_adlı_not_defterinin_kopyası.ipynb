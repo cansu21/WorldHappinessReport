{
  "nbformat": 4,
  "nbformat_minor": 0,
  "metadata": {
    "colab": {
      "name": "CS210-Project-Template-1.ipynb adlı not defterinin kopyası",
      "provenance": [],
      "collapsed_sections": []
    },
    "kernelspec": {
      "name": "python3",
      "display_name": "Python 3"
    }
  },
  "cells": [
    {
      "cell_type": "markdown",
      "metadata": {
        "id": "tPdlcstH11mU"
      },
      "source": [
        "\n",
        "\n",
        "```\n",
        "# This is formatted as code\n",
        "```\n",
        "\n",
        "# [ World Happiness Report & Global Migration Patterns - Data for Good - Group ID: 15]\n",
        "\n",
        "Group Members:\n",
        "\n",
        "Cansu Akdeniz 26825\n",
        "\n",
        "Egemen Çakır 27879\n",
        "\n",
        "Eren Uluç 28475\n",
        "\n",
        "\n",
        "\n",
        "\n",
        "\n"
      ]
    },
    {
      "cell_type": "markdown",
      "metadata": {
        "id": "B1iB4MSX3-6L"
      },
      "source": [
        "## Introduction\n",
        "\n",
        "Did you ever thought about what was the relationship between the happiness score of a country and the migration patterns of the world. In this project our goal is to analyze survey results from The World Happiness Report along with the global migration patterns to provide a better understanding of the migration trends taking place in the world. By using datas from World Happiness Report, United Nations International Migration and United Nations Intentional Homicides and Other Crimes we are going to visualize the migration ratio of countries from 2005 onward and compare the migration ratio with with the happiness scores of the countries alongside with the intentional homicide of said country. We are going to find the top three country people migrate to and migrate from in order to find a pattern."
      ]
    },
    {
      "cell_type": "markdown",
      "metadata": {
        "id": "ZjWMWVoA4NcV"
      },
      "source": [
        "### Utilized Datasets\n",
        "\n",
        "Our first core dataset is from World Happiness Report. In this dataset, countries are given with certain scores in each category throughout certain years. The categories that are written are social support, healthy life expectancy at birth, freedom to make life choices, perceptions of corruption, positive affect, negative affect etc. The data of countries for each year is combined in order to have one data for each country by mean and the score of each category has been summed up in order to find a comparable score.\n",
        "(https://happiness-report.s3.amazonaws.com/2020/WHR20_DataForTable2.1.xls)\n",
        "\n",
        "Our second core dataset is from United Nations International Migration. In this dataset, we are looking at the countries migration ratio between the years 2005 and 2017. The average of ratios for each country has been calculated. Negative average allows us to understand that people migrated from that country and positive average allows us to understand that people migrated to that country. \n",
        "(https://www.un.org/en/development/desa/population/migration/data/estimates2/estimates17.asp)\n",
        "\n",
        "Our first additional dataset is from United Nations Intentional Homicides and Other Crimes dataset. In this dataset, various crime rates per 100,000 people for every country has been given. Only the intentional homicides between the years 2005-2017 have been usen and the data of countries for each year is combined in order to have one data for each country by mean. \n",
        "(http://data.un.org/)\n",
        "\n",
        "Our second additional dataset is again from United Nations International Migration. In this dataset, the amount of people who entered each country is given to us. This allowed us to compare the amount of people who migrate to a country with its migration ratio. \n",
        "(https://www.un.org/en/development/desa/population/migration/data/estimates2/estimates17.asp)"
      ]
    },
    {
      "cell_type": "markdown",
      "metadata": {
        "id": "ict00io34o_x"
      },
      "source": [
        "## Exploratory Data Analysis"
      ]
    },
    {
      "cell_type": "code",
      "metadata": {
        "id": "wOpDuRXgq2Kf",
        "colab": {
          "base_uri": "https://localhost:8080/"
        },
        "outputId": "f39acabb-cd26-4009-b4b4-2327ed94b80e"
      },
      "source": [
        "from google.colab import drive\n",
        "drive.mount('/content/drive')"
      ],
      "execution_count": null,
      "outputs": [
        {
          "output_type": "stream",
          "text": [
            "Go to this URL in a browser: https://accounts.google.com/o/oauth2/auth?client_id=947318989803-6bn6qk8qdgf4n4g3pfee6491hc0brc4i.apps.googleusercontent.com&redirect_uri=urn%3aietf%3awg%3aoauth%3a2.0%3aoob&scope=email%20https%3a%2f%2fwww.googleapis.com%2fauth%2fdocs.test%20https%3a%2f%2fwww.googleapis.com%2fauth%2fdrive%20https%3a%2f%2fwww.googleapis.com%2fauth%2fdrive.photos.readonly%20https%3a%2f%2fwww.googleapis.com%2fauth%2fpeopleapi.readonly%20https%3a%2f%2fwww.googleapis.com%2fauth%2fdrive.activity.readonly%20https%3a%2f%2fwww.googleapis.com%2fauth%2fexperimentsandconfigs%20https%3a%2f%2fwww.googleapis.com%2fauth%2fphotos.native&response_type=code\n",
            "\n",
            "Enter your authorization code:\n",
            "4/1AY0e-g5OW5nDgtY1uzOr89sJBbIz1IDQuJZFIYkum2Id84eJoVSpb8bV5Tw\n",
            "Mounted at /content/drive\n"
          ],
          "name": "stdout"
        }
      ]
    },
    {
      "cell_type": "markdown",
      "metadata": {
        "id": "VPdyyJ9mfpFI"
      },
      "source": [
        "### Visualizations Descriptive Statistics of Core Dataset 1"
      ]
    },
    {
      "cell_type": "markdown",
      "metadata": {
        "id": "JBdv5DnqE-8b"
      },
      "source": [
        "In the code piece below, we read our first core dataset (from World Happiness Report).\n",
        "\n",
        "---\n",
        "\n"
      ]
    },
    {
      "cell_type": "code",
      "metadata": {
        "id": "Sd03akcxpnvA",
        "colab": {
          "base_uri": "https://localhost:8080/"
        },
        "outputId": "bc6d17d9-f8c0-40c1-927e-2c0150241303"
      },
      "source": [
        "import pandas as pd\n",
        "import numpy as np\n",
        "import matplotlib.pyplot as plt\n",
        "from geopy.distance import geodesic\n",
        "from scipy import stats\n",
        "import seaborn as sns\n",
        "from os.path import join\n",
        "from os import listdir\n",
        "from scipy.stats import ttest_1samp\n",
        "\n",
        "import warnings\n",
        "warnings.filterwarnings(\"ignore\")\n",
        "\n",
        "%matplotlib inline\n",
        "df = pd.read_excel(\"/content/WHR20_DataForTable2.1.xls\")\n",
        "gdf = df\n",
        "\n",
        "print(df)"
      ],
      "execution_count": null,
      "outputs": [
        {
          "output_type": "stream",
          "text": [
            "     Country name  ...  Most people can be trusted, WVS round 2010-2014\n",
            "0     Afghanistan  ...                                              NaN\n",
            "1     Afghanistan  ...                                              NaN\n",
            "2     Afghanistan  ...                                              NaN\n",
            "3     Afghanistan  ...                                              NaN\n",
            "4     Afghanistan  ...                                              NaN\n",
            "...           ...  ...                                              ...\n",
            "1843     Zimbabwe  ...                                         0.082942\n",
            "1844     Zimbabwe  ...                                         0.082942\n",
            "1845     Zimbabwe  ...                                         0.082942\n",
            "1846     Zimbabwe  ...                                         0.082942\n",
            "1847     Zimbabwe  ...                                         0.082942\n",
            "\n",
            "[1848 rows x 26 columns]\n"
          ],
          "name": "stdout"
        }
      ]
    },
    {
      "cell_type": "markdown",
      "metadata": {
        "id": "EW-L6dL3FIjG"
      },
      "source": [
        "We collect every country name in the dataset and put it into country_name."
      ]
    },
    {
      "cell_type": "code",
      "metadata": {
        "colab": {
          "base_uri": "https://localhost:8080/"
        },
        "id": "qXl3BZjBzrOc",
        "outputId": "9503a03e-fd11-4105-a2c5-7eb0f62401ff"
      },
      "source": [
        "country_name = df[\"Country name\"]\n",
        "\n",
        "print(country_name)"
      ],
      "execution_count": null,
      "outputs": [
        {
          "output_type": "stream",
          "text": [
            "0       Afghanistan\n",
            "1       Afghanistan\n",
            "2       Afghanistan\n",
            "3       Afghanistan\n",
            "4       Afghanistan\n",
            "           ...     \n",
            "1843       Zimbabwe\n",
            "1844       Zimbabwe\n",
            "1845       Zimbabwe\n",
            "1846       Zimbabwe\n",
            "1847       Zimbabwe\n",
            "Name: Country name, Length: 1848, dtype: object\n"
          ],
          "name": "stdout"
        }
      ]
    },
    {
      "cell_type": "markdown",
      "metadata": {
        "id": "blm26op_Ffvi"
      },
      "source": [
        "Since the name of a country can be written many times in the data, we write the code peace below to take the names of the countries without repetition and put them in a list called Country_Name."
      ]
    },
    {
      "cell_type": "code",
      "metadata": {
        "id": "6OLucmvMEZWr",
        "colab": {
          "base_uri": "https://localhost:8080/"
        },
        "outputId": "0e446f01-2cf8-40b1-cf2b-4d87b231e5dc"
      },
      "source": [
        "Country_Name = []\n",
        "for i in range(1848):\n",
        "  if df[\"Country name\"][i] not in Country_Name:\n",
        "    Country_Name.append(df[\"Country name\"][i])\n",
        "\n",
        "print(Country_Name)\n"
      ],
      "execution_count": null,
      "outputs": [
        {
          "output_type": "stream",
          "text": [
            "['Afghanistan', 'Albania', 'Algeria', 'Angola', 'Argentina', 'Armenia', 'Australia', 'Austria', 'Azerbaijan', 'Bahrain', 'Bangladesh', 'Belarus', 'Belgium', 'Belize', 'Benin', 'Bhutan', 'Bolivia', 'Bosnia and Herzegovina', 'Botswana', 'Brazil', 'Bulgaria', 'Burkina Faso', 'Burundi', 'Cambodia', 'Cameroon', 'Canada', 'Central African Republic', 'Chad', 'Chile', 'China', 'Colombia', 'Comoros', 'Congo (Brazzaville)', 'Congo (Kinshasa)', 'Costa Rica', 'Croatia', 'Cuba', 'Cyprus', 'Czech Republic', 'Denmark', 'Djibouti', 'Dominican Republic', 'Ecuador', 'Egypt', 'El Salvador', 'Estonia', 'Ethiopia', 'Finland', 'France', 'Gabon', 'Gambia', 'Georgia', 'Germany', 'Ghana', 'Greece', 'Guatemala', 'Guinea', 'Guyana', 'Haiti', 'Honduras', 'Hong Kong S.A.R. of China', 'Hungary', 'Iceland', 'India', 'Indonesia', 'Iran', 'Iraq', 'Ireland', 'Israel', 'Italy', 'Ivory Coast', 'Jamaica', 'Japan', 'Jordan', 'Kazakhstan', 'Kenya', 'Kosovo', 'Kuwait', 'Kyrgyzstan', 'Laos', 'Latvia', 'Lebanon', 'Lesotho', 'Liberia', 'Libya', 'Lithuania', 'Luxembourg', 'Macedonia', 'Madagascar', 'Malawi', 'Malaysia', 'Maldives', 'Mali', 'Malta', 'Mauritania', 'Mauritius', 'Mexico', 'Moldova', 'Mongolia', 'Montenegro', 'Morocco', 'Mozambique', 'Myanmar', 'Namibia', 'Nepal', 'Netherlands', 'New Zealand', 'Nicaragua', 'Niger', 'Nigeria', 'North Cyprus', 'Norway', 'Oman', 'Pakistan', 'Palestinian Territories', 'Panama', 'Paraguay', 'Peru', 'Philippines', 'Poland', 'Portugal', 'Qatar', 'Romania', 'Russia', 'Rwanda', 'Saudi Arabia', 'Senegal', 'Serbia', 'Sierra Leone', 'Singapore', 'Slovakia', 'Slovenia', 'Somalia', 'Somaliland region', 'South Africa', 'South Korea', 'South Sudan', 'Spain', 'Sri Lanka', 'Sudan', 'Suriname', 'Swaziland', 'Sweden', 'Switzerland', 'Syria', 'Taiwan Province of China', 'Tajikistan', 'Tanzania', 'Thailand', 'Togo', 'Trinidad and Tobago', 'Tunisia', 'Turkey', 'Turkmenistan', 'Uganda', 'Ukraine', 'United Arab Emirates', 'United Kingdom', 'United States', 'Uruguay', 'Uzbekistan', 'Venezuela', 'Vietnam', 'Yemen', 'Zambia', 'Zimbabwe']\n"
          ],
          "name": "stdout"
        }
      ]
    },
    {
      "cell_type": "markdown",
      "metadata": {
        "id": "AwgxDiS5F78k"
      },
      "source": [
        "We take the mean of values at each category of the same country in order to merge them."
      ]
    },
    {
      "cell_type": "code",
      "metadata": {
        "colab": {
          "base_uri": "https://localhost:8080/"
        },
        "id": "2RAlaE6S_WIk",
        "outputId": "1461689f-b4da-46a9-cf8a-b8dd4ea9dbd0"
      },
      "source": [
        "df = df.groupby(\"Country name\").mean()\n",
        "\n",
        "print(df)\n"
      ],
      "execution_count": null,
      "outputs": [
        {
          "output_type": "stream",
          "text": [
            "                     year  ...  Most people can be trusted, WVS round 2010-2014\n",
            "Country name               ...                                                 \n",
            "Afghanistan   2013.500000  ...                                              NaN\n",
            "Albania       2013.416667  ...                                              NaN\n",
            "Algeria       2014.625000  ...                                         0.179286\n",
            "Angola        2012.500000  ...                                              NaN\n",
            "Argentina     2012.500000  ...                                         0.193531\n",
            "...                   ...  ...                                              ...\n",
            "Venezuela     2012.357143  ...                                              NaN\n",
            "Vietnam       2012.500000  ...                                              NaN\n",
            "Yemen         2013.416667  ...                                         0.385000\n",
            "Zambia        2012.692308  ...                                              NaN\n",
            "Zimbabwe      2012.500000  ...                                         0.082942\n",
            "\n",
            "[166 rows x 25 columns]\n"
          ],
          "name": "stdout"
        }
      ]
    },
    {
      "cell_type": "markdown",
      "metadata": {
        "id": "4AOrn5NNGCFB"
      },
      "source": [
        "Since parts of the data is not important for us, we removed them."
      ]
    },
    {
      "cell_type": "code",
      "metadata": {
        "colab": {
          "base_uri": "https://localhost:8080/"
        },
        "id": "dcPuCLqAJoXb",
        "outputId": "b0f7330b-47bd-4749-d90e-99a6b7ecc468"
      },
      "source": [
        "df = df.drop(\"year\", axis = 1)\n",
        "df = df.drop(\"Most people can be trusted, WVS round 1981-1984\", axis = 1)\n",
        "df = df.drop(\"Most people can be trusted, WVS round 1989-1993\", axis = 1)\n",
        "df = df.drop(\"Most people can be trusted, WVS round 1994-1998\", axis = 1)\n",
        "df = df.drop(\"Most people can be trusted, WVS round 1999-2004\", axis = 1)\n",
        "df = df.drop(\"Standard deviation/Mean of ladder by country-year\", axis = 1)\n",
        "df = df.drop(\"GINI index (World Bank estimate)\", axis = 1)\n",
        "df = df.drop(\"Standard deviation of ladder by country-year\", axis = 1)\n",
        "\n",
        "print(df)"
      ],
      "execution_count": null,
      "outputs": [
        {
          "output_type": "stream",
          "text": [
            "              Life Ladder  ...  Most people can be trusted, WVS round 2010-2014\n",
            "Country name               ...                                                 \n",
            "Afghanistan      3.594628  ...                                              NaN\n",
            "Albania          4.990636  ...                                              NaN\n",
            "Algeria          5.389717  ...                                         0.179286\n",
            "Angola           4.420299  ...                                              NaN\n",
            "Argentina        6.339423  ...                                         0.193531\n",
            "...                   ...  ...                                              ...\n",
            "Venezuela        6.123013  ...                                              NaN\n",
            "Vietnam          5.305872  ...                                              NaN\n",
            "Yemen            3.912124  ...                                         0.385000\n",
            "Zambia           4.529805  ...                                              NaN\n",
            "Zimbabwe         3.934324  ...                                         0.082942\n",
            "\n",
            "[166 rows x 17 columns]\n"
          ],
          "name": "stdout"
        }
      ]
    },
    {
      "cell_type": "markdown",
      "metadata": {
        "id": "AwG9CgHsOVCc"
      },
      "source": [
        "Some of the values of the categories are negative and some of them are positive variable and since some values of negative variables are written in positive numbers we divide them into -1. For example, negative affects are written as positive values even though they are bad for happiness. This allowed us to sum the values at each category per country as positive one being positive and negative ones being negative. "
      ]
    },
    {
      "cell_type": "code",
      "metadata": {
        "colab": {
          "base_uri": "https://localhost:8080/"
        },
        "id": "9OYIclXqVdqu",
        "outputId": "ae8d760d-ca3b-435e-dbb8-8357012b5e87"
      },
      "source": [
        "df.div([1,1,1,1,1,1,-1,1,-1,1,1,1,-1,-1,1,1,1])\n",
        "df[\"sum\"] = df.sum(axis=1)\n",
        "\n",
        "print(df)"
      ],
      "execution_count": null,
      "outputs": [
        {
          "output_type": "stream",
          "text": [
            "              Life Ladder  ...        sum\n",
            "Country name               ...           \n",
            "Afghanistan      3.594628  ...  63.792171\n",
            "Albania          4.990636  ...  85.964210\n",
            "Algeria          5.389717  ...  82.043250\n",
            "Angola           4.420299  ...  69.175770\n",
            "Argentina        6.339423  ...  88.990971\n",
            "...                   ...  ...        ...\n",
            "Venezuela        6.123013  ...  83.690817\n",
            "Vietnam          5.305872  ...  85.531106\n",
            "Yemen            3.912124  ...  68.393174\n",
            "Zambia           4.529805  ...  69.052716\n",
            "Zimbabwe         3.934324  ...  63.530274\n",
            "\n",
            "[166 rows x 18 columns]\n"
          ],
          "name": "stdout"
        }
      ]
    },
    {
      "cell_type": "markdown",
      "metadata": {
        "id": "pLg1ptFo9lq2"
      },
      "source": [
        "We created lists for happiness sum and life ladder and store the values in their respected lists in order to use them in latter stages."
      ]
    },
    {
      "cell_type": "code",
      "metadata": {
        "id": "Y3xD9LbDrBJh"
      },
      "source": [
        "Happiness_Sum = []\n",
        "for i in range(166):\n",
        "  Happiness_Sum.append(df[\"sum\"][i])\n",
        "\n",
        "Life_Ladder = []\n",
        "for i in range(166):\n",
        "  Life_Ladder.append(df[\"Life Ladder\"][i])"
      ],
      "execution_count": null,
      "outputs": []
    },
    {
      "cell_type": "markdown",
      "metadata": {
        "id": "XqfCIf-4gN4n"
      },
      "source": [
        "### Spatial and Temporal Analysis of Core Dataset 1"
      ]
    },
    {
      "cell_type": "markdown",
      "metadata": {
        "id": "WelYdlOGGm7V"
      },
      "source": [
        "Below is all the numeric data we collected for each category to have a general perspective of the world."
      ]
    },
    {
      "cell_type": "code",
      "metadata": {
        "colab": {
          "base_uri": "https://localhost:8080/",
          "height": 431
        },
        "id": "CjOmXQTbU8IA",
        "outputId": "e88b9c6c-0743-43d9-fa66-50d8b10ba48d"
      },
      "source": [
        "df.describe()"
      ],
      "execution_count": null,
      "outputs": [
        {
          "output_type": "execute_result",
          "data": {
            "text/html": [
              "<div>\n",
              "<style scoped>\n",
              "    .dataframe tbody tr th:only-of-type {\n",
              "        vertical-align: middle;\n",
              "    }\n",
              "\n",
              "    .dataframe tbody tr th {\n",
              "        vertical-align: top;\n",
              "    }\n",
              "\n",
              "    .dataframe thead th {\n",
              "        text-align: right;\n",
              "    }\n",
              "</style>\n",
              "<table border=\"1\" class=\"dataframe\">\n",
              "  <thead>\n",
              "    <tr style=\"text-align: right;\">\n",
              "      <th></th>\n",
              "      <th>Life Ladder</th>\n",
              "      <th>Log GDP per capita</th>\n",
              "      <th>Social support</th>\n",
              "      <th>Healthy life expectancy at birth</th>\n",
              "      <th>Freedom to make life choices</th>\n",
              "      <th>Generosity</th>\n",
              "      <th>Perceptions of corruption</th>\n",
              "      <th>Positive affect</th>\n",
              "      <th>Negative affect</th>\n",
              "      <th>Confidence in national government</th>\n",
              "      <th>Democratic Quality</th>\n",
              "      <th>Delivery Quality</th>\n",
              "      <th>GINI index (World Bank estimate), average 2000-2017, unbalanced panel</th>\n",
              "      <th>gini of household income reported in Gallup, by wp5-year</th>\n",
              "      <th>Most people can be trusted, Gallup</th>\n",
              "      <th>Most people can be trusted, WVS round 2005-2009</th>\n",
              "      <th>Most people can be trusted, WVS round 2010-2014</th>\n",
              "      <th>sum</th>\n",
              "    </tr>\n",
              "  </thead>\n",
              "  <tbody>\n",
              "    <tr>\n",
              "      <th>count</th>\n",
              "      <td>166.000000</td>\n",
              "      <td>163.000000</td>\n",
              "      <td>165.000000</td>\n",
              "      <td>162.000000</td>\n",
              "      <td>166.000000</td>\n",
              "      <td>162.000000</td>\n",
              "      <td>161.000000</td>\n",
              "      <td>164.000000</td>\n",
              "      <td>165.000000</td>\n",
              "      <td>155.000000</td>\n",
              "      <td>164.000000</td>\n",
              "      <td>164.000000</td>\n",
              "      <td>143.000000</td>\n",
              "      <td>163.000000</td>\n",
              "      <td>129.000000</td>\n",
              "      <td>53.000000</td>\n",
              "      <td>57.000000</td>\n",
              "      <td>166.000000</td>\n",
              "    </tr>\n",
              "    <tr>\n",
              "      <th>mean</th>\n",
              "      <td>5.392184</td>\n",
              "      <td>9.198929</td>\n",
              "      <td>0.804316</td>\n",
              "      <td>62.490228</td>\n",
              "      <td>0.736446</td>\n",
              "      <td>0.005210</td>\n",
              "      <td>0.736809</td>\n",
              "      <td>0.708265</td>\n",
              "      <td>0.269982</td>\n",
              "      <td>0.504878</td>\n",
              "      <td>-0.177059</td>\n",
              "      <td>-0.069282</td>\n",
              "      <td>0.388278</td>\n",
              "      <td>0.459586</td>\n",
              "      <td>0.237770</td>\n",
              "      <td>0.264348</td>\n",
              "      <td>0.233136</td>\n",
              "      <td>79.996046</td>\n",
              "    </tr>\n",
              "    <tr>\n",
              "      <th>std</th>\n",
              "      <td>1.058779</td>\n",
              "      <td>1.194986</td>\n",
              "      <td>0.116413</td>\n",
              "      <td>7.612706</td>\n",
              "      <td>0.130479</td>\n",
              "      <td>0.149253</td>\n",
              "      <td>0.181132</td>\n",
              "      <td>0.097925</td>\n",
              "      <td>0.071737</td>\n",
              "      <td>0.180985</td>\n",
              "      <td>0.880869</td>\n",
              "      <td>0.977077</td>\n",
              "      <td>0.080886</td>\n",
              "      <td>0.100657</td>\n",
              "      <td>0.117637</td>\n",
              "      <td>0.167001</td>\n",
              "      <td>0.156825</td>\n",
              "      <td>15.036625</td>\n",
              "    </tr>\n",
              "    <tr>\n",
              "      <th>min</th>\n",
              "      <td>3.401875</td>\n",
              "      <td>6.579909</td>\n",
              "      <td>0.402559</td>\n",
              "      <td>43.356001</td>\n",
              "      <td>0.281458</td>\n",
              "      <td>-0.281210</td>\n",
              "      <td>0.097752</td>\n",
              "      <td>0.508669</td>\n",
              "      <td>0.117528</td>\n",
              "      <td>0.173071</td>\n",
              "      <td>-2.213782</td>\n",
              "      <td>-2.112402</td>\n",
              "      <td>0.249500</td>\n",
              "      <td>0.267800</td>\n",
              "      <td>0.067373</td>\n",
              "      <td>0.038242</td>\n",
              "      <td>0.031518</td>\n",
              "      <td>9.387554</td>\n",
              "    </tr>\n",
              "    <tr>\n",
              "      <th>25%</th>\n",
              "      <td>4.499712</td>\n",
              "      <td>8.263662</td>\n",
              "      <td>0.750635</td>\n",
              "      <td>56.543461</td>\n",
              "      <td>0.651742</td>\n",
              "      <td>-0.107667</td>\n",
              "      <td>0.692225</td>\n",
              "      <td>0.624177</td>\n",
              "      <td>0.218784</td>\n",
              "      <td>0.369644</td>\n",
              "      <td>-0.772194</td>\n",
              "      <td>-0.751340</td>\n",
              "      <td>0.326160</td>\n",
              "      <td>0.382014</td>\n",
              "      <td>0.142481</td>\n",
              "      <td>0.143534</td>\n",
              "      <td>0.118725</td>\n",
              "      <td>72.322081</td>\n",
              "    </tr>\n",
              "    <tr>\n",
              "      <th>50%</th>\n",
              "      <td>5.299970</td>\n",
              "      <td>9.314939</td>\n",
              "      <td>0.824556</td>\n",
              "      <td>64.789836</td>\n",
              "      <td>0.744360</td>\n",
              "      <td>-0.008718</td>\n",
              "      <td>0.794055</td>\n",
              "      <td>0.710575</td>\n",
              "      <td>0.261790</td>\n",
              "      <td>0.483620</td>\n",
              "      <td>-0.285008</td>\n",
              "      <td>-0.277226</td>\n",
              "      <td>0.372667</td>\n",
              "      <td>0.442097</td>\n",
              "      <td>0.213497</td>\n",
              "      <td>0.198380</td>\n",
              "      <td>0.193531</td>\n",
              "      <td>82.614205</td>\n",
              "    </tr>\n",
              "    <tr>\n",
              "      <th>75%</th>\n",
              "      <td>6.183112</td>\n",
              "      <td>10.151770</td>\n",
              "      <td>0.898972</td>\n",
              "      <td>67.796266</td>\n",
              "      <td>0.833296</td>\n",
              "      <td>0.084864</td>\n",
              "      <td>0.850494</td>\n",
              "      <td>0.795707</td>\n",
              "      <td>0.315151</td>\n",
              "      <td>0.614277</td>\n",
              "      <td>0.552321</td>\n",
              "      <td>0.615548</td>\n",
              "      <td>0.435083</td>\n",
              "      <td>0.519831</td>\n",
              "      <td>0.306121</td>\n",
              "      <td>0.391370</td>\n",
              "      <td>0.329065</td>\n",
              "      <td>88.810421</td>\n",
              "    </tr>\n",
              "    <tr>\n",
              "      <th>max</th>\n",
              "      <td>7.692139</td>\n",
              "      <td>11.682664</td>\n",
              "      <td>0.976763</td>\n",
              "      <td>75.358461</td>\n",
              "      <td>0.953241</td>\n",
              "      <td>0.618981</td>\n",
              "      <td>0.953186</td>\n",
              "      <td>0.875515</td>\n",
              "      <td>0.510459</td>\n",
              "      <td>0.969535</td>\n",
              "      <td>1.476863</td>\n",
              "      <td>2.023685</td>\n",
              "      <td>0.624000</td>\n",
              "      <td>0.788792</td>\n",
              "      <td>0.630413</td>\n",
              "      <td>0.737305</td>\n",
              "      <td>0.661757</td>\n",
              "      <td>100.783091</td>\n",
              "    </tr>\n",
              "  </tbody>\n",
              "</table>\n",
              "</div>"
            ],
            "text/plain": [
              "       Life Ladder  ...         sum\n",
              "count   166.000000  ...  166.000000\n",
              "mean      5.392184  ...   79.996046\n",
              "std       1.058779  ...   15.036625\n",
              "min       3.401875  ...    9.387554\n",
              "25%       4.499712  ...   72.322081\n",
              "50%       5.299970  ...   82.614205\n",
              "75%       6.183112  ...   88.810421\n",
              "max       7.692139  ...  100.783091\n",
              "\n",
              "[8 rows x 18 columns]"
            ]
          },
          "metadata": {
            "tags": []
          },
          "execution_count": 8
        }
      ]
    },
    {
      "cell_type": "markdown",
      "metadata": {
        "id": "NuAV1jOaPXny"
      },
      "source": [
        "We created a box plot for the sum that we find."
      ]
    },
    {
      "cell_type": "code",
      "metadata": {
        "colab": {
          "base_uri": "https://localhost:8080/",
          "height": 282
        },
        "id": "jhAUJ49rhnJr",
        "outputId": "e7f20a21-5d9e-4d73-d0d9-57f4115c8e7d"
      },
      "source": [
        "df.boxplot(column=[\"sum\"])"
      ],
      "execution_count": null,
      "outputs": [
        {
          "output_type": "execute_result",
          "data": {
            "text/plain": [
              "<matplotlib.axes._subplots.AxesSubplot at 0x7f40c527e6d0>"
            ]
          },
          "metadata": {
            "tags": []
          },
          "execution_count": 9
        },
        {
          "output_type": "display_data",
          "data": {
            "image/png": "[encoded data removed]",
            "text/plain": [
              "<Figure size 432x288 with 1 Axes>"
            ]
          },
          "metadata": {
            "tags": [],
            "needs_background": "light"
          }
        }
      ]
    },
    {
      "cell_type": "markdown",
      "metadata": {
        "id": "_1YqBIi7HQ47"
      },
      "source": [
        "Created a graph in order to compare the sum values of each country in South America.\n"
      ]
    },
    {
      "cell_type": "code",
      "metadata": {
        "id": "2_zpof-G3yoB",
        "colab": {
          "base_uri": "https://localhost:8080/",
          "height": 322
        },
        "outputId": "21192d8f-2cb5-4757-96e7-adcba33056c0"
      },
      "source": [
        "South_America = []\n",
        "\n",
        "South_America.append(Country_Name[4])\n",
        "South_America.append(Country_Name[16])\n",
        "South_America.append(Country_Name[19])\n",
        "South_America.append(Country_Name[28])\n",
        "South_America.append(Country_Name[30])\n",
        "South_America.append(Country_Name[42])\n",
        "South_America.append(Country_Name[57])\n",
        "South_America.append(Country_Name[116])\n",
        "South_America.append(Country_Name[117])\n",
        "South_America.append(Country_Name[159])\n",
        "South_America.append(Country_Name[161])\n",
        "South_America.append(Country_Name[140])\n",
        "\n",
        "South_America_sum =[]\n",
        "South_America_sum.append(df[\"sum\"][4])\n",
        "South_America_sum.append(df[\"sum\"][16])\n",
        "South_America_sum.append(df[\"sum\"][19])\n",
        "South_America_sum.append(df[\"sum\"][28])\n",
        "South_America_sum.append(df[\"sum\"][30])\n",
        "South_America_sum.append(df[\"sum\"][42])\n",
        "South_America_sum.append(df[\"sum\"][57])\n",
        "South_America_sum.append(df[\"sum\"][116])\n",
        "South_America_sum.append(df[\"sum\"][117])\n",
        "South_America_sum.append(df[\"sum\"][159])\n",
        "South_America_sum.append(df[\"sum\"][161])\n",
        "South_America_sum.append(df[\"sum\"][140])\n",
        "\n",
        "df555 = pd.DataFrame({'South_America':South_America,'South_America_sum':South_America_sum})\n",
        "\n",
        "ax555 = df555.plot.bar(x='South_America', y='South_America_sum', rot=90)"
      ],
      "execution_count": null,
      "outputs": [
        {
          "output_type": "display_data",
          "data": {
            "image/png": "[encoded data removed]",
            "text/plain": [
              "<Figure size 432x288 with 1 Axes>"
            ]
          },
          "metadata": {
            "tags": [],
            "needs_background": "light"
          }
        }
      ]
    },
    {
      "cell_type": "markdown",
      "metadata": {
        "id": "KwaC2w0-6wPd"
      },
      "source": [
        "Created a graph in order to compare the sum values of each country in Western Europe."
      ]
    },
    {
      "cell_type": "code",
      "metadata": {
        "id": "uOoRj04p3vrF",
        "colab": {
          "base_uri": "https://localhost:8080/",
          "height": 332
        },
        "outputId": "f67fbf68-8cf5-4e95-f4c1-59f50ef6879b"
      },
      "source": [
        "Western_Europe = []\n",
        "\n",
        "Western_Europe.append(Country_Name[7])\n",
        "Western_Europe.append(Country_Name[12])\n",
        "Western_Europe.append(Country_Name[48])\n",
        "Western_Europe.append(Country_Name[52])\n",
        "Western_Europe.append(Country_Name[86])\n",
        "Western_Europe.append(Country_Name[105])\n",
        "Western_Europe.append(Country_Name[143])\n",
        "\n",
        "Western_Europe_sum =[]\n",
        "Western_Europe_sum.append(df[\"sum\"][7])\n",
        "Western_Europe_sum.append(df[\"sum\"][12])\n",
        "Western_Europe_sum.append(df[\"sum\"][48])\n",
        "Western_Europe_sum.append(df[\"sum\"][52])\n",
        "Western_Europe_sum.append(df[\"sum\"][86])\n",
        "Western_Europe_sum.append(df[\"sum\"][105])\n",
        "Western_Europe_sum.append(df[\"sum\"][143])\n",
        "\n",
        "df444 = pd.DataFrame({'Western_Europe':Western_Europe,'Western_Europe_sum':Western_Europe_sum})\n",
        "\n",
        "ax444 = df444.plot.bar(x='Western_Europe', y='Western_Europe_sum', rot=90)"
      ],
      "execution_count": null,
      "outputs": [
        {
          "output_type": "display_data",
          "data": {
            "image/png": "[encoded data removed]",
            "text/plain": [
              "<Figure size 432x288 with 1 Axes>"
            ]
          },
          "metadata": {
            "tags": [],
            "needs_background": "light"
          }
        }
      ]
    },
    {
      "cell_type": "markdown",
      "metadata": {
        "id": "4DwZdBLf64Dy"
      },
      "source": [
        "Created a graph in order to compare the sum values of each country in Southern Europe."
      ]
    },
    {
      "cell_type": "code",
      "metadata": {
        "id": "S8s3G_8W3s7X",
        "colab": {
          "base_uri": "https://localhost:8080/",
          "height": 392
        },
        "outputId": "a1f6383c-ff6d-48ed-8990-fddedd8babbc"
      },
      "source": [
        "Southern_Europe = []\n",
        "\n",
        "Southern_Europe.append(Country_Name[1])\n",
        "Southern_Europe.append(Country_Name[17])\n",
        "Southern_Europe.append(Country_Name[35])\n",
        "Southern_Europe.append(Country_Name[54])\n",
        "Southern_Europe.append(Country_Name[69])\n",
        "Southern_Europe.append(Country_Name[76])\n",
        "Southern_Europe.append(Country_Name[93])\n",
        "Southern_Europe.append(Country_Name[99])\n",
        "Southern_Europe.append(Country_Name[120])\n",
        "Southern_Europe.append(Country_Name[127])\n",
        "Southern_Europe.append(Country_Name[131])\n",
        "Southern_Europe.append(Country_Name[137])\n",
        "Southern_Europe.append(Country_Name[87])\n",
        "\n",
        "Southern_Europe_sum =[]\n",
        "Southern_Europe_sum.append(df[\"sum\"][1])\n",
        "Southern_Europe_sum.append(df[\"sum\"][17])\n",
        "Southern_Europe_sum.append(df[\"sum\"][35])\n",
        "Southern_Europe_sum.append(df[\"sum\"][54])\n",
        "Southern_Europe_sum.append(df[\"sum\"][69])\n",
        "Southern_Europe_sum.append(df[\"sum\"][76])\n",
        "Southern_Europe_sum.append(df[\"sum\"][93])\n",
        "Southern_Europe_sum.append(df[\"sum\"][99])\n",
        "Southern_Europe_sum.append(df[\"sum\"][120])\n",
        "Southern_Europe_sum.append(df[\"sum\"][127])\n",
        "Southern_Europe_sum.append(df[\"sum\"][131])\n",
        "Southern_Europe_sum.append(df[\"sum\"][137])\n",
        "Southern_Europe_sum.append(df[\"sum\"][87])\n",
        "\n",
        "df333 = pd.DataFrame({'Southern_Europe':Southern_Europe,'Southern_Europe_sum':Southern_Europe_sum})\n",
        "\n",
        "ax333 = df333.plot.bar(x='Southern_Europe', y='Southern_Europe_sum', rot=90)"
      ],
      "execution_count": null,
      "outputs": [
        {
          "output_type": "display_data",
          "data": {
            "image/png": "[encoded data removed]",
            "text/plain": [
              "<Figure size 432x288 with 1 Axes>"
            ]
          },
          "metadata": {
            "tags": [],
            "needs_background": "light"
          }
        }
      ]
    },
    {
      "cell_type": "markdown",
      "metadata": {
        "id": "u97Amj-07Fgx"
      },
      "source": [
        "Created a graph in order to compare the sum values of each country in Northern Europe."
      ]
    },
    {
      "cell_type": "code",
      "metadata": {
        "id": "sTbzGrFa3njb",
        "colab": {
          "base_uri": "https://localhost:8080/",
          "height": 350
        },
        "outputId": "f3941702-ae03-489f-88c0-ade743f1e114"
      },
      "source": [
        "Northern_Europe = []\n",
        "\n",
        "Northern_Europe.append(Country_Name[39])\n",
        "Northern_Europe.append(Country_Name[45])\n",
        "Northern_Europe.append(Country_Name[47])\n",
        "Northern_Europe.append(Country_Name[62])\n",
        "Northern_Europe.append(Country_Name[67])\n",
        "Northern_Europe.append(Country_Name[80])\n",
        "Northern_Europe.append(Country_Name[85])\n",
        "Northern_Europe.append(Country_Name[111])\n",
        "Northern_Europe.append(Country_Name[142])\n",
        "Northern_Europe.append(Country_Name[157])\n",
        "\n",
        "Northern_Europe_sum =[]\n",
        "Northern_Europe_sum.append(df[\"sum\"][39])\n",
        "Northern_Europe_sum.append(df[\"sum\"][45])\n",
        "Northern_Europe_sum.append(df[\"sum\"][47])\n",
        "Northern_Europe_sum.append(df[\"sum\"][62])\n",
        "Northern_Europe_sum.append(df[\"sum\"][67])\n",
        "Northern_Europe_sum.append(df[\"sum\"][80])\n",
        "Northern_Europe_sum.append(df[\"sum\"][85])\n",
        "Northern_Europe_sum.append(df[\"sum\"][111])\n",
        "Northern_Europe_sum.append(df[\"sum\"][142])\n",
        "Northern_Europe_sum.append(df[\"sum\"][157])\n",
        "\n",
        "df222 = pd.DataFrame({'Northern_Europe':Northern_Europe,'Northern_Europe_sum':Northern_Europe_sum})\n",
        "\n",
        "ax222 = df222.plot.bar(x='Northern_Europe', y='Northern_Europe_sum', rot=90)"
      ],
      "execution_count": null,
      "outputs": [
        {
          "output_type": "display_data",
          "data": {
            "image/png": "[encoded data removed]",
            "text/plain": [
              "<Figure size 432x288 with 1 Axes>"
            ]
          },
          "metadata": {
            "tags": [],
            "needs_background": "light"
          }
        }
      ]
    },
    {
      "cell_type": "markdown",
      "metadata": {
        "id": "NJis73lR7VIj"
      },
      "source": [
        "Created a graph in order to compare the sum values of each country in Eastern Europe."
      ]
    },
    {
      "cell_type": "code",
      "metadata": {
        "colab": {
          "base_uri": "https://localhost:8080/",
          "height": 345
        },
        "id": "xyn20GzBrHwW",
        "outputId": "f90120f1-81a9-4e49-ea6d-2fcb958e27d5"
      },
      "source": [
        "Eastern_Europe = []\n",
        "\n",
        "Eastern_Europe.append(Country_Name[11])\n",
        "Eastern_Europe.append(Country_Name[20])\n",
        "Eastern_Europe.append(Country_Name[38])\n",
        "Eastern_Europe.append(Country_Name[61])\n",
        "Eastern_Europe.append(Country_Name[119])\n",
        "Eastern_Europe.append(Country_Name[97])\n",
        "Eastern_Europe.append(Country_Name[122])\n",
        "Eastern_Europe.append(Country_Name[123])\n",
        "Eastern_Europe.append(Country_Name[130])\n",
        "Eastern_Europe.append(Country_Name[155])\n",
        "\n",
        "Eastern_Europe_sum =[]\n",
        "Eastern_Europe_sum.append(df[\"sum\"][11])\n",
        "Eastern_Europe_sum.append(df[\"sum\"][20])\n",
        "Eastern_Europe_sum.append(df[\"sum\"][38])\n",
        "Eastern_Europe_sum.append(df[\"sum\"][61])\n",
        "Eastern_Europe_sum.append(df[\"sum\"][119])\n",
        "Eastern_Europe_sum.append(df[\"sum\"][97])\n",
        "Eastern_Europe_sum.append(df[\"sum\"][122])\n",
        "Eastern_Europe_sum.append(df[\"sum\"][123])\n",
        "Eastern_Europe_sum.append(df[\"sum\"][130])\n",
        "Eastern_Europe_sum.append(df[\"sum\"][155])\n",
        "\n",
        "df111 = pd.DataFrame({'Eastern_Europe':Eastern_Europe,'Eastern_Europe_sum':Eastern_Europe_sum})\n",
        "\n",
        "ax111 = df111.plot.bar(x='Eastern_Europe', y='Eastern_Europe_sum', rot=90)"
      ],
      "execution_count": null,
      "outputs": [
        {
          "output_type": "display_data",
          "data": {
            "image/png": "[encoded data removed]",
            "text/plain": [
              "<Figure size 432x288 with 1 Axes>"
            ]
          },
          "metadata": {
            "tags": [],
            "needs_background": "light"
          }
        }
      ]
    },
    {
      "cell_type": "markdown",
      "metadata": {
        "id": "1QcHr1tE7bNC"
      },
      "source": [
        "Created a graph in order to compare the sum values of each country in Central Asia."
      ]
    },
    {
      "cell_type": "code",
      "metadata": {
        "id": "b1CiwHId3Y0_",
        "colab": {
          "base_uri": "https://localhost:8080/",
          "height": 337
        },
        "outputId": "3f7a3d86-b5f9-4139-c1f1-4a75e0254460"
      },
      "source": [
        "Central_Asia = []\n",
        "\n",
        "Central_Asia.append(Country_Name[74])\n",
        "Central_Asia.append(Country_Name[78])\n",
        "Central_Asia.append(Country_Name[146])\n",
        "Central_Asia.append(Country_Name[153])\n",
        "Central_Asia.append(Country_Name[160])\n",
        "\n",
        "Central_Asia_sum =[]\n",
        "\n",
        "Central_Asia_sum.append(df[\"sum\"][74])\n",
        "Central_Asia_sum.append(df[\"sum\"][78])\n",
        "Central_Asia_sum.append(df[\"sum\"][146])\n",
        "Central_Asia_sum.append(df[\"sum\"][153])\n",
        "Central_Asia_sum.append(df[\"sum\"][160])\n",
        "\n",
        "df101 = pd.DataFrame({'Central_Asia':Central_Asia,'Central_Asia_sum':Central_Asia_sum})\n",
        "\n",
        "ax101 = df101.plot.bar(x='Central_Asia', y='Central_Asia_sum', rot=90)"
      ],
      "execution_count": null,
      "outputs": [
        {
          "output_type": "display_data",
          "data": {
            "image/png": "[encoded data removed]",
            "text/plain": [
              "<Figure size 432x288 with 1 Axes>"
            ]
          },
          "metadata": {
            "tags": [],
            "needs_background": "light"
          }
        }
      ]
    },
    {
      "cell_type": "markdown",
      "metadata": {
        "id": "9ZrgHJc27fgu"
      },
      "source": [
        "Created a graph in order to compare the sum values of each country in Eastern Asia."
      ]
    },
    {
      "cell_type": "code",
      "metadata": {
        "id": "QjolPyzfiDvH",
        "colab": {
          "base_uri": "https://localhost:8080/",
          "height": 401
        },
        "outputId": "a9f79c40-cd76-4d3e-9c9b-be0798a15a16"
      },
      "source": [
        "Eastern_Asia = []\n",
        "\n",
        "Eastern_Asia.append(Country_Name[29])\n",
        "Eastern_Asia.append(Country_Name[60])\n",
        "Eastern_Asia.append(Country_Name[72])\n",
        "Eastern_Asia.append(Country_Name[98])\n",
        "Eastern_Asia.append(Country_Name[135])\n",
        "Eastern_Asia.append(Country_Name[145])\n",
        "\n",
        "Eastern_Asia_sum =[]\n",
        "\n",
        "Eastern_Asia_sum.append(df[\"sum\"][29])\n",
        "Eastern_Asia_sum.append(df[\"sum\"][60])\n",
        "Eastern_Asia_sum.append(df[\"sum\"][72])\n",
        "Eastern_Asia_sum.append(df[\"sum\"][98])\n",
        "Eastern_Asia_sum.append(df[\"sum\"][135])\n",
        "Eastern_Asia_sum.append(df[\"sum\"][145])\n",
        "\n",
        "df102 = pd.DataFrame({'Eastern_Asia':Eastern_Asia,'Eastern_Asia_sum':Eastern_Asia_sum})\n",
        "\n",
        "ax102 = df102.plot.bar(x='Eastern_Asia', y='Eastern_Asia_sum', rot=90)"
      ],
      "execution_count": null,
      "outputs": [
        {
          "output_type": "display_data",
          "data": {
            "image/png": "[encoded data removed]",
            "text/plain": [
              "<Figure size 432x288 with 1 Axes>"
            ]
          },
          "metadata": {
            "tags": [],
            "needs_background": "light"
          }
        }
      ]
    },
    {
      "cell_type": "markdown",
      "metadata": {
        "id": "uBUIQ88a7i9w"
      },
      "source": [
        "Created a graph in order to compare the sum values of each country in Southern Asia."
      ]
    },
    {
      "cell_type": "code",
      "metadata": {
        "id": "vbDuaDw0irTb",
        "colab": {
          "base_uri": "https://localhost:8080/",
          "height": 330
        },
        "outputId": "baaf7897-5cfd-4a3f-921d-82778460d013"
      },
      "source": [
        "Southern_Asia = []\n",
        "\n",
        "Southern_Asia.append(Country_Name[0])\n",
        "Southern_Asia.append(Country_Name[10])\n",
        "Southern_Asia.append(Country_Name[15])\n",
        "Southern_Asia.append(Country_Name[63])\n",
        "Southern_Asia.append(Country_Name[65])\n",
        "Southern_Asia.append(Country_Name[91])\n",
        "Southern_Asia.append(Country_Name[104])\n",
        "Southern_Asia.append(Country_Name[113])\n",
        "Southern_Asia.append(Country_Name[138])\n",
        "\n",
        "Southern_Asia_sum =[]\n",
        "\n",
        "Southern_Asia_sum.append(df[\"sum\"][0])\n",
        "Southern_Asia_sum.append(df[\"sum\"][10])\n",
        "Southern_Asia_sum.append(df[\"sum\"][15])\n",
        "Southern_Asia_sum.append(df[\"sum\"][63])\n",
        "Southern_Asia_sum.append(df[\"sum\"][65])\n",
        "Southern_Asia_sum.append(df[\"sum\"][91])\n",
        "Southern_Asia_sum.append(df[\"sum\"][104])\n",
        "Southern_Asia_sum.append(df[\"sum\"][113])\n",
        "Southern_Asia_sum.append(df[\"sum\"][138])\n",
        "\n",
        "df103 = pd.DataFrame({'Southern_Asia':Southern_Asia,'Southern_Asia_sum':Southern_Asia_sum})\n",
        "\n",
        "ax103 = df103.plot.bar(x='Southern_Asia', y='Southern_Asia_sum', rot=90)"
      ],
      "execution_count": null,
      "outputs": [
        {
          "output_type": "display_data",
          "data": {
            "image/png": "[encoded data removed]",
            "text/plain": [
              "<Figure size 432x288 with 1 Axes>"
            ]
          },
          "metadata": {
            "tags": [],
            "needs_background": "light"
          }
        }
      ]
    },
    {
      "cell_type": "markdown",
      "metadata": {
        "id": "XEPo3rph7nFH"
      },
      "source": [
        "Created a graph in order to compare the sum values of each country in South Eastern Asia."
      ]
    },
    {
      "cell_type": "code",
      "metadata": {
        "id": "2uSclwlwj7-c",
        "colab": {
          "base_uri": "https://localhost:8080/",
          "height": 324
        },
        "outputId": "0dbe436e-4932-4734-bc8f-b855e622dd53"
      },
      "source": [
        "South_Eastern_Asia = []\n",
        "\n",
        "South_Eastern_Asia.append(Country_Name[23])\n",
        "South_Eastern_Asia.append(Country_Name[64])\n",
        "South_Eastern_Asia.append(Country_Name[79])\n",
        "South_Eastern_Asia.append(Country_Name[90])\n",
        "South_Eastern_Asia.append(Country_Name[102])\n",
        "South_Eastern_Asia.append(Country_Name[118])\n",
        "South_Eastern_Asia.append(Country_Name[129])\n",
        "South_Eastern_Asia.append(Country_Name[148])\n",
        "South_Eastern_Asia.append(Country_Name[162])\n",
        "\n",
        "South_Eastern_Asia_sum =[]\n",
        "\n",
        "South_Eastern_Asia_sum.append(df[\"sum\"][23])\n",
        "South_Eastern_Asia_sum.append(df[\"sum\"][64])\n",
        "South_Eastern_Asia_sum.append(df[\"sum\"][79])\n",
        "South_Eastern_Asia_sum.append(df[\"sum\"][90])\n",
        "South_Eastern_Asia_sum.append(df[\"sum\"][102])\n",
        "South_Eastern_Asia_sum.append(df[\"sum\"][118])\n",
        "South_Eastern_Asia_sum.append(df[\"sum\"][129])\n",
        "South_Eastern_Asia_sum.append(df[\"sum\"][148])\n",
        "South_Eastern_Asia_sum.append(df[\"sum\"][162])\n",
        "\n",
        "df104 = pd.DataFrame({'South_Eastern_Asia':South_Eastern_Asia,'South_Eastern_Asia_sum':South_Eastern_Asia_sum})\n",
        "\n",
        "ax104 = df104.plot.bar(x='South_Eastern_Asia', y='South_Eastern_Asia_sum', rot=90)"
      ],
      "execution_count": null,
      "outputs": [
        {
          "output_type": "display_data",
          "data": {
            "image/png": "[encoded data removed]",
            "text/plain": [
              "<Figure size 432x288 with 1 Axes>"
            ]
          },
          "metadata": {
            "tags": [],
            "needs_background": "light"
          }
        }
      ]
    },
    {
      "cell_type": "markdown",
      "metadata": {
        "id": "4WJxIVmU7x18"
      },
      "source": [
        "Created a graph in order to compare the sum values of each country in Western Asia."
      ]
    },
    {
      "cell_type": "code",
      "metadata": {
        "id": "vmXkc0wLkuDz",
        "colab": {
          "base_uri": "https://localhost:8080/",
          "height": 378
        },
        "outputId": "c09b4b9e-6c45-4424-c95d-602bf9f27239"
      },
      "source": [
        "Western_Asia = []\n",
        "\n",
        "Western_Asia.append(Country_Name[5])\n",
        "Western_Asia.append(Country_Name[8])\n",
        "Western_Asia.append(Country_Name[9])\n",
        "Western_Asia.append(Country_Name[37])\n",
        "Western_Asia.append(Country_Name[51])\n",
        "Western_Asia.append(Country_Name[66])\n",
        "Western_Asia.append(Country_Name[68])\n",
        "Western_Asia.append(Country_Name[73])\n",
        "Western_Asia.append(Country_Name[77])\n",
        "Western_Asia.append(Country_Name[81])\n",
        "Western_Asia.append(Country_Name[112])\n",
        "Western_Asia.append(Country_Name[121])\n",
        "Western_Asia.append(Country_Name[125])\n",
        "Western_Asia.append(Country_Name[114])\n",
        "Western_Asia.append(Country_Name[144])\n",
        "Western_Asia.append(Country_Name[110])\n",
        "Western_Asia.append(Country_Name[152])\n",
        "Western_Asia.append(Country_Name[156])\n",
        "Western_Asia.append(Country_Name[163])\n",
        "\n",
        "Western_Asia_sum =[]\n",
        "\n",
        "Western_Asia_sum.append(df[\"sum\"][5])\n",
        "Western_Asia_sum.append(df[\"sum\"][8])\n",
        "Western_Asia_sum.append(df[\"sum\"][9])\n",
        "Western_Asia_sum.append(df[\"sum\"][37])\n",
        "Western_Asia_sum.append(df[\"sum\"][51])\n",
        "Western_Asia_sum.append(df[\"sum\"][66])\n",
        "Western_Asia_sum.append(df[\"sum\"][68])\n",
        "Western_Asia_sum.append(df[\"sum\"][73])\n",
        "Western_Asia_sum.append(df[\"sum\"][77])\n",
        "Western_Asia_sum.append(df[\"sum\"][81])\n",
        "Western_Asia_sum.append(df[\"sum\"][112])\n",
        "Western_Asia_sum.append(df[\"sum\"][121])\n",
        "Western_Asia_sum.append(df[\"sum\"][125])\n",
        "Western_Asia_sum.append(df[\"sum\"][114])\n",
        "Western_Asia_sum.append(df[\"sum\"][144])\n",
        "Western_Asia_sum.append(df[\"sum\"][110])\n",
        "Western_Asia_sum.append(df[\"sum\"][152])\n",
        "Western_Asia_sum.append(df[\"sum\"][156])\n",
        "Western_Asia_sum.append(df[\"sum\"][163])\n",
        "\n",
        "\n",
        "df105 = pd.DataFrame({'Western_Asia':Western_Asia,'Western_Asia_sum':Western_Asia_sum})\n",
        "\n",
        "ax105 = df105.plot.bar(x='Western_Asia', y='Western_Asia_sum', rot=90)"
      ],
      "execution_count": null,
      "outputs": [
        {
          "output_type": "display_data",
          "data": {
            "image/png": "[encoded data removed]",
            "text/plain": [
              "<Figure size 432x288 with 1 Axes>"
            ]
          },
          "metadata": {
            "tags": [],
            "needs_background": "light"
          }
        }
      ]
    },
    {
      "cell_type": "markdown",
      "metadata": {
        "id": "WfidMK9872Qw"
      },
      "source": [
        "Created a graph in order to compare the sum values of each country in Ocenia."
      ]
    },
    {
      "cell_type": "code",
      "metadata": {
        "id": "xE6Si4YPmxdd",
        "colab": {
          "base_uri": "https://localhost:8080/",
          "height": 278
        },
        "outputId": "d2fce443-baf3-4e17-af43-5d68ec995b9f"
      },
      "source": [
        "Ocenia = []\n",
        "\n",
        "Ocenia.append(Country_Name[6])\n",
        "Ocenia.append(Country_Name[106])\n",
        "\n",
        "Ocenia_sum =[]\n",
        "\n",
        "Ocenia_sum.append(df[\"sum\"][6])\n",
        "Ocenia_sum.append(df[\"sum\"][106])\n",
        "\n",
        "df400 = pd.DataFrame({'Ocenia':Ocenia,'Ocenia_sum':Ocenia_sum})\n",
        "\n",
        "ax400 = df400.plot.bar(x='Ocenia', y='Ocenia_sum', rot=0)"
      ],
      "execution_count": null,
      "outputs": [
        {
          "output_type": "display_data",
          "data": {
            "image/png": "[encoded data removed]",
            "text/plain": [
              "<Figure size 432x288 with 1 Axes>"
            ]
          },
          "metadata": {
            "tags": [],
            "needs_background": "light"
          }
        }
      ]
    },
    {
      "cell_type": "markdown",
      "metadata": {
        "id": "L1MMX0_s75t_"
      },
      "source": [
        "Created a graph in order to compare the sum values of each country in Eastern Africa."
      ]
    },
    {
      "cell_type": "code",
      "metadata": {
        "id": "9orK2MFu2xWy",
        "colab": {
          "base_uri": "https://localhost:8080/",
          "height": 360
        },
        "outputId": "3cdeb439-73e6-4d37-baa0-35c1a61427dc"
      },
      "source": [
        "Eastern_Africa = []\n",
        "\n",
        "Eastern_Africa.append(Country_Name[164])\n",
        "Eastern_Africa.append(Country_Name[154])\n",
        "Eastern_Africa.append(Country_Name[132])\n",
        "Eastern_Africa.append(Country_Name[133])\n",
        "Eastern_Africa.append(Country_Name[88])\n",
        "Eastern_Africa.append(Country_Name[89])\n",
        "Eastern_Africa.append(Country_Name[124])\n",
        "Eastern_Africa.append(Country_Name[22])\n",
        "Eastern_Africa.append(Country_Name[147])\n",
        "Eastern_Africa.append(Country_Name[75])\n",
        "Eastern_Africa.append(Country_Name[46])\n",
        "Eastern_Africa.append(Country_Name[31])\n",
        "Eastern_Africa.append(Country_Name[40])\n",
        "Eastern_Africa.append(Country_Name[95])\n",
        "Eastern_Africa.append(Country_Name[101])\n",
        "Eastern_Africa.append(Country_Name[165])\n",
        "Eastern_Africa.append(Country_Name[136])\n",
        "\n",
        "Eastern_Africa_sum =[]\n",
        "\n",
        "Eastern_Africa_sum.append(df[\"sum\"][164])\n",
        "Eastern_Africa_sum.append(df[\"sum\"][154])\n",
        "Eastern_Africa_sum.append(df[\"sum\"][132])\n",
        "Eastern_Africa_sum.append(df[\"sum\"][133])\n",
        "Eastern_Africa_sum.append(df[\"sum\"][88])\n",
        "Eastern_Africa_sum.append(df[\"sum\"][89])\n",
        "Eastern_Africa_sum.append(df[\"sum\"][124])\n",
        "Eastern_Africa_sum.append(df[\"sum\"][22])\n",
        "Eastern_Africa_sum.append(df[\"sum\"][147])\n",
        "Eastern_Africa_sum.append(df[\"sum\"][75])\n",
        "Eastern_Africa_sum.append(df[\"sum\"][46])\n",
        "Eastern_Africa_sum.append(df[\"sum\"][31])\n",
        "Eastern_Africa_sum.append(df[\"sum\"][40])\n",
        "Eastern_Africa_sum.append(df[\"sum\"][95])\n",
        "Eastern_Africa_sum.append(df[\"sum\"][101])\n",
        "Eastern_Africa_sum.append(df[\"sum\"][165])\n",
        "Eastern_Africa_sum.append(df[\"sum\"][136])\n",
        "\n",
        "\n",
        "df400 = pd.DataFrame({'Eastern_Africa':Eastern_Africa,'Eastern_Africa_sum':Eastern_Africa_sum})\n",
        "\n",
        "ax400 = df400.plot.bar(x='Eastern_Africa', y='Eastern_Africa_sum', rot=90)"
      ],
      "execution_count": null,
      "outputs": [
        {
          "output_type": "display_data",
          "data": {
            "image/png": "[encoded data removed]",
            "text/plain": [
              "<Figure size 432x288 with 1 Axes>"
            ]
          },
          "metadata": {
            "tags": [],
            "needs_background": "light"
          }
        }
      ]
    },
    {
      "cell_type": "markdown",
      "metadata": {
        "id": "9yazNSi_7_YH"
      },
      "source": [
        "Created a graph in order to compare the sum values of each country in Western Africa."
      ]
    },
    {
      "cell_type": "code",
      "metadata": {
        "colab": {
          "base_uri": "https://localhost:8080/",
          "height": 334
        },
        "id": "0tuUQs2y5Wai",
        "outputId": "3609d572-9f29-4d0e-8f7c-d0374e73f3a4"
      },
      "source": [
        "Western_Africa = []\n",
        "\n",
        "Western_Africa.append(Country_Name[14])\n",
        "Western_Africa.append(Country_Name[21])\n",
        "Western_Africa.append(Country_Name[50])\n",
        "Western_Africa.append(Country_Name[53])\n",
        "Western_Africa.append(Country_Name[56])\n",
        "Western_Africa.append(Country_Name[83])\n",
        "Western_Africa.append(Country_Name[92])\n",
        "Western_Africa.append(Country_Name[94])\n",
        "Western_Africa.append(Country_Name[108])\n",
        "Western_Africa.append(Country_Name[109])\n",
        "Western_Africa.append(Country_Name[126])\n",
        "Western_Africa.append(Country_Name[128])\n",
        "Western_Africa.append(Country_Name[149])\n",
        "\n",
        "Western_Africa_sum =[]\n",
        "\n",
        "Western_Africa_sum.append(df[\"sum\"][14])\n",
        "Western_Africa_sum.append(df[\"sum\"][21])\n",
        "Western_Africa_sum.append(df[\"sum\"][50])\n",
        "Western_Africa_sum.append(df[\"sum\"][53])\n",
        "Western_Africa_sum.append(df[\"sum\"][56])\n",
        "Western_Africa_sum.append(df[\"sum\"][83])\n",
        "Western_Africa_sum.append(df[\"sum\"][92])\n",
        "Western_Africa_sum.append(df[\"sum\"][94])\n",
        "Western_Africa_sum.append(df[\"sum\"][108])\n",
        "Western_Africa_sum.append(df[\"sum\"][109])\n",
        "Western_Africa_sum.append(df[\"sum\"][126])\n",
        "Western_Africa_sum.append(df[\"sum\"][128])\n",
        "Western_Africa_sum.append(df[\"sum\"][149])\n",
        "\n",
        "\n",
        "\n",
        "df401 = pd.DataFrame({'Western_Africa':Western_Africa,'Western_Africa_sum':Western_Africa_sum})\n",
        "\n",
        "ax401 = df401.plot.bar(x='Western_Africa', y='Western_Africa_sum', rot=90)"
      ],
      "execution_count": null,
      "outputs": [
        {
          "output_type": "display_data",
          "data": {
            "image/png": "[encoded data removed]",
            "text/plain": [
              "<Figure size 432x288 with 1 Axes>"
            ]
          },
          "metadata": {
            "tags": [],
            "needs_background": "light"
          }
        }
      ]
    },
    {
      "cell_type": "markdown",
      "metadata": {
        "id": "fGd1qCBM8CvL"
      },
      "source": [
        "Created a graph in order to compare the sum values of each country in Central Africa."
      ]
    },
    {
      "cell_type": "code",
      "metadata": {
        "colab": {
          "base_uri": "https://localhost:8080/",
          "height": 391
        },
        "id": "teDivnWC7Mnz",
        "outputId": "3391de22-042f-4654-92e4-14e2f5573238"
      },
      "source": [
        "Central_Africa = []\n",
        "\n",
        "Central_Africa.append(Country_Name[27])\n",
        "Central_Africa.append(Country_Name[26])\n",
        "Central_Africa.append(Country_Name[24])\n",
        "Central_Africa.append(Country_Name[49])\n",
        "Central_Africa.append(Country_Name[32])\n",
        "Central_Africa.append(Country_Name[33])\n",
        "\n",
        "Central_Africa_sum = []\n",
        "\n",
        "Central_Africa_sum.append(df[\"sum\"][27])\n",
        "Central_Africa_sum.append(df[\"sum\"][26])\n",
        "Central_Africa_sum.append(df[\"sum\"][24])\n",
        "Central_Africa_sum.append(df[\"sum\"][49])\n",
        "Central_Africa_sum.append(df[\"sum\"][32])\n",
        "Central_Africa_sum.append(df[\"sum\"][33])\n",
        "\n",
        "df402 = pd.DataFrame({'Central_Africa':Central_Africa,'Central_Africa_sum':Central_Africa_sum})\n",
        "\n",
        "ax402 = df402.plot.bar(x='Central_Africa', y='Central_Africa_sum', rot=90)\n"
      ],
      "execution_count": null,
      "outputs": [
        {
          "output_type": "display_data",
          "data": {
            "image/png": "[encoded data removed]",
            "text/plain": [
              "<Figure size 432x288 with 1 Axes>"
            ]
          },
          "metadata": {
            "tags": [],
            "needs_background": "light"
          }
        }
      ]
    },
    {
      "cell_type": "markdown",
      "metadata": {
        "id": "WG6H2K6j8GJG"
      },
      "source": [
        "Created a graph in order to compare the sum values of each country in Northern Africa."
      ]
    },
    {
      "cell_type": "code",
      "metadata": {
        "colab": {
          "base_uri": "https://localhost:8080/",
          "height": 312
        },
        "id": "NbaXeoGn8AFM",
        "outputId": "b3d623e0-9e1d-47ea-8fe5-51178615372f"
      },
      "source": [
        "Northern_Africa = []\n",
        "\n",
        "Northern_Africa.append(Country_Name[2])\n",
        "Northern_Africa.append(Country_Name[43])\n",
        "Northern_Africa.append(Country_Name[84])\n",
        "Northern_Africa.append(Country_Name[100])\n",
        "Northern_Africa.append(Country_Name[151])\n",
        "Northern_Africa.append(Country_Name[3])\n",
        "Northern_Africa.append(Country_Name[139])\n",
        "\n",
        "Northern_Africa_sum = []\n",
        "\n",
        "Northern_Africa_sum.append(df[\"sum\"][2])\n",
        "Northern_Africa_sum.append(df[\"sum\"][43])\n",
        "Northern_Africa_sum.append(df[\"sum\"][84])\n",
        "Northern_Africa_sum.append(df[\"sum\"][100])\n",
        "Northern_Africa_sum.append(df[\"sum\"][151])\n",
        "Northern_Africa_sum.append(df[\"sum\"][3])\n",
        "Northern_Africa_sum.append(df[\"sum\"][139])\n",
        "\n",
        "df403 = pd.DataFrame({'Northern_Africa':Northern_Africa,'Northern_Africa_sum':Northern_Africa_sum})\n",
        "\n",
        "ax403 = df403.plot.bar(x='Northern_Africa', y='Northern_Africa_sum', rot=90)\n"
      ],
      "execution_count": null,
      "outputs": [
        {
          "output_type": "display_data",
          "data": {
            "image/png": "[encoded data removed]",
            "text/plain": [
              "<Figure size 432x288 with 1 Axes>"
            ]
          },
          "metadata": {
            "tags": [],
            "needs_background": "light"
          }
        }
      ]
    },
    {
      "cell_type": "markdown",
      "metadata": {
        "id": "75AQfpyU8KI4"
      },
      "source": [
        "Created a graph in order to compare the sum values of each country in Southern Africa."
      ]
    },
    {
      "cell_type": "code",
      "metadata": {
        "colab": {
          "base_uri": "https://localhost:8080/",
          "height": 280
        },
        "id": "QeKX2CkN9PcM",
        "outputId": "24db9e33-3f6a-4f81-e23f-bbca42c68eb1"
      },
      "source": [
        "Southern_Africa = []\n",
        "\n",
        "Southern_Africa.append(Country_Name[18])\n",
        "Southern_Africa.append(Country_Name[82])\n",
        "Southern_Africa.append(Country_Name[103])\n",
        "Southern_Africa.append(Country_Name[134])\n",
        "Southern_Africa.append(Country_Name[141])\n",
        "\n",
        "Southern_Africa_sum = []\n",
        "\n",
        "Southern_Africa_sum.append(df[\"sum\"][18])\n",
        "Southern_Africa_sum.append(df[\"sum\"][82])\n",
        "Southern_Africa_sum.append(df[\"sum\"][103])\n",
        "Southern_Africa_sum.append(df[\"sum\"][134])\n",
        "Southern_Africa_sum.append(df[\"sum\"][141])\n",
        "\n",
        "df404 = pd.DataFrame({'Southern_Africa':Southern_Africa,'Southern_Africa_sum':Southern_Africa_sum})\n",
        "\n",
        "ax404 = df404.plot.bar(x='Southern_Africa', y='Southern_Africa_sum', rot=0)"
      ],
      "execution_count": null,
      "outputs": [
        {
          "output_type": "display_data",
          "data": {
            "image/png": "[encoded data removed]",
            "text/plain": [
              "<Figure size 432x288 with 1 Axes>"
            ]
          },
          "metadata": {
            "tags": [],
            "needs_background": "light"
          }
        }
      ]
    },
    {
      "cell_type": "markdown",
      "metadata": {
        "id": "IuIPVTSa8PDj"
      },
      "source": [
        "Created a graph in order to compare the sum values of each country in North America."
      ]
    },
    {
      "cell_type": "code",
      "metadata": {
        "colab": {
          "base_uri": "https://localhost:8080/",
          "height": 280
        },
        "id": "VI8wQj_Z-AGc",
        "outputId": "b2f641ce-c2cb-46f1-b9b8-13fea810aed3"
      },
      "source": [
        "North_America = []\n",
        "\n",
        "North_America.append(Country_Name[158])\n",
        "North_America.append(Country_Name[25])\n",
        "\n",
        "North_America_sum = []\n",
        "\n",
        "North_America_sum.append(df[\"sum\"][158])\n",
        "North_America_sum.append(df[\"sum\"][25])\n",
        "\n",
        "df405 = pd.DataFrame({'North_America':North_America,'North_America_sum':North_America_sum})\n",
        "\n",
        "ax405 = df405.plot.bar(x='North_America', y='North_America_sum', rot=0)"
      ],
      "execution_count": null,
      "outputs": [
        {
          "output_type": "display_data",
          "data": {
            "image/png": "[encoded data removed]",
            "text/plain": [
              "<Figure size 432x288 with 1 Axes>"
            ]
          },
          "metadata": {
            "tags": [],
            "needs_background": "light"
          }
        }
      ]
    },
    {
      "cell_type": "markdown",
      "metadata": {
        "id": "iiwN_7wQ8wcO"
      },
      "source": [
        "Created a graph in order to compare the sum values of each country in Central America."
      ]
    },
    {
      "cell_type": "code",
      "metadata": {
        "colab": {
          "base_uri": "https://localhost:8080/",
          "height": 325
        },
        "id": "zLAXV_0q-dXb",
        "outputId": "06b71eed-352e-48e4-82b7-a44a62276961"
      },
      "source": [
        "Central_America = []\n",
        "\n",
        "Central_America.append(Country_Name[96])\n",
        "Central_America.append(Country_Name[13])\n",
        "Central_America.append(Country_Name[34])\n",
        "Central_America.append(Country_Name[44])\n",
        "Central_America.append(Country_Name[55])\n",
        "Central_America.append(Country_Name[59])\n",
        "Central_America.append(Country_Name[107])\n",
        "Central_America.append(Country_Name[115])\n",
        "\n",
        "Central_America_sum = []\n",
        "\n",
        "Central_America_sum.append(df[\"sum\"][96])\n",
        "Central_America_sum.append(df[\"sum\"][13])\n",
        "Central_America_sum.append(df[\"sum\"][34])\n",
        "Central_America_sum.append(df[\"sum\"][44])\n",
        "Central_America_sum.append(df[\"sum\"][55])\n",
        "Central_America_sum.append(df[\"sum\"][59])\n",
        "Central_America_sum.append(df[\"sum\"][107])\n",
        "Central_America_sum.append(df[\"sum\"][115])\n",
        "\n",
        "df406 = pd.DataFrame({'Central_America':Central_America,'Central_America_sum':Central_America_sum})\n",
        "\n",
        "ax406 = df406.plot.bar(x='Central_America', y='Central_America_sum', rot=90)"
      ],
      "execution_count": null,
      "outputs": [
        {
          "output_type": "display_data",
          "data": {
            "image/png": "[encoded data removed]",
            "text/plain": [
              "<Figure size 432x288 with 1 Axes>"
            ]
          },
          "metadata": {
            "tags": [],
            "needs_background": "light"
          }
        }
      ]
    },
    {
      "cell_type": "markdown",
      "metadata": {
        "id": "NUJbGVZk87rD"
      },
      "source": [
        "Created a graph in order to compare the sum values of each country in Latin America and Caribbean."
      ]
    },
    {
      "cell_type": "code",
      "metadata": {
        "colab": {
          "base_uri": "https://localhost:8080/",
          "height": 370
        },
        "id": "HnUR0qNmn7iv",
        "outputId": "040ea155-cdab-44c2-c0a1-de5fc9dec4c3"
      },
      "source": [
        "Latin_America_and_Caribbean = []\n",
        "Latin_America_and_Caribbean.append(Country_Name[36])\n",
        "Latin_America_and_Caribbean.append(Country_Name[41])\n",
        "Latin_America_and_Caribbean.append(Country_Name[58])\n",
        "Latin_America_and_Caribbean.append(Country_Name[71])\n",
        "Latin_America_and_Caribbean.append(Country_Name[150])\n",
        "\n",
        "Latin_America_and_Caribbean_sum =[]\n",
        "Latin_America_and_Caribbean_sum.append(df[\"sum\"][36])\n",
        "Latin_America_and_Caribbean_sum.append(df[\"sum\"][41])\n",
        "Latin_America_and_Caribbean_sum.append(df[\"sum\"][58])\n",
        "Latin_America_and_Caribbean_sum.append(df[\"sum\"][71])\n",
        "Latin_America_and_Caribbean_sum.append(df[\"sum\"][150])\n",
        "\n",
        "df100 = pd.DataFrame({'Latin_America_and_Caribbean':Latin_America_and_Caribbean,'Latin_America_and_Caribbean_sum':Latin_America_and_Caribbean_sum})\n",
        "\n",
        "ax100 = df100.plot.bar(x='Latin_America_and_Caribbean', y='Latin_America_and_Caribbean_sum', rot=90)"
      ],
      "execution_count": null,
      "outputs": [
        {
          "output_type": "display_data",
          "data": {
            "image/png": "[encoded data removed]",
            "text/plain": [
              "<Figure size 432x288 with 1 Axes>"
            ]
          },
          "metadata": {
            "tags": [],
            "needs_background": "light"
          }
        }
      ]
    },
    {
      "cell_type": "markdown",
      "metadata": {
        "id": "fGKp-rukivGx"
      },
      "source": [
        "### Visualizations Descriptive Statistics of Core Dataset 2"
      ]
    },
    {
      "cell_type": "markdown",
      "metadata": {
        "id": "1k0DlCXEIHnL"
      },
      "source": [
        "In the code piece below, we read our second dataset (from United Nations International Migration) and since some of the lines are not necessary we drop them from the start. We also collect the names of the countries in this dataset by creating a list named Country_Names."
      ]
    },
    {
      "cell_type": "code",
      "metadata": {
        "colab": {
          "base_uri": "https://localhost:8080/"
        },
        "id": "rE5J9EAJOq9Y",
        "outputId": "73da8f2f-25fc-4cb2-b819-957bd90a73cf"
      },
      "source": [
        "df2 = pd.read_excel(\"/content/UN_MigrantStockTotal_2017.xlsx\",sheet_name=5,header=15,usecols=\"B,I:K\")\n",
        "for i in range (0,13):\n",
        "  df2 = df2.drop(i)\n",
        "\n",
        "Country_Names = []\n",
        "for i in range(13,270):\n",
        "  if df2[\"Unnamed: 1\"][i] not in Country_Names:\n",
        "    Country_Names.append(df2[\"Unnamed: 1\"][i])\n",
        "\n",
        "print(df2)"
      ],
      "execution_count": null,
      "outputs": [
        {
          "output_type": "stream",
          "text": [
            "                    Unnamed: 1 2005-2010  2010-2015  2015-2017\n",
            "13                     Burundi   6.16248   4.170770   1.655962\n",
            "14                     Comoros -0.915481  -0.100107   0.000000\n",
            "15                    Djibouti    1.9604   2.016609   1.636462\n",
            "16                     Eritrea   1.81786   0.335271   0.312677\n",
            "17                    Ethiopia   1.97869  14.335303   2.702524\n",
            "..                         ...       ...        ...        ...\n",
            "265                      Samoa  -2.29918  -0.768177  -0.509792\n",
            "266                    Tokelau   10.1699   2.536144   1.715607\n",
            "267                      Tonga   1.29629   1.217363   0.763063\n",
            "268                     Tuvalu  -3.45067  -1.763854   0.704237\n",
            "269  Wallis and Futuna Islands   3.20466   0.519140  -1.243845\n",
            "\n",
            "[257 rows x 4 columns]\n"
          ],
          "name": "stdout"
        }
      ]
    },
    {
      "cell_type": "markdown",
      "metadata": {
        "id": "QynT7XRmInZ-"
      },
      "source": [
        "In the dataset, there are some datas missing and they are shown as \"..\". In order for our code to work properly we replaced them with NaN."
      ]
    },
    {
      "cell_type": "code",
      "metadata": {
        "id": "kftMdWRXBcN0"
      },
      "source": [
        "df2 = df2.replace(to_replace =\"..\", value = np.nan)"
      ],
      "execution_count": null,
      "outputs": []
    },
    {
      "cell_type": "markdown",
      "metadata": {
        "id": "HpovhwZqJD1-"
      },
      "source": [
        "Our second data has information about migration from/toward countries between the years 2005 and 2017. In order for us to have a general idea, we take the average of the values for every country."
      ]
    },
    {
      "cell_type": "code",
      "metadata": {
        "colab": {
          "base_uri": "https://localhost:8080/"
        },
        "id": "FOpOUDYAaS4s",
        "outputId": "a378d014-95ac-4c30-db62-ddefc52998bd"
      },
      "source": [
        "df2[\"avr\"] = df2.sum(axis=1)/3\n",
        "\n",
        "print(df2)"
      ],
      "execution_count": null,
      "outputs": [
        {
          "output_type": "stream",
          "text": [
            "                    Unnamed: 1  2005-2010  2010-2015  2015-2017       avr\n",
            "13                     Burundi   6.162481   4.170770   1.655962  3.996404\n",
            "14                     Comoros  -0.915481  -0.100107   0.000000 -0.338529\n",
            "15                    Djibouti   1.960404   2.016609   1.636462  1.871159\n",
            "16                     Eritrea   1.817856   0.335271   0.312677  0.821934\n",
            "17                    Ethiopia   1.978687  14.335303   2.702524  6.338838\n",
            "..                         ...        ...        ...        ...       ...\n",
            "265                      Samoa  -2.299179  -0.768177  -0.509792 -1.192383\n",
            "266                    Tokelau  10.169947   2.536144   1.715607  4.807233\n",
            "267                      Tonga   1.296292   1.217363   0.763063  1.092239\n",
            "268                     Tuvalu  -3.450671  -1.763854   0.704237 -1.503429\n",
            "269  Wallis and Futuna Islands   3.204660   0.519140  -1.243845  0.826652\n",
            "\n",
            "[257 rows x 5 columns]\n"
          ],
          "name": "stdout"
        }
      ]
    },
    {
      "cell_type": "markdown",
      "metadata": {
        "id": "SqBmGUpBTAkG"
      },
      "source": [
        "We created lists named Migrant_Value, Y20052010, Y20102015 and Y20152017 to store the values in order to use them in latter stages."
      ]
    },
    {
      "cell_type": "code",
      "metadata": {
        "id": "iSgvIFXxOJ28"
      },
      "source": [
        "Migrant_Value = []\n",
        "for i in range(13,270):\n",
        "  Migrant_Value.append(df2[\"avr\"][i])\n",
        "\n",
        "Y20052010 = []\n",
        "for i in range(13,270):\n",
        "  Y20052010.append(df2[\"2005-2010\"][i])\n",
        "\n",
        "Y20102015 = []\n",
        "for i in range(13,270):\n",
        "  Y20102015.append(df2[\"2010-2015\"][i])\n",
        "\n",
        "Y20152017 = []\n",
        "for i in range(13,270):\n",
        "  Y20152017.append(df2[\"2015-2017\"][i])"
      ],
      "execution_count": null,
      "outputs": []
    },
    {
      "cell_type": "markdown",
      "metadata": {
        "id": "P54yc3YlTQ4j"
      },
      "source": [
        "Since in some rows the data include regions of the continents we removed them."
      ]
    },
    {
      "cell_type": "code",
      "metadata": {
        "id": "oCswRrLcRMyV"
      },
      "source": [
        "df2 = df2.drop(33)\n",
        "df2 = df2.drop(43)\n",
        "df2 = df2.drop(51)\n",
        "df2 = df2.drop(57)\n",
        "df2 = df2.drop(75)\n",
        "df2 = df2.drop(76)\n",
        "df2 = df2.drop(82)\n",
        "df2 = df2.drop(90)\n",
        "df2 = df2.drop(100)\n",
        "df2 = df2.drop(112)\n",
        "df2 = df2.drop(131)\n",
        "df2 = df2.drop(132)\n",
        "df2 = df2.drop(143)\n",
        "df2 = df2.drop(157)\n",
        "df2 = df2.drop(174)\n",
        "df2 = df2.drop(184)\n",
        "df2 = df2.drop(185)\n",
        "df2 = df2.drop(212)\n",
        "df2 = df2.drop(221)\n",
        "df2 = df2.drop(236)\n",
        "df2 = df2.drop(242)\n",
        "df2 = df2.drop(243)\n",
        "df2 = df2.drop(246)\n",
        "df2 = df2.drop(252)\n",
        "df2 = df2.drop(260)"
      ],
      "execution_count": null,
      "outputs": []
    },
    {
      "cell_type": "markdown",
      "metadata": {
        "id": "XVhFetX6Ttn_"
      },
      "source": [
        "We sorted our data by average values inorder to find the three most countries who has the most migrated from/toward rates."
      ]
    },
    {
      "cell_type": "code",
      "metadata": {
        "colab": {
          "base_uri": "https://localhost:8080/"
        },
        "id": "js9XESaSU9vm",
        "outputId": "081dc6fc-213e-427b-93bb-cd78099bacee"
      },
      "source": [
        "df2 = df2.sort_values(by=['avr'])\n",
        "\n",
        "print(df2)"
      ],
      "execution_count": null,
      "outputs": [
        {
          "output_type": "stream",
          "text": [
            "                Unnamed: 1  2005-2010  2010-2015  2015-2017        avr\n",
            "91             Afghanistan   3.160624  31.330227 -64.947647 -10.152265\n",
            "192  Caribbean Netherlands -29.128158   2.551005   1.908946  -8.222736\n",
            "113                Armenia -15.003261  -2.947573  -0.125681  -6.025505\n",
            "64                  Guinea  -5.092285  -6.848632  -1.440814  -4.460577\n",
            "153              Lithuania  -4.487139  -3.343559  -4.342516  -4.057738\n",
            "..                     ...        ...        ...        ...        ...\n",
            "139                Romania   2.697924  10.515579  13.850530   9.021344\n",
            "29                  Uganda  -4.204746  16.328364  17.301421   9.808346\n",
            "128                 Turkey   0.711813  22.118984   8.347770  10.392855\n",
            "34                  Angola   4.433565  42.224799   0.497455  15.718606\n",
            "40       Equatorial Guinea   5.464679  63.735394   2.840783  24.013618\n",
            "\n",
            "[232 rows x 5 columns]\n"
          ],
          "name": "stdout"
        }
      ]
    },
    {
      "cell_type": "markdown",
      "metadata": {
        "id": "T9_-KTCWgbFt"
      },
      "source": [
        "### Analysis of Migration Patterns of Country with its Happiness Metrics Over Time"
      ]
    },
    {
      "cell_type": "markdown",
      "metadata": {
        "id": "-a9seiq0_ZlK"
      },
      "source": [
        "We created a dataframe consisting of the countries in both the first core dataset and the second core dataset. This dataset contains the migration ratio of countries between the years 2005-2010, 2010-2015 and 2015-2017 and the happiness value."
      ]
    },
    {
      "cell_type": "code",
      "metadata": {
        "id": "bIpr8uFcUho5",
        "colab": {
          "base_uri": "https://localhost:8080/"
        },
        "outputId": "6d2df389-ab6d-49d0-8aee-6ebe49909a56"
      },
      "source": [
        "xxxtotal_country = []\n",
        "total_happiness = []\n",
        "YY20052010 = []\n",
        "total_percent_migrant = []\n",
        "YY20102015 = []\n",
        "YY20152017 = []\n",
        "\n",
        "\n",
        "for i in range (len(Country_Name)):\n",
        "  for k in range (len(Country_Names)):\n",
        "    if Country_Name[i] == Country_Names[k]:\n",
        "          xxxtotal_country.append(Country_Name[i])\n",
        "          total_happiness.append(Happiness_Sum[i])\n",
        "          total_percent_migrant.append(Migrant_Value[k])\n",
        "          YY20052010.append(Y20052010[k])\n",
        "          YY20102015.append(Y20102015[k])\n",
        "          YY20152017.append(Y20152017[k])\n",
        "\n",
        "\n",
        "df1000 = pd.DataFrame({'xxxtotal_country':xxxtotal_country, 'YY20052010':YY20052010, 'YY20102015':YY20102015, 'YY20152017':YY20152017, 'total_percent_migrant':total_percent_migrant, 'total_happiness':total_happiness})\n",
        "\n",
        "print(df1000)"
      ],
      "execution_count": null,
      "outputs": [
        {
          "output_type": "stream",
          "text": [
            "    xxxtotal_country  YY20052010  ...  total_percent_migrant  total_happiness\n",
            "0        Afghanistan    3.160624  ...             -10.152265        63.792171\n",
            "1            Albania   -4.083114  ...              -1.312350        85.964210\n",
            "2            Algeria    1.887757  ...               1.912331        82.043250\n",
            "3             Angola    4.433565  ...              15.718606        69.175770\n",
            "4          Argentina    1.528392  ...               2.084937        88.990971\n",
            "..               ...         ...  ...                    ...              ...\n",
            "139          Uruguay   -1.528038  ...              -0.125632        91.565477\n",
            "140       Uzbekistan   -1.714267  ...              -1.013602        81.051540\n",
            "141            Yemen   10.266627  ...               5.511646        68.393174\n",
            "142           Zambia  -10.483691  ...              -3.075620        69.052716\n",
            "143         Zimbabwe    0.262999  ...               0.187033        63.530274\n",
            "\n",
            "[144 rows x 6 columns]\n"
          ],
          "name": "stdout"
        }
      ]
    },
    {
      "cell_type": "markdown",
      "metadata": {
        "id": "ehstw6jVAXRB"
      },
      "source": [
        "We displayed the dataframe inorder to compare the migration ratio change of countries with least happiness value and most happiness value through out 2005 and 2017."
      ]
    },
    {
      "cell_type": "code",
      "metadata": {
        "colab": {
          "base_uri": "https://localhost:8080/",
          "height": 414
        },
        "id": "zj5cn02zXO7D",
        "outputId": "3acd6fb8-1f70-4de4-96f9-76f0632ad9bb"
      },
      "source": [
        "df1000 = df1000.sort_values(by=['total_happiness'])\n",
        "display(df1000)"
      ],
      "execution_count": null,
      "outputs": [
        {
          "output_type": "display_data",
          "data": {
            "text/html": [
              "<div>\n",
              "<style scoped>\n",
              "    .dataframe tbody tr th:only-of-type {\n",
              "        vertical-align: middle;\n",
              "    }\n",
              "\n",
              "    .dataframe tbody tr th {\n",
              "        vertical-align: top;\n",
              "    }\n",
              "\n",
              "    .dataframe thead th {\n",
              "        text-align: right;\n",
              "    }\n",
              "</style>\n",
              "<table border=\"1\" class=\"dataframe\">\n",
              "  <thead>\n",
              "    <tr style=\"text-align: right;\">\n",
              "      <th></th>\n",
              "      <th>xxxtotal_country</th>\n",
              "      <th>YY20052010</th>\n",
              "      <th>YY20102015</th>\n",
              "      <th>YY20152017</th>\n",
              "      <th>total_percent_migrant</th>\n",
              "      <th>total_happiness</th>\n",
              "    </tr>\n",
              "  </thead>\n",
              "  <tbody>\n",
              "    <tr>\n",
              "      <th>118</th>\n",
              "      <td>Somalia</td>\n",
              "      <td>2.983242</td>\n",
              "      <td>10.994514</td>\n",
              "      <td>3.807683</td>\n",
              "      <td>5.928480</td>\n",
              "      <td>54.995223</td>\n",
              "    </tr>\n",
              "    <tr>\n",
              "      <th>25</th>\n",
              "      <td>Central African Republic</td>\n",
              "      <td>-0.209245</td>\n",
              "      <td>-2.715860</td>\n",
              "      <td>4.214453</td>\n",
              "      <td>0.429783</td>\n",
              "      <td>55.881946</td>\n",
              "    </tr>\n",
              "    <tr>\n",
              "      <th>26</th>\n",
              "      <td>Chad</td>\n",
              "      <td>3.381933</td>\n",
              "      <td>4.301541</td>\n",
              "      <td>-2.710422</td>\n",
              "      <td>1.657684</td>\n",
              "      <td>59.203591</td>\n",
              "    </tr>\n",
              "    <tr>\n",
              "      <th>54</th>\n",
              "      <td>Haiti</td>\n",
              "      <td>2.832763</td>\n",
              "      <td>2.374390</td>\n",
              "      <td>1.254094</td>\n",
              "      <td>2.153749</td>\n",
              "      <td>60.905987</td>\n",
              "    </tr>\n",
              "    <tr>\n",
              "      <th>114</th>\n",
              "      <td>Sierra Leone</td>\n",
              "      <td>-8.574108</td>\n",
              "      <td>-1.323250</td>\n",
              "      <td>2.164329</td>\n",
              "      <td>-2.577676</td>\n",
              "      <td>60.991255</td>\n",
              "    </tr>\n",
              "    <tr>\n",
              "      <th>...</th>\n",
              "      <td>...</td>\n",
              "      <td>...</td>\n",
              "      <td>...</td>\n",
              "      <td>...</td>\n",
              "      <td>...</td>\n",
              "      <td>...</td>\n",
              "    </tr>\n",
              "    <tr>\n",
              "      <th>24</th>\n",
              "      <td>Canada</td>\n",
              "      <td>2.127330</td>\n",
              "      <td>2.236582</td>\n",
              "      <td>1.945461</td>\n",
              "      <td>2.103124</td>\n",
              "      <td>99.737216</td>\n",
              "    </tr>\n",
              "    <tr>\n",
              "      <th>126</th>\n",
              "      <td>Sweden</td>\n",
              "      <td>3.442067</td>\n",
              "      <td>3.619806</td>\n",
              "      <td>4.336386</td>\n",
              "      <td>3.799420</td>\n",
              "      <td>99.743866</td>\n",
              "    </tr>\n",
              "    <tr>\n",
              "      <th>99</th>\n",
              "      <td>Norway</td>\n",
              "      <td>7.550846</td>\n",
              "      <td>6.968182</td>\n",
              "      <td>3.403135</td>\n",
              "      <td>5.974054</td>\n",
              "      <td>99.967169</td>\n",
              "    </tr>\n",
              "    <tr>\n",
              "      <th>115</th>\n",
              "      <td>Singapore</td>\n",
              "      <td>4.709691</td>\n",
              "      <td>3.225403</td>\n",
              "      <td>1.543869</td>\n",
              "      <td>3.159654</td>\n",
              "      <td>100.436435</td>\n",
              "    </tr>\n",
              "    <tr>\n",
              "      <th>127</th>\n",
              "      <td>Switzerland</td>\n",
              "      <td>2.784924</td>\n",
              "      <td>3.044550</td>\n",
              "      <td>1.828436</td>\n",
              "      <td>2.552637</td>\n",
              "      <td>100.783091</td>\n",
              "    </tr>\n",
              "  </tbody>\n",
              "</table>\n",
              "<p>144 rows × 6 columns</p>\n",
              "</div>"
            ],
            "text/plain": [
              "             xxxtotal_country  ...  total_happiness\n",
              "118                   Somalia  ...        54.995223\n",
              "25   Central African Republic  ...        55.881946\n",
              "26                       Chad  ...        59.203591\n",
              "54                      Haiti  ...        60.905987\n",
              "114              Sierra Leone  ...        60.991255\n",
              "..                        ...  ...              ...\n",
              "24                     Canada  ...        99.737216\n",
              "126                    Sweden  ...        99.743866\n",
              "99                     Norway  ...        99.967169\n",
              "115                 Singapore  ...       100.436435\n",
              "127               Switzerland  ...       100.783091\n",
              "\n",
              "[144 rows x 6 columns]"
            ]
          },
          "metadata": {
            "tags": []
          }
        }
      ]
    },
    {
      "cell_type": "markdown",
      "metadata": {
        "id": "zgtFTsLTik1U"
      },
      "source": [
        "### Spatial and Temporal Analysis of Core Dataset 2"
      ]
    },
    {
      "cell_type": "markdown",
      "metadata": {
        "id": "ZZVClQUgT3Wu"
      },
      "source": [
        "Below is all the numeric data we collected for each category to have a general perspective of the world."
      ]
    },
    {
      "cell_type": "code",
      "metadata": {
        "colab": {
          "base_uri": "https://localhost:8080/",
          "height": 294
        },
        "id": "AXG0vdTY1iVD",
        "outputId": "3c64c59a-81bd-4865-8678-10ba9800189d"
      },
      "source": [
        "df2.describe()"
      ],
      "execution_count": null,
      "outputs": [
        {
          "output_type": "execute_result",
          "data": {
            "text/html": [
              "<div>\n",
              "<style scoped>\n",
              "    .dataframe tbody tr th:only-of-type {\n",
              "        vertical-align: middle;\n",
              "    }\n",
              "\n",
              "    .dataframe tbody tr th {\n",
              "        vertical-align: top;\n",
              "    }\n",
              "\n",
              "    .dataframe thead th {\n",
              "        text-align: right;\n",
              "    }\n",
              "</style>\n",
              "<table border=\"1\" class=\"dataframe\">\n",
              "  <thead>\n",
              "    <tr style=\"text-align: right;\">\n",
              "      <th></th>\n",
              "      <th>2005-2010</th>\n",
              "      <th>2010-2015</th>\n",
              "      <th>2015-2017</th>\n",
              "      <th>avr</th>\n",
              "    </tr>\n",
              "  </thead>\n",
              "  <tbody>\n",
              "    <tr>\n",
              "      <th>count</th>\n",
              "      <td>229.000000</td>\n",
              "      <td>232.000000</td>\n",
              "      <td>232.000000</td>\n",
              "      <td>232.000000</td>\n",
              "    </tr>\n",
              "    <tr>\n",
              "      <th>mean</th>\n",
              "      <td>1.735155</td>\n",
              "      <td>2.726501</td>\n",
              "      <td>0.939750</td>\n",
              "      <td>1.792990</td>\n",
              "    </tr>\n",
              "    <tr>\n",
              "      <th>std</th>\n",
              "      <td>4.708730</td>\n",
              "      <td>6.719993</td>\n",
              "      <td>5.010139</td>\n",
              "      <td>3.244414</td>\n",
              "    </tr>\n",
              "    <tr>\n",
              "      <th>min</th>\n",
              "      <td>-29.128158</td>\n",
              "      <td>-11.711226</td>\n",
              "      <td>-64.947647</td>\n",
              "      <td>-10.152265</td>\n",
              "    </tr>\n",
              "    <tr>\n",
              "      <th>25%</th>\n",
              "      <td>-0.169636</td>\n",
              "      <td>0.245861</td>\n",
              "      <td>0.264187</td>\n",
              "      <td>0.158682</td>\n",
              "    </tr>\n",
              "    <tr>\n",
              "      <th>50%</th>\n",
              "      <td>1.789480</td>\n",
              "      <td>1.230259</td>\n",
              "      <td>0.988064</td>\n",
              "      <td>1.457186</td>\n",
              "    </tr>\n",
              "    <tr>\n",
              "      <th>75%</th>\n",
              "      <td>3.775446</td>\n",
              "      <td>3.079904</td>\n",
              "      <td>1.920907</td>\n",
              "      <td>2.914868</td>\n",
              "    </tr>\n",
              "    <tr>\n",
              "      <th>max</th>\n",
              "      <td>16.257842</td>\n",
              "      <td>63.735394</td>\n",
              "      <td>17.301421</td>\n",
              "      <td>24.013618</td>\n",
              "    </tr>\n",
              "  </tbody>\n",
              "</table>\n",
              "</div>"
            ],
            "text/plain": [
              "        2005-2010   2010-2015   2015-2017         avr\n",
              "count  229.000000  232.000000  232.000000  232.000000\n",
              "mean     1.735155    2.726501    0.939750    1.792990\n",
              "std      4.708730    6.719993    5.010139    3.244414\n",
              "min    -29.128158  -11.711226  -64.947647  -10.152265\n",
              "25%     -0.169636    0.245861    0.264187    0.158682\n",
              "50%      1.789480    1.230259    0.988064    1.457186\n",
              "75%      3.775446    3.079904    1.920907    2.914868\n",
              "max     16.257842   63.735394   17.301421   24.013618"
            ]
          },
          "metadata": {
            "tags": []
          },
          "execution_count": 38
        }
      ]
    },
    {
      "cell_type": "markdown",
      "metadata": {
        "id": "jJlKGYDaVZe1"
      },
      "source": [
        "We created a box plot for the average that we find."
      ]
    },
    {
      "cell_type": "code",
      "metadata": {
        "colab": {
          "base_uri": "https://localhost:8080/",
          "height": 282
        },
        "id": "ry2NW8D1g_E4",
        "outputId": "0d606f43-5454-4a0c-fd98-a4fc768287f5"
      },
      "source": [
        "df2.boxplot(column=[\"avr\"])"
      ],
      "execution_count": null,
      "outputs": [
        {
          "output_type": "execute_result",
          "data": {
            "text/plain": [
              "<matplotlib.axes._subplots.AxesSubplot at 0x7f40c37b0ad0>"
            ]
          },
          "metadata": {
            "tags": []
          },
          "execution_count": 39
        },
        {
          "output_type": "display_data",
          "data": {
            "image/png": "[encoded data removed]",
            "text/plain": [
              "<Figure size 432x288 with 1 Axes>"
            ]
          },
          "metadata": {
            "tags": [],
            "needs_background": "light"
          }
        }
      ]
    },
    {
      "cell_type": "markdown",
      "metadata": {
        "id": "m7O5NL7rBM-5"
      },
      "source": [
        "### Visualizations Descriptive Statistics of Additional Dataset 1"
      ]
    },
    {
      "cell_type": "markdown",
      "metadata": {
        "id": "XCguY5qmVsq9"
      },
      "source": [
        "In the code piece below, we read our third dataset (from United Nations Intentional Homicides and Other Crimes) and since some of the lines are not necessary we drop them from the start."
      ]
    },
    {
      "cell_type": "code",
      "metadata": {
        "colab": {
          "base_uri": "https://localhost:8080/"
        },
        "id": "xr4sCPeriMKf",
        "outputId": "595413c3-4ec9-4672-8a96-6270b7579d5f"
      },
      "source": [
        "df3 = pd.read_excel(\"/content/SYB63_328_202009_Intentional_Homicides_and_Other_Crimes.xlsx\",header = 2,usecols=\"B:E\")\n",
        "for i in range (0,174):\n",
        "  df3 = df3.drop(i)\n",
        "\n",
        "print(df3)"
      ],
      "execution_count": null,
      "outputs": [
        {
          "output_type": "stream",
          "text": [
            "     Region/Country/Area.1  ...     Value\n",
            "174            Afghanistan  ...    3.3681\n",
            "175            Afghanistan  ...    6.6784\n",
            "176            Afghanistan  ...   12.2829\n",
            "177            Afghanistan  ...    0.7538\n",
            "178                Albania  ...    4.9890\n",
            "...                    ...  ...       ...\n",
            "3727              Zimbabwe  ...  413.9500\n",
            "3728              Zimbabwe  ...    1.7930\n",
            "3729              Zimbabwe  ...  738.7400\n",
            "3730              Zimbabwe  ...    5.5994\n",
            "3731              Zimbabwe  ...    7.4799\n",
            "\n",
            "[3558 rows x 4 columns]\n"
          ],
          "name": "stdout"
        }
      ]
    },
    {
      "cell_type": "markdown",
      "metadata": {
        "id": "Tifi4PQRWgXc"
      },
      "source": [
        "We created a list named Country_Namess in order to store the countries in this data and we droped the every crime instead of intentional homicide data from year 2005 and above."
      ]
    },
    {
      "cell_type": "code",
      "metadata": {
        "colab": {
          "base_uri": "https://localhost:8080/"
        },
        "id": "4oOJ1GSzwXwB",
        "outputId": "46263549-da05-4187-ddff-cb1636efcf3d"
      },
      "source": [
        "Country_Namess = []\n",
        "for i in range(174,3732):\n",
        "  if df3.Series[i] != 'Intentional homicide rates per 100,000' or df3.Year[i]<2005:\n",
        "    df3 = df3.drop(i)\n",
        "  elif df3[\"Region/Country/Area.1\"][i] not in Country_Namess:\n",
        "    Country_Namess.append(df3[\"Region/Country/Area.1\"][i]) \n",
        "\n",
        "print(df3)"
      ],
      "execution_count": null,
      "outputs": [
        {
          "output_type": "stream",
          "text": [
            "     Region/Country/Area.1  ...    Value\n",
            "174            Afghanistan  ...   3.3681\n",
            "175            Afghanistan  ...   6.6784\n",
            "178                Albania  ...   4.9890\n",
            "184                Albania  ...   4.3080\n",
            "192                Albania  ...   2.7369\n",
            "...                    ...  ...      ...\n",
            "3721                Zambia  ...   5.9827\n",
            "3722                Zambia  ...   5.3717\n",
            "3723              Zimbabwe  ...  11.1786\n",
            "3730              Zimbabwe  ...   5.5994\n",
            "3731              Zimbabwe  ...   7.4799\n",
            "\n",
            "[689 rows x 4 columns]\n"
          ],
          "name": "stdout"
        }
      ]
    },
    {
      "cell_type": "markdown",
      "metadata": {
        "id": "oHNxdlrIZ_Sc"
      },
      "source": [
        "Since some of the countries have multiple intentional homicide rates for different years we merged them by finding their mean and get rid of the year column."
      ]
    },
    {
      "cell_type": "code",
      "metadata": {
        "colab": {
          "base_uri": "https://localhost:8080/"
        },
        "id": "Utsv7OhP0x-4",
        "outputId": "df8e168f-4f2c-441b-c188-607ff3b28d6f"
      },
      "source": [
        "df3 = df3.groupby(\"Region/Country/Area.1\").mean()\n",
        "df3 = df3.drop(\"Year\", axis = 1)\n",
        "\n",
        "print(df3)"
      ],
      "execution_count": null,
      "outputs": [
        {
          "output_type": "stream",
          "text": [
            "                                Value\n",
            "Region/Country/Area.1                \n",
            "Afghanistan                  5.023250\n",
            "Albania                      3.511225\n",
            "Algeria                      0.895233\n",
            "American Samoa               8.123933\n",
            "Andorra                      0.000000\n",
            "...                               ...\n",
            "Venezuela (Boliv. Rep. of)  44.521500\n",
            "Viet Nam                     1.434300\n",
            "Yemen                        5.153750\n",
            "Zambia                       5.677200\n",
            "Zimbabwe                     8.085967\n",
            "\n",
            "[203 rows x 1 columns]\n"
          ],
          "name": "stdout"
        }
      ]
    },
    {
      "cell_type": "markdown",
      "metadata": {
        "id": "wsdOab1Fasqy"
      },
      "source": [
        "In the code piece below, we created a list named Homicide_Value with Value values inside inorder to create a graph of countries and their intentional homicide rates.\n"
      ]
    },
    {
      "cell_type": "code",
      "metadata": {
        "id": "EfCH5X7H1Zwq"
      },
      "source": [
        "Homicide_Value = []\n",
        "\n",
        "for i in range(203):\n",
        "  Homicide_Value.append(df3[\"Value\"][i])\n"
      ],
      "execution_count": null,
      "outputs": []
    },
    {
      "cell_type": "markdown",
      "metadata": {
        "id": "Tgv7L_ALBkpu"
      },
      "source": [
        "### Spatial and Temporal Analysis of Additional Dataset 1"
      ]
    },
    {
      "cell_type": "markdown",
      "metadata": {
        "id": "AN8KFRqtaZTt"
      },
      "source": [
        "Below is all the numeric data of column value to have a general perspective of the world."
      ]
    },
    {
      "cell_type": "code",
      "metadata": {
        "colab": {
          "base_uri": "https://localhost:8080/",
          "height": 294
        },
        "id": "50dDcTFV1l5e",
        "outputId": "0e5426c0-d51f-4666-c7fa-805012295127"
      },
      "source": [
        "df3.describe()"
      ],
      "execution_count": null,
      "outputs": [
        {
          "output_type": "execute_result",
          "data": {
            "text/html": [
              "<div>\n",
              "<style scoped>\n",
              "    .dataframe tbody tr th:only-of-type {\n",
              "        vertical-align: middle;\n",
              "    }\n",
              "\n",
              "    .dataframe tbody tr th {\n",
              "        vertical-align: top;\n",
              "    }\n",
              "\n",
              "    .dataframe thead th {\n",
              "        text-align: right;\n",
              "    }\n",
              "</style>\n",
              "<table border=\"1\" class=\"dataframe\">\n",
              "  <thead>\n",
              "    <tr style=\"text-align: right;\">\n",
              "      <th></th>\n",
              "      <th>Value</th>\n",
              "    </tr>\n",
              "  </thead>\n",
              "  <tbody>\n",
              "    <tr>\n",
              "      <th>count</th>\n",
              "      <td>203.000000</td>\n",
              "    </tr>\n",
              "    <tr>\n",
              "      <th>mean</th>\n",
              "      <td>7.747045</td>\n",
              "    </tr>\n",
              "    <tr>\n",
              "      <th>std</th>\n",
              "      <td>11.240872</td>\n",
              "    </tr>\n",
              "    <tr>\n",
              "      <th>min</th>\n",
              "      <td>0.000000</td>\n",
              "    </tr>\n",
              "    <tr>\n",
              "      <th>25%</th>\n",
              "      <td>1.327000</td>\n",
              "    </tr>\n",
              "    <tr>\n",
              "      <th>50%</th>\n",
              "      <td>3.511225</td>\n",
              "    </tr>\n",
              "    <tr>\n",
              "      <th>75%</th>\n",
              "      <td>8.742612</td>\n",
              "    </tr>\n",
              "    <tr>\n",
              "      <th>max</th>\n",
              "      <td>73.889100</td>\n",
              "    </tr>\n",
              "  </tbody>\n",
              "</table>\n",
              "</div>"
            ],
            "text/plain": [
              "            Value\n",
              "count  203.000000\n",
              "mean     7.747045\n",
              "std     11.240872\n",
              "min      0.000000\n",
              "25%      1.327000\n",
              "50%      3.511225\n",
              "75%      8.742612\n",
              "max     73.889100"
            ]
          },
          "metadata": {
            "tags": []
          },
          "execution_count": 66
        }
      ]
    },
    {
      "cell_type": "markdown",
      "metadata": {
        "id": "0qxTx64YaZyJ"
      },
      "source": [
        "We created a box plot for the values that we find."
      ]
    },
    {
      "cell_type": "code",
      "metadata": {
        "colab": {
          "base_uri": "https://localhost:8080/",
          "height": 282
        },
        "id": "qQjWSS811Rny",
        "outputId": "a04bce40-a467-4a12-a4e5-407b287a5877"
      },
      "source": [
        "df3.boxplot(column=[\"Value\"])"
      ],
      "execution_count": null,
      "outputs": [
        {
          "output_type": "execute_result",
          "data": {
            "text/plain": [
              "<matplotlib.axes._subplots.AxesSubplot at 0x7f40c2fa3810>"
            ]
          },
          "metadata": {
            "tags": []
          },
          "execution_count": 67
        },
        {
          "output_type": "display_data",
          "data": {
            "image/png": "[encoded data removed]",
            "text/plain": [
              "<Figure size 432x288 with 1 Axes>"
            ]
          },
          "metadata": {
            "tags": [],
            "needs_background": "light"
          }
        }
      ]
    },
    {
      "cell_type": "markdown",
      "metadata": {
        "id": "c_xubveACeED"
      },
      "source": [
        "Created a graph in order to compare the intentional homicide values of each country in Central Asia."
      ]
    },
    {
      "cell_type": "code",
      "metadata": {
        "id": "4IuTP8WPplBz",
        "colab": {
          "base_uri": "https://localhost:8080/",
          "height": 337
        },
        "outputId": "5ab79966-279d-4f53-c39c-10aee15e5172"
      },
      "source": [
        "Central_Asia2 = []\n",
        "\n",
        "Central_Asia2.append(Country_Namess[94])\n",
        "Central_Asia2.append(Country_Namess[99])\n",
        "Central_Asia2.append(Country_Namess[179])\n",
        "Central_Asia2.append(Country_Namess[186])\n",
        "Central_Asia2.append(Country_Namess[197])\n",
        "\n",
        "Central_Asia_sum2 =[]\n",
        "\n",
        "Central_Asia_sum2.append(df3[\"Value\"][94])\n",
        "Central_Asia_sum2.append(df3[\"Value\"][99])\n",
        "Central_Asia_sum2.append(df3[\"Value\"][179])\n",
        "Central_Asia_sum2.append(df3[\"Value\"][186])\n",
        "Central_Asia_sum2.append(df3[\"Value\"][197])\n",
        "\n",
        "df101 = pd.DataFrame({'Central_Asia':Central_Asia2,'Central_Asia_sum':Central_Asia_sum2})\n",
        "\n",
        "ax101 = df101.plot.bar(x='Central_Asia', y='Central_Asia_sum', rot=90)"
      ],
      "execution_count": null,
      "outputs": [
        {
          "output_type": "display_data",
          "data": {
            "image/png": "[encoded data removed]",
            "text/plain": [
              "<Figure size 432x288 with 1 Axes>"
            ]
          },
          "metadata": {
            "tags": [],
            "needs_background": "light"
          }
        }
      ]
    },
    {
      "cell_type": "markdown",
      "metadata": {
        "id": "odygGZXsCuGR"
      },
      "source": [
        "Created a graph in order to compare the intentional homicide values of each country in Eastern Asia."
      ]
    },
    {
      "cell_type": "code",
      "metadata": {
        "id": "zUsfKUUIpmQy",
        "colab": {
          "base_uri": "https://localhost:8080/",
          "height": 382
        },
        "outputId": "489e644c-c080-4774-8342-25c7c75c63f9"
      },
      "source": [
        "Eastern_Asia2 = []\n",
        "\n",
        "Eastern_Asia2.append(Country_Namess[41])\n",
        "Eastern_Asia2.append(Country_Namess[92])\n",
        "Eastern_Asia2.append(Country_Namess[116])\n",
        "Eastern_Asia2.append(Country_Namess[42]) #Hong Kong\n",
        "Eastern_Asia2.append(Country_Namess[43]) #Macao\n",
        "Eastern_Asia2.append(Country_Namess[145]) #Republic of Korea\n",
        "\n",
        "Eastern_Asia_sum2 =[]\n",
        "\n",
        "Eastern_Asia_sum2.append(df3[\"Value\"][41])\n",
        "Eastern_Asia_sum2.append(df3[\"Value\"][92])\n",
        "Eastern_Asia_sum2.append(df3[\"Value\"][116])\n",
        "Eastern_Asia_sum2.append(df3[\"Value\"][42]) #Hong Kong\n",
        "Eastern_Asia_sum2.append(df3[\"Value\"][43]) #Macao\n",
        "Eastern_Asia_sum2.append(df3[\"Value\"][145]) #Republic of Korea\n",
        "\n",
        "df102 = pd.DataFrame({'Eastern_Asia':Eastern_Asia2,'Eastern_Asia_sum':Eastern_Asia_sum2})\n",
        "\n",
        "ax102 = df102.plot.bar(x='Eastern_Asia', y='Eastern_Asia_sum', rot=90)"
      ],
      "execution_count": null,
      "outputs": [
        {
          "output_type": "display_data",
          "data": {
            "image/png": "[encoded data removed]",
            "text/plain": [
              "<Figure size 432x288 with 1 Axes>"
            ]
          },
          "metadata": {
            "tags": [],
            "needs_background": "light"
          }
        }
      ]
    },
    {
      "cell_type": "markdown",
      "metadata": {
        "id": "BNIyrC7dCxlX"
      },
      "source": [
        "Created a graph in order to compare the intentional homicide values of each country in Southern Asia."
      ]
    },
    {
      "cell_type": "code",
      "metadata": {
        "id": "JqeMoIq9pm5W",
        "colab": {
          "base_uri": "https://localhost:8080/",
          "height": 394
        },
        "outputId": "3076d9af-460a-4ba7-b751-dbda4bf7484a"
      },
      "source": [
        "Southern_Asia2 = []\n",
        "\n",
        "Southern_Asia2.append(Country_Namess[0])\n",
        "Southern_Asia2.append(Country_Namess[16])\n",
        "Southern_Asia2.append(Country_Namess[23])\n",
        "Southern_Asia2.append(Country_Namess[83])\n",
        "Southern_Asia2.append(Country_Namess[85])\n",
        "Southern_Asia2.append(Country_Namess[109])\n",
        "Southern_Asia2.append(Country_Namess[123])\n",
        "Southern_Asia2.append(Country_Namess[134])\n",
        "Southern_Asia2.append(Country_Namess[172])\n",
        "\n",
        "Southern_Asia_sum2 =[]\n",
        "\n",
        "Southern_Asia_sum2.append(df3[\"Value\"][0])\n",
        "Southern_Asia_sum2.append(df3[\"Value\"][16])\n",
        "Southern_Asia_sum2.append(df3[\"Value\"][23])\n",
        "Southern_Asia_sum2.append(df3[\"Value\"][83])\n",
        "Southern_Asia_sum2.append(df3[\"Value\"][85])\n",
        "Southern_Asia_sum2.append(df3[\"Value\"][109])\n",
        "Southern_Asia_sum2.append(df3[\"Value\"][123])\n",
        "Southern_Asia_sum2.append(df3[\"Value\"][134])\n",
        "Southern_Asia_sum2.append(df3[\"Value\"][172])\n",
        "\n",
        "df103 = pd.DataFrame({'Southern_Asia':Southern_Asia2,'Southern_Asia_sum':Southern_Asia_sum2})\n",
        "\n",
        "ax103 = df103.plot.bar(x='Southern_Asia', y='Southern_Asia_sum', rot=90)"
      ],
      "execution_count": null,
      "outputs": [
        {
          "output_type": "display_data",
          "data": {
            "image/png": "[encoded data removed]",
            "text/plain": [
              "<Figure size 432x288 with 1 Axes>"
            ]
          },
          "metadata": {
            "tags": [],
            "needs_background": "light"
          }
        }
      ]
    },
    {
      "cell_type": "markdown",
      "metadata": {
        "id": "q4hCf-aRC6r0"
      },
      "source": [
        "Created a graph in order to compare the intentional homicide values of each country in South Eastern Asia."
      ]
    },
    {
      "cell_type": "code",
      "metadata": {
        "id": "jH8htojHpnNU",
        "colab": {
          "base_uri": "https://localhost:8080/",
          "height": 365
        },
        "outputId": "721109fb-d785-4d71-c90e-9b04377bfd11"
      },
      "source": [
        "South_Eastern_Asia2 = []\n",
        "\n",
        "South_Eastern_Asia2.append(Country_Namess[34])\n",
        "South_Eastern_Asia2.append(Country_Namess[84])\n",
        "South_Eastern_Asia2.append(Country_Namess[108])\n",
        "South_Eastern_Asia2.append(Country_Namess[121])\n",
        "South_Eastern_Asia2.append(Country_Namess[140])\n",
        "South_Eastern_Asia2.append(Country_Namess[165])\n",
        "South_Eastern_Asia2.append(Country_Namess[180])\n",
        "South_Eastern_Asia2.append(Country_Namess[199])\n",
        "South_Eastern_Asia2.append(Country_Namess[29]) #Brunei Darussalam\n",
        "South_Eastern_Asia2.append(Country_Namess[181]) #Timor-Leste\n",
        "\n",
        "South_Eastern_Asia_sum2 =[]\n",
        "\n",
        "South_Eastern_Asia_sum2.append(df3[\"Value\"][34])\n",
        "South_Eastern_Asia_sum2.append(df3[\"Value\"][84])\n",
        "South_Eastern_Asia_sum2.append(df3[\"Value\"][108])\n",
        "South_Eastern_Asia_sum2.append(df3[\"Value\"][121])\n",
        "South_Eastern_Asia_sum2.append(df3[\"Value\"][140])\n",
        "South_Eastern_Asia_sum2.append(df3[\"Value\"][165])\n",
        "South_Eastern_Asia_sum2.append(df3[\"Value\"][180])\n",
        "South_Eastern_Asia_sum2.append(df3[\"Value\"][199])\n",
        "South_Eastern_Asia_sum2.append(df3[\"Value\"][29]) #Brunei Darussalam\n",
        "South_Eastern_Asia_sum2.append(df3[\"Value\"][181]) #Timor-Leste\n",
        "\n",
        "df104 = pd.DataFrame({'South_Eastern_Asia':South_Eastern_Asia2,'South_Eastern_Asia_sum':South_Eastern_Asia_sum2})\n",
        "\n",
        "ax104 = df104.plot.bar(x='South_Eastern_Asia', y='South_Eastern_Asia_sum', rot=90)"
      ],
      "execution_count": null,
      "outputs": [
        {
          "output_type": "display_data",
          "data": {
            "image/png": "[encoded data removed]",
            "text/plain": [
              "<Figure size 432x288 with 1 Axes>"
            ]
          },
          "metadata": {
            "tags": [],
            "needs_background": "light"
          }
        }
      ]
    },
    {
      "cell_type": "markdown",
      "metadata": {
        "id": "mYyAjW40C-o4"
      },
      "source": [
        "Created a graph in order to compare the intentional homicide values of each country in Western Asia."
      ]
    },
    {
      "cell_type": "code",
      "metadata": {
        "id": "iGJucNzWpnqb",
        "colab": {
          "base_uri": "https://localhost:8080/",
          "height": 380
        },
        "outputId": "b2c4b7e1-4900-4eef-bd08-3143366ed7fd"
      },
      "source": [
        "Western_Asia2 = []\n",
        "\n",
        "Western_Asia2.append(Country_Namess[9])\n",
        "Western_Asia2.append(Country_Namess[13])\n",
        "Western_Asia2.append(Country_Namess[15])\n",
        "Western_Asia2.append(Country_Namess[50])\n",
        "Western_Asia2.append(Country_Namess[66])\n",
        "Western_Asia2.append(Country_Namess[86])\n",
        "Western_Asia2.append(Country_Namess[89])\n",
        "Western_Asia2.append(Country_Namess[93])\n",
        "Western_Asia2.append(Country_Namess[98])\n",
        "Western_Asia2.append(Country_Namess[101])\n",
        "Western_Asia2.append(Country_Namess[132])\n",
        "Western_Asia2.append(Country_Namess[144])\n",
        "Western_Asia2.append(Country_Namess[160])\n",
        "Western_Asia2.append(Country_Namess[178])\n",
        "Western_Asia2.append(Country_Namess[185])\n",
        "Western_Asia2.append(Country_Namess[191])\n",
        "Western_Asia2.append(Country_Namess[200])\n",
        "Western_Asia2.append(Country_Namess[173]) #State of Palestine\n",
        "\n",
        "Western_Asia_sum2 =[]\n",
        "\n",
        "Western_Asia_sum2.append(df3[\"Value\"][9])\n",
        "Western_Asia_sum2.append(df3[\"Value\"][13])\n",
        "Western_Asia_sum2.append(df3[\"Value\"][15])\n",
        "Western_Asia_sum2.append(df3[\"Value\"][50]) \n",
        "Western_Asia_sum2.append(df3[\"Value\"][66])\n",
        "Western_Asia_sum2.append(df3[\"Value\"][86])\n",
        "Western_Asia_sum2.append(df3[\"Value\"][89])\n",
        "Western_Asia_sum2.append(df3[\"Value\"][93])\n",
        "Western_Asia_sum2.append(df3[\"Value\"][98])\n",
        "Western_Asia_sum2.append(df3[\"Value\"][101])\n",
        "Western_Asia_sum2.append(df3[\"Value\"][132])\n",
        "Western_Asia_sum2.append(df3[\"Value\"][144])\n",
        "Western_Asia_sum2.append(df3[\"Value\"][160])\n",
        "Western_Asia_sum2.append(df3[\"Value\"][178])\n",
        "Western_Asia_sum2.append(df3[\"Value\"][185])\n",
        "Western_Asia_sum2.append(df3[\"Value\"][191])\n",
        "Western_Asia_sum2.append(df3[\"Value\"][200])\n",
        "Western_Asia_sum2.append(df3[\"Value\"][173]) #State of Palestine\n",
        "\n",
        "\n",
        "df105 = pd.DataFrame({'Western_Asia':Western_Asia2,'Western_Asia_sum':Western_Asia_sum2})\n",
        "\n",
        "ax105 = df105.plot.bar(x='Western_Asia', y='Western_Asia_sum', rot=90)"
      ],
      "execution_count": null,
      "outputs": [
        {
          "output_type": "display_data",
          "data": {
            "image/png": "[encoded data removed]",
            "text/plain": [
              "<Figure size 432x288 with 1 Axes>"
            ]
          },
          "metadata": {
            "tags": [],
            "needs_background": "light"
          }
        }
      ]
    },
    {
      "cell_type": "markdown",
      "metadata": {
        "id": "r-6kjb27DCUf"
      },
      "source": [
        "Created a graph in order to compare the intentional homicide values of each country in Ocenia."
      ]
    },
    {
      "cell_type": "code",
      "metadata": {
        "id": "UjMHZ6hAqErE",
        "colab": {
          "base_uri": "https://localhost:8080/",
          "height": 363
        },
        "outputId": "8386a612-5483-41b6-8b8d-4ddd6ecd3e47"
      },
      "source": [
        "Ocenia2 = []\n",
        "\n",
        "Ocenia2.append(Country_Namess[11])\n",
        "Ocenia2.append(Country_Namess[126])\n",
        "Ocenia2.append(Country_Namess[3]) #American Samao\n",
        "Ocenia2.append(Country_Namess[45]) #Cook Island\n",
        "Ocenia2.append(Country_Namess[61]) #Fiji\n",
        "Ocenia2.append(Country_Namess[65]) #French Polynesia\n",
        "Ocenia2.append(Country_Namess[74]) #Guam\n",
        "Ocenia2.append(Country_Namess[96]) #Kiribati\n",
        "Ocenia2.append(Country_Namess[135]) #Palau\n",
        "Ocenia2.append(Country_Namess[137]) #Papua New Guinea\n",
        "Ocenia2.append(Country_Namess[157]) #Samao\n",
        "Ocenia2.append(Country_Namess[168]) #Solomon Island\n",
        "Ocenia2.append(Country_Namess[182]) #Tonga\n",
        "Ocenia2.append(Country_Namess[188]) #Tuvalu\n",
        "Ocenia2.append(Country_Namess[125])\n",
        "\n",
        "Ocenia_sum2 =[]\n",
        "\n",
        "Ocenia_sum2.append(df3[\"Value\"][11])\n",
        "Ocenia_sum2.append(df3[\"Value\"][126])\n",
        "Ocenia_sum2.append(df3[\"Value\"][3]) #American Samao\n",
        "Ocenia_sum2.append(df3[\"Value\"][45]) #Cook Island\n",
        "Ocenia_sum2.append(df3[\"Value\"][61]) #Fiji\n",
        "Ocenia_sum2.append(df3[\"Value\"][65]) #French Polynesia\n",
        "Ocenia_sum2.append(df3[\"Value\"][74]) #Guam\n",
        "Ocenia_sum2.append(df3[\"Value\"][96]) #Kiribati\n",
        "Ocenia_sum2.append(df3[\"Value\"][135]) #Palau\n",
        "Ocenia_sum2.append(df3[\"Value\"][137]) #Papua New Guinea\n",
        "Ocenia_sum2.append(df3[\"Value\"][157]) #Samoa\n",
        "Ocenia_sum2.append(df3[\"Value\"][168]) #Solomon Island\n",
        "Ocenia_sum2.append(df3[\"Value\"][182]) #Tonga\n",
        "Ocenia_sum2.append(df3[\"Value\"][188]) #Tuvalu\n",
        "Ocenia_sum2.append(df3[\"Value\"][125])\n",
        "\n",
        "df400 = pd.DataFrame({'Ocenia':Ocenia2,'Ocenia_sum':Ocenia_sum2})\n",
        "\n",
        "ax400 = df400.plot.bar(x='Ocenia', y='Ocenia_sum', rot=90)"
      ],
      "execution_count": null,
      "outputs": [
        {
          "output_type": "display_data",
          "data": {
            "image/png": "[encoded data removed]",
            "text/plain": [
              "<Figure size 432x288 with 1 Axes>"
            ]
          },
          "metadata": {
            "tags": [],
            "needs_background": "light"
          }
        }
      ]
    },
    {
      "cell_type": "markdown",
      "metadata": {
        "id": "clEa6OYIDHfr"
      },
      "source": [
        "Created a graph in order to compare the intentional homicide values of each country in Eastern Europe."
      ]
    },
    {
      "cell_type": "code",
      "metadata": {
        "id": "wF7osuzKQjyz",
        "colab": {
          "base_uri": "https://localhost:8080/",
          "height": 371
        },
        "outputId": "b27c34e8-fd43-47de-bf7e-6d640866d0d7"
      },
      "source": [
        "Eastern_Europe2 = []\n",
        "\n",
        "Eastern_Europe2.append(Country_Namess[18])\n",
        "Eastern_Europe2.append(Country_Namess[30])\n",
        "Eastern_Europe2.append(Country_Namess[51])\n",
        "Eastern_Europe2.append(Country_Namess[81])\n",
        "Eastern_Europe2.append(Country_Namess[141])\n",
        "Eastern_Europe2.append(Country_Namess[146])\n",
        "Eastern_Europe2.append(Country_Namess[148])\n",
        "Eastern_Europe2.append(Country_Namess[149])\n",
        "Eastern_Europe2.append(Country_Namess[166])\n",
        "Eastern_Europe2.append(Country_Namess[190])\n",
        "\n",
        "Eastern_Europe_sum2 =[]\n",
        "Eastern_Europe_sum2.append(df3[\"Value\"][18])\n",
        "Eastern_Europe_sum2.append(df3[\"Value\"][30])\n",
        "Eastern_Europe_sum2.append(df3[\"Value\"][51])\n",
        "Eastern_Europe_sum2.append(df3[\"Value\"][82])\n",
        "Eastern_Europe_sum2.append(df3[\"Value\"][141])\n",
        "Eastern_Europe_sum2.append(df3[\"Value\"][146])\n",
        "Eastern_Europe_sum2.append(df3[\"Value\"][148])\n",
        "Eastern_Europe_sum2.append(df3[\"Value\"][149])\n",
        "Eastern_Europe_sum2.append(df3[\"Value\"][166])\n",
        "Eastern_Europe_sum2.append(df3[\"Value\"][190])\n",
        "\n",
        "df1111 = pd.DataFrame({'Eastern_Europe':Eastern_Europe2,'Eastern_Europe_sum':Eastern_Europe_sum2})\n",
        "\n",
        "ax1111 = df1111.plot.bar(x='Eastern_Europe', y='Eastern_Europe_sum', rot=90)"
      ],
      "execution_count": null,
      "outputs": [
        {
          "output_type": "display_data",
          "data": {
            "image/png": "[encoded data removed]",
            "text/plain": [
              "<Figure size 432x288 with 1 Axes>"
            ]
          },
          "metadata": {
            "tags": [],
            "needs_background": "light"
          }
        }
      ]
    },
    {
      "cell_type": "markdown",
      "metadata": {
        "id": "V_mkUVahDMMO"
      },
      "source": [
        "Created a graph in order to compare the intentional homicide values of each country in Northern Europe."
      ]
    },
    {
      "cell_type": "code",
      "metadata": {
        "id": "NpY2ryxrQlix",
        "colab": {
          "base_uri": "https://localhost:8080/",
          "height": 350
        },
        "outputId": "1fddb3fa-770e-471a-a4aa-b40e0affb381"
      },
      "source": [
        "Northern_Europe2 = []\n",
        "\n",
        "Northern_Europe2.append(Country_Namess[39])\n",
        "Northern_Europe2.append(Country_Namess[52])\n",
        "Northern_Europe2.append(Country_Namess[58])\n",
        "Northern_Europe2.append(Country_Namess[62])\n",
        "Northern_Europe2.append(Country_Namess[82])\n",
        "Northern_Europe2.append(Country_Namess[87])\n",
        "Northern_Europe2.append(Country_Namess[100])\n",
        "Northern_Europe2.append(Country_Namess[105])\n",
        "Northern_Europe2.append(Country_Namess[131])\n",
        "Northern_Europe2.append(Country_Namess[176])\n",
        "Northern_Europe2.append(Country_Namess[192])\n",
        "\n",
        "Northern_Europe_sum2 =[]\n",
        "Northern_Europe_sum2.append(df3[\"Value\"][39])\n",
        "Northern_Europe_sum2.append(df3[\"Value\"][52])\n",
        "Northern_Europe_sum2.append(df3[\"Value\"][58])\n",
        "Northern_Europe_sum2.append(df3[\"Value\"][62])\n",
        "Northern_Europe_sum2.append(df3[\"Value\"][82])\n",
        "Northern_Europe_sum2.append(df3[\"Value\"][87])\n",
        "Northern_Europe_sum2.append(df3[\"Value\"][100])\n",
        "Northern_Europe_sum2.append(df3[\"Value\"][105])\n",
        "Northern_Europe_sum2.append(df3[\"Value\"][131])\n",
        "Northern_Europe_sum2.append(df3[\"Value\"][176])\n",
        "Northern_Europe_sum2.append(df3[\"Value\"][192])\n",
        "\n",
        "df2222 = pd.DataFrame({'Northern_Europe':Northern_Europe2,'Northern_Europe_sum':Northern_Europe_sum2})\n",
        "\n",
        "ax2222 = df2222.plot.bar(x='Northern_Europe', y='Northern_Europe_sum', rot=90)"
      ],
      "execution_count": null,
      "outputs": [
        {
          "output_type": "display_data",
          "data": {
            "image/png": "[encoded data removed]",
            "text/plain": [
              "<Figure size 432x288 with 1 Axes>"
            ]
          },
          "metadata": {
            "tags": [],
            "needs_background": "light"
          }
        }
      ]
    },
    {
      "cell_type": "markdown",
      "metadata": {
        "id": "RrgCFSogDPg0"
      },
      "source": [
        "Created a graph in order to compare the intentional homicide values of each country in Southern Europe."
      ]
    },
    {
      "cell_type": "code",
      "metadata": {
        "id": "f-W4dZo6QpHM",
        "colab": {
          "base_uri": "https://localhost:8080/",
          "height": 391
        },
        "outputId": "bc2fad18-0f18-43df-cb0b-d77d366a803d"
      },
      "source": [
        "Southern_Europe2 = []\n",
        "\n",
        "Southern_Europe2.append(Country_Namess[1])\n",
        "Southern_Europe2.append(Country_Namess[4])\n",
        "Southern_Europe2.append(Country_Namess[25])\n",
        "Southern_Europe2.append(Country_Namess[47])\n",
        "Southern_Europe2.append(Country_Namess[69])\n",
        "Southern_Europe2.append(Country_Namess[70])\n",
        "Southern_Europe2.append(Country_Namess[79])\n",
        "Southern_Europe2.append(Country_Namess[90])\n",
        "Southern_Europe2.append(Country_Namess[97])\n",
        "Southern_Europe2.append(Country_Namess[110])\n",
        "Southern_Europe2.append(Country_Namess[117])\n",
        "Southern_Europe2.append(Country_Namess[142])\n",
        "Southern_Europe2.append(Country_Namess[158])\n",
        "Southern_Europe2.append(Country_Namess[162])\n",
        "Southern_Europe2.append(Country_Namess[167])\n",
        "Southern_Europe2.append(Country_Namess[171])\n",
        "Southern_Europe2.append(Country_Namess[130])\n",
        "\n",
        "Southern_Europe_sum2 =[]\n",
        "Southern_Europe_sum2.append(df3[\"Value\"][1])\n",
        "Southern_Europe_sum2.append(df3[\"Value\"][4])\n",
        "Southern_Europe_sum2.append(df3[\"Value\"][25])\n",
        "Southern_Europe_sum2.append(df3[\"Value\"][47])\n",
        "Southern_Europe_sum2.append(df3[\"Value\"][69])\n",
        "Southern_Europe_sum2.append(df3[\"Value\"][70])\n",
        "Southern_Europe_sum2.append(df3[\"Value\"][79])\n",
        "Southern_Europe_sum2.append(df3[\"Value\"][90])\n",
        "Southern_Europe_sum2.append(df3[\"Value\"][97])\n",
        "Southern_Europe_sum2.append(df3[\"Value\"][110])\n",
        "Southern_Europe_sum2.append(df3[\"Value\"][117])\n",
        "Southern_Europe_sum2.append(df3[\"Value\"][142])\n",
        "Southern_Europe_sum2.append(df3[\"Value\"][158])\n",
        "Southern_Europe_sum2.append(df3[\"Value\"][162])\n",
        "Southern_Europe_sum2.append(df3[\"Value\"][167])\n",
        "Southern_Europe_sum2.append(df3[\"Value\"][171])\n",
        "Southern_Europe_sum2.append(df3[\"Value\"][130])\n",
        "\n",
        "df3333 = pd.DataFrame({'Southern_Europe':Southern_Europe2,'Southern_Europe_sum':Southern_Europe_sum2})\n",
        "\n",
        "ax3333 = df3333.plot.bar(x='Southern_Europe', y='Southern_Europe_sum', rot=90)"
      ],
      "execution_count": null,
      "outputs": [
        {
          "output_type": "display_data",
          "data": {
            "image/png": "[encoded data removed]",
            "text/plain": [
              "<Figure size 432x288 with 1 Axes>"
            ]
          },
          "metadata": {
            "tags": [],
            "needs_background": "light"
          }
        }
      ]
    },
    {
      "cell_type": "markdown",
      "metadata": {
        "id": "cGG4vSNzDUIc"
      },
      "source": [
        "Created a graph in order to compare the intentional homicide values of each country in Western Europe."
      ]
    },
    {
      "cell_type": "code",
      "metadata": {
        "id": "4frspBpJQsmc",
        "colab": {
          "base_uri": "https://localhost:8080/",
          "height": 336
        },
        "outputId": "d98ed89f-7473-488e-a75f-aca08105fe37"
      },
      "source": [
        "Western_Europe2 = []\n",
        "\n",
        "Western_Europe2.append(Country_Namess[12])\n",
        "Western_Europe2.append(Country_Namess[19])\n",
        "Western_Europe2.append(Country_Namess[63])\n",
        "Western_Europe2.append(Country_Namess[67])\n",
        "Western_Europe2.append(Country_Namess[104])\n",
        "Western_Europe2.append(Country_Namess[106])\n",
        "Western_Europe2.append(Country_Namess[115])\n",
        "Western_Europe2.append(Country_Namess[124])\n",
        "Western_Europe2.append(Country_Namess[177])\n",
        "\n",
        "Western_Europe_sum2 =[]\n",
        "Western_Europe_sum2.append(df3[\"Value\"][12])\n",
        "Western_Europe_sum2.append(df3[\"Value\"][19])\n",
        "Western_Europe_sum2.append(df3[\"Value\"][63])\n",
        "Western_Europe_sum2.append(df3[\"Value\"][67])\n",
        "Western_Europe_sum2.append(df3[\"Value\"][104])\n",
        "Western_Europe_sum2.append(df3[\"Value\"][106])\n",
        "Western_Europe_sum2.append(df3[\"Value\"][115])\n",
        "Western_Europe_sum2.append(df3[\"Value\"][124])\n",
        "Western_Europe_sum2.append(df3[\"Value\"][177])\n",
        "\n",
        "df4444 = pd.DataFrame({'Western_Europe':Western_Europe2,'Western_Europe_sum':Western_Europe_sum2})\n",
        "\n",
        "ax4444= df4444.plot.bar(x='Western_Europe', y='Western_Europe_sum', rot=90)"
      ],
      "execution_count": null,
      "outputs": [
        {
          "output_type": "display_data",
          "data": {
            "image/png": "[encoded data removed]",
            "text/plain": [
              "<Figure size 432x288 with 1 Axes>"
            ]
          },
          "metadata": {
            "tags": [],
            "needs_background": "light"
          }
        }
      ]
    },
    {
      "cell_type": "markdown",
      "metadata": {
        "id": "50B4f1yeDXNy"
      },
      "source": [
        "Created a graph in order to compare the intentional homicide values of each country in South America."
      ]
    },
    {
      "cell_type": "code",
      "metadata": {
        "id": "M1bxlwvqQvr7",
        "colab": {
          "base_uri": "https://localhost:8080/",
          "height": 396
        },
        "outputId": "b9dd6eac-e11d-440d-8138-9d6805cf0a82"
      },
      "source": [
        "South_America2 = []\n",
        "\n",
        "South_America2.append(Country_Namess[64])\n",
        "South_America2.append(Country_Namess[8])\n",
        "South_America2.append(Country_Namess[24])\n",
        "South_America2.append(Country_Namess[27])\n",
        "South_America2.append(Country_Namess[40])\n",
        "South_America2.append(Country_Namess[44])\n",
        "South_America2.append(Country_Namess[55])\n",
        "South_America2.append(Country_Namess[77])\n",
        "South_America2.append(Country_Namess[139])\n",
        "South_America2.append(Country_Namess[138])\n",
        "South_America2.append(Country_Namess[196])\n",
        "South_America2.append(Country_Namess[198])\n",
        "South_America2.append(Country_Namess[175])\n",
        "\n",
        "South_America_sum2 =[]\n",
        "South_America_sum2.append(df3[\"Value\"][8])\n",
        "South_America_sum2.append(df3[\"Value\"][24])\n",
        "South_America_sum2.append(df3[\"Value\"][27])\n",
        "South_America_sum2.append(df3[\"Value\"][40])\n",
        "South_America_sum2.append(df3[\"Value\"][44])\n",
        "South_America_sum2.append(df3[\"Value\"][55])\n",
        "South_America_sum2.append(df3[\"Value\"][64])\n",
        "South_America_sum2.append(df3[\"Value\"][77])\n",
        "South_America_sum2.append(df3[\"Value\"][139])\n",
        "South_America_sum2.append(df3[\"Value\"][138])\n",
        "South_America_sum2.append(df3[\"Value\"][196])\n",
        "South_America_sum2.append(df3[\"Value\"][198])\n",
        "South_America_sum2.append(df3[\"Value\"][175])\n",
        "\n",
        "df5555 = pd.DataFrame({'South_America':South_America2,'South_America_sum':South_America_sum2})\n",
        "\n",
        "ax5555 = df5555.plot.bar(x='South_America', y='South_America_sum', rot=90)"
      ],
      "execution_count": null,
      "outputs": [
        {
          "output_type": "display_data",
          "data": {
            "image/png": "[encoded data removed]",
            "text/plain": [
              "<Figure size 432x288 with 1 Axes>"
            ]
          },
          "metadata": {
            "tags": [],
            "needs_background": "light"
          }
        }
      ]
    },
    {
      "cell_type": "markdown",
      "metadata": {
        "id": "2nVnst7rDckt"
      },
      "source": [
        "Created a graph in order to compare the intentional homicide values of each country in Eastern Africa."
      ]
    },
    {
      "cell_type": "code",
      "metadata": {
        "colab": {
          "base_uri": "https://localhost:8080/",
          "height": 387
        },
        "id": "_v51BA9vzTLX",
        "outputId": "48e2f79c-07f8-4028-fb60-4c7850dc1b23"
      },
      "source": [
        "Eastern_Africa2 = []\n",
        "Eastern_Africa2.append(Country_Namess[201])\n",
        "Eastern_Africa2.append(Country_Namess[189])\n",
        "Eastern_Africa2.append(Country_Namess[107])\n",
        "Eastern_Africa2.append(Country_Namess[150])\n",
        "Eastern_Africa2.append(Country_Namess[32])\n",
        "Eastern_Africa2.append(Country_Namess[193])\n",
        "Eastern_Africa2.append(Country_Namess[95])\n",
        "Eastern_Africa2.append(Country_Namess[112])\n",
        "Eastern_Africa2.append(Country_Namess[120])\n",
        "Eastern_Africa2.append(Country_Namess[202])\n",
        "Eastern_Africa2.append(Country_Namess[170])\n",
        "Eastern_Africa2.append(Country_Namess[163])\n",
        "Eastern_Africa2.append(Country_Namess[151])\n",
        "Eastern_Africa2.append(Country_Namess[147])\n",
        "Eastern_Africa2.append(Country_Namess[113])\n",
        "Eastern_Africa2.append(Country_Namess[59])\n",
        "\n",
        "Eastern_Africa2_sum2 =[]\n",
        "Eastern_Africa2_sum2.append(df3[\"Value\"][201])\n",
        "Eastern_Africa2_sum2.append(df3[\"Value\"][189])\n",
        "Eastern_Africa2_sum2.append(df3[\"Value\"][107])\n",
        "Eastern_Africa2_sum2.append(df3[\"Value\"][150])\n",
        "Eastern_Africa2_sum2.append(df3[\"Value\"][32])\n",
        "Eastern_Africa2_sum2.append(df3[\"Value\"][193])\n",
        "Eastern_Africa2_sum2.append(df3[\"Value\"][95])\n",
        "Eastern_Africa2_sum2.append(df3[\"Value\"][112])\n",
        "Eastern_Africa2_sum2.append(df3[\"Value\"][120])\n",
        "Eastern_Africa2_sum2.append(df3[\"Value\"][202])\n",
        "Eastern_Africa2_sum2.append(df3[\"Value\"][170])\n",
        "Eastern_Africa2_sum2.append(df3[\"Value\"][163])\n",
        "Eastern_Africa2_sum2.append(df3[\"Value\"][151])\n",
        "Eastern_Africa2_sum2.append(df3[\"Value\"][147])\n",
        "Eastern_Africa2_sum2.append(df3[\"Value\"][113])\n",
        "Eastern_Africa2_sum2.append(df3[\"Value\"][59])\n",
        "\n",
        "df6000 = pd.DataFrame({'Eastern_Africa':Eastern_Africa2,'Eastern_Africa2_sum':Eastern_Africa2_sum2})\n",
        "ax6000 = df6000.plot.bar(x='Eastern_Africa', y='Eastern_Africa2_sum', rot=90)"
      ],
      "execution_count": null,
      "outputs": [
        {
          "output_type": "display_data",
          "data": {
            "image/png": "[encoded data removed]",
            "text/plain": [
              "<Figure size 432x288 with 1 Axes>"
            ]
          },
          "metadata": {
            "tags": [],
            "needs_background": "light"
          }
        }
      ]
    },
    {
      "cell_type": "markdown",
      "metadata": {
        "id": "fDFzMBqDDhEW"
      },
      "source": [
        "Created a graph in order to compare the intentional homicide values of each country in Western Africa."
      ]
    },
    {
      "cell_type": "code",
      "metadata": {
        "id": "T_YcUjbI_6d3",
        "colab": {
          "base_uri": "https://localhost:8080/",
          "height": 342
        },
        "outputId": "156e8795-885a-489a-e445-348b8fe840d0"
      },
      "source": [
        "Western_Africa2 = []\n",
        "Western_Africa2.append(Country_Namess[21])\n",
        "Western_Africa2.append(Country_Namess[31])\n",
        "Western_Africa2.append(Country_Namess[68])\n",
        "Western_Africa2.append(Country_Namess[76])\n",
        "Western_Africa2.append(Country_Namess[103])\n",
        "Western_Africa2.append(Country_Namess[128])\n",
        "Western_Africa2.append(Country_Namess[129])\n",
        "Western_Africa2.append(Country_Namess[161])\n",
        "Western_Africa2.append(Country_Namess[164])\n",
        "Western_Africa2.append(Country_Namess[33])\n",
        "\n",
        "Western_Africa2_sum2 =[]\n",
        "Western_Africa2_sum2.append(df3[\"Value\"][21])\n",
        "Western_Africa2_sum2.append(df3[\"Value\"][31])\n",
        "Western_Africa2_sum2.append(df3[\"Value\"][68])\n",
        "Western_Africa2_sum2.append(df3[\"Value\"][76])\n",
        "Western_Africa2_sum2.append(df3[\"Value\"][103])\n",
        "Western_Africa2_sum2.append(df3[\"Value\"][128])\n",
        "Western_Africa2_sum2.append(df3[\"Value\"][129])\n",
        "Western_Africa2_sum2.append(df3[\"Value\"][161])\n",
        "Western_Africa2_sum2.append(df3[\"Value\"][164])\n",
        "Western_Africa2_sum2.append(df3[\"Value\"][33])\n",
        "\n",
        "df6001 = pd.DataFrame({'Western_Africa2':Western_Africa2,'Eastern_Africa2_sum':Western_Africa2_sum2})\n",
        "ax6001 = df6001.plot.bar(x='Western_Africa2', y='Eastern_Africa2_sum', rot=90)"
      ],
      "execution_count": null,
      "outputs": [
        {
          "output_type": "display_data",
          "data": {
            "image/png": "[encoded data removed]",
            "text/plain": [
              "<Figure size 432x288 with 1 Axes>"
            ]
          },
          "metadata": {
            "tags": [],
            "needs_background": "light"
          }
        }
      ]
    },
    {
      "cell_type": "markdown",
      "metadata": {
        "id": "Hh2RviQGDj5v"
      },
      "source": [
        "Created a graph in order to compare the intentional homicide values of each country in Central Africa."
      ]
    },
    {
      "cell_type": "code",
      "metadata": {
        "colab": {
          "base_uri": "https://localhost:8080/",
          "height": 280
        },
        "id": "DFN20x8uEFcq",
        "outputId": "f7277046-f435-44ca-8f6f-e83f443f94d5"
      },
      "source": [
        "Central_Africa2 = []\n",
        "Central_Africa2.append(Country_Namess[38])\n",
        "Central_Africa2.append(Country_Namess[35])\n",
        "Central_Africa2.append(Country_Namess[159])\n",
        "\n",
        "Central_Africa2_sum2 =[]\n",
        "Central_Africa2_sum2.append(df3[\"Value\"][38])\n",
        "Central_Africa2_sum2.append(df3[\"Value\"][35])\n",
        "Central_Africa2_sum2.append(df3[\"Value\"][159])\n",
        "\n",
        "df6002 = pd.DataFrame({'Central_Africa2':Central_Africa2,'Central_Africa2_sum':Central_Africa2_sum2})\n",
        "ax6002 = df6002.plot.bar(x='Central_Africa2', y='Central_Africa2_sum', rot=0)"
      ],
      "execution_count": null,
      "outputs": [
        {
          "output_type": "display_data",
          "data": {
            "image/png": "[encoded data removed]",
            "text/plain": [
              "<Figure size 432x288 with 1 Axes>"
            ]
          },
          "metadata": {
            "tags": [],
            "needs_background": "light"
          }
        }
      ]
    },
    {
      "cell_type": "markdown",
      "metadata": {
        "id": "gucNcrySD0xe"
      },
      "source": [
        "Created a graph in order to compare the intentional homicide values of each country in Northern Africa."
      ]
    },
    {
      "cell_type": "code",
      "metadata": {
        "colab": {
          "base_uri": "https://localhost:8080/",
          "height": 334
        },
        "id": "YX5Cq3eFFFU4",
        "outputId": "e21922d0-97bf-444e-a8f1-19ffd1c35432"
      },
      "source": [
        "Northern_Africa2 = []\n",
        "Northern_Africa2.append(Country_Namess[2])\n",
        "Northern_Africa2.append(Country_Namess[56])\n",
        "Northern_Africa2.append(Country_Namess[119])\n",
        "Northern_Africa2.append(Country_Namess[184])\n",
        "Northern_Africa2.append(Country_Namess[5])\n",
        "Northern_Africa2.append(Country_Namess[170])\n",
        "\n",
        "Northern_Africa2_sum2 =[]\n",
        "Northern_Africa2_sum2.append(df3[\"Value\"][2])\n",
        "Northern_Africa2_sum2.append(df3[\"Value\"][56])\n",
        "Northern_Africa2_sum2.append(df3[\"Value\"][119])\n",
        "Northern_Africa2_sum2.append(df3[\"Value\"][184])\n",
        "Northern_Africa2_sum2.append(df3[\"Value\"][5])\n",
        "Northern_Africa2_sum2.append(df3[\"Value\"][170])\n",
        "\n",
        "df6003 = pd.DataFrame({'Northern_Africa2':Northern_Africa2,'Northern_Africa2_sum':Northern_Africa2_sum2})\n",
        "ax6003 = df6003.plot.bar(x='Northern_Africa2', y='Northern_Africa2_sum', rot=90)"
      ],
      "execution_count": null,
      "outputs": [
        {
          "output_type": "display_data",
          "data": {
            "image/png": "[encoded data removed]",
            "text/plain": [
              "<Figure size 432x288 with 1 Axes>"
            ]
          },
          "metadata": {
            "tags": [],
            "needs_background": "light"
          }
        }
      ]
    },
    {
      "cell_type": "markdown",
      "metadata": {
        "id": "GzlQmf0MD8CS"
      },
      "source": [
        "Created a graph in order to compare the intentional homicide values of each country in Southern Africa."
      ]
    },
    {
      "cell_type": "code",
      "metadata": {
        "colab": {
          "base_uri": "https://localhost:8080/",
          "height": 280
        },
        "id": "AeHCmNWbF-vf",
        "outputId": "0970d2eb-ab8a-4ddd-ea21-a154f7c62184"
      },
      "source": [
        "Southern_Africa2 = []\n",
        "Southern_Africa2.append(Country_Namess[26])\n",
        "Southern_Africa2.append(Country_Namess[102])\n",
        "Southern_Africa2.append(Country_Namess[122])\n",
        "Southern_Africa2.append(Country_Namess[169])\n",
        "\n",
        "Southern_Africa2_sum2 =[]\n",
        "Southern_Africa2_sum2.append(df3[\"Value\"][26])\n",
        "Southern_Africa2_sum2.append(df3[\"Value\"][102])\n",
        "Southern_Africa2_sum2.append(df3[\"Value\"][122])\n",
        "Southern_Africa2_sum2.append(df3[\"Value\"][169])\n",
        "\n",
        "df6004 = pd.DataFrame({'Southern_Africa2':Southern_Africa2,'Southern_Africa2_sum':Southern_Africa2_sum2})\n",
        "ax6004 = df6004.plot.bar(x='Southern_Africa2', y='Southern_Africa2_sum', rot=0)"
      ],
      "execution_count": null,
      "outputs": [
        {
          "output_type": "display_data",
          "data": {
            "image/png": "[encoded data removed]",
            "text/plain": [
              "<Figure size 432x288 with 1 Axes>"
            ]
          },
          "metadata": {
            "tags": [],
            "needs_background": "light"
          }
        }
      ]
    },
    {
      "cell_type": "markdown",
      "metadata": {
        "id": "LEYYTkekEFSd"
      },
      "source": [
        "Created a graph in order to compare the intentional homicide values of each country in North America."
      ]
    },
    {
      "cell_type": "code",
      "metadata": {
        "colab": {
          "base_uri": "https://localhost:8080/",
          "height": 407
        },
        "id": "04TpePjYG6lS",
        "outputId": "c8bebcfc-57c8-4532-c8fa-a60efa952db5"
      },
      "source": [
        "North_America2 = []\n",
        "North_America2.append(Country_Namess[195])\n",
        "North_America2.append(Country_Namess[194])\n",
        "North_America2.append(Country_Namess[36])\n",
        "North_America2.append(Country_Namess[187])\n",
        "North_America2.append(Country_Namess[155])\n",
        "North_America2.append(Country_Namess[73])\n",
        "North_America2.append(Country_Namess[71])\n",
        "North_America2.append(Country_Namess[22])\n",
        "\n",
        "North_America2_sum2 =[]\n",
        "North_America2_sum2.append(df3[\"Value\"][195])\n",
        "North_America2_sum2.append(df3[\"Value\"][194])\n",
        "North_America2_sum2.append(df3[\"Value\"][36])\n",
        "North_America2_sum2.append(df3[\"Value\"][187])\n",
        "North_America2_sum2.append(df3[\"Value\"][155])\n",
        "North_America2_sum2.append(df3[\"Value\"][73])\n",
        "North_America2_sum2.append(df3[\"Value\"][71])\n",
        "North_America2_sum2.append(df3[\"Value\"][22])\n",
        "\n",
        "df6005 = pd.DataFrame({'North_America2':North_America2,'North_America2_sum':North_America2_sum2})\n",
        "ax6005 = df6005.plot.bar(x='North_America2', y='North_America2_sum', rot=90)"
      ],
      "execution_count": null,
      "outputs": [
        {
          "output_type": "display_data",
          "data": {
            "image/png": "[encoded data removed]",
            "text/plain": [
              "<Figure size 432x288 with 1 Axes>"
            ]
          },
          "metadata": {
            "tags": [],
            "needs_background": "light"
          }
        }
      ]
    },
    {
      "cell_type": "markdown",
      "metadata": {
        "id": "3wZ3OVK9EJWJ"
      },
      "source": [
        "Created a graph in order to compare the intentional homicide values of each country in Central America."
      ]
    },
    {
      "cell_type": "code",
      "metadata": {
        "colab": {
          "base_uri": "https://localhost:8080/",
          "height": 325
        },
        "id": "W0bwb3KpIUvR",
        "outputId": "5496c414-bb9a-4f43-e926-9cdaed94c05b"
      },
      "source": [
        "Central_America2 = []\n",
        "Central_America2.append(Country_Namess[114])\n",
        "Central_America2.append(Country_Namess[20])\n",
        "Central_America2.append(Country_Namess[46])\n",
        "Central_America2.append(Country_Namess[57])\n",
        "Central_America2.append(Country_Namess[75])\n",
        "Central_America2.append(Country_Namess[80])\n",
        "Central_America2.append(Country_Namess[127])\n",
        "Central_America2.append(Country_Namess[136])\n",
        "\n",
        "Central_America2_sum2 =[]\n",
        "Central_America2_sum2.append(df3[\"Value\"][114])\n",
        "Central_America2_sum2.append(df3[\"Value\"][20])\n",
        "Central_America2_sum2.append(df3[\"Value\"][46])\n",
        "Central_America2_sum2.append(df3[\"Value\"][57])\n",
        "Central_America2_sum2.append(df3[\"Value\"][75])\n",
        "Central_America2_sum2.append(df3[\"Value\"][80])\n",
        "Central_America2_sum2.append(df3[\"Value\"][127])\n",
        "Central_America2_sum2.append(df3[\"Value\"][136])\n",
        "\n",
        "df6006 = pd.DataFrame({'Central_America2':Central_America2,'Central_America2_sum':Central_America2_sum2})\n",
        "ax6006 = df6006.plot.bar(x='Central_America2', y='Central_America2_sum', rot=90)"
      ],
      "execution_count": null,
      "outputs": [
        {
          "output_type": "display_data",
          "data": {
            "image/png": "[encoded data removed]",
            "text/plain": [
              "<Figure size 432x288 with 1 Axes>"
            ]
          },
          "metadata": {
            "tags": [],
            "needs_background": "light"
          }
        }
      ]
    },
    {
      "cell_type": "markdown",
      "metadata": {
        "id": "A4QBOGeZEO69"
      },
      "source": [
        "Created a graph in order to compare the intentional homicide values of each country in Latin America and Caribbean."
      ]
    },
    {
      "cell_type": "code",
      "metadata": {
        "colab": {
          "base_uri": "https://localhost:8080/",
          "height": 407
        },
        "id": "26tqedTOJrVa",
        "outputId": "f0b4782c-06e0-4be7-d04c-33cad9056c06"
      },
      "source": [
        "Latin_America_and_Caribbean2 = []\n",
        "Latin_America_and_Caribbean2.append(Country_Namess[48])\n",
        "Latin_America_and_Caribbean2.append(Country_Namess[54])\n",
        "Latin_America_and_Caribbean2.append(Country_Namess[53])\n",
        "Latin_America_and_Caribbean2.append(Country_Namess[78])\n",
        "Latin_America_and_Caribbean2.append(Country_Namess[91])\n",
        "Latin_America_and_Caribbean2.append(Country_Namess[183])\n",
        "Latin_America_and_Caribbean2.append(Country_Namess[156])\n",
        "Latin_America_and_Caribbean2.append(Country_Namess[154])\n",
        "Latin_America_and_Caribbean2.append(Country_Namess[153])\n",
        "Latin_America_and_Caribbean2.append(Country_Namess[152])\n",
        "Latin_America_and_Caribbean2.append(Country_Namess[143])\n",
        "Latin_America_and_Caribbean2.append(Country_Namess[118])\n",
        "Latin_America_and_Caribbean2.append(Country_Namess[111])\n",
        "Latin_America_and_Caribbean2.append(Country_Namess[72])\n",
        "Latin_America_and_Caribbean2.append(Country_Namess[49])\n",
        "Latin_America_and_Caribbean2.append(Country_Namess[37])\n",
        "Latin_America_and_Caribbean2.append(Country_Namess[28])\n",
        "Latin_America_and_Caribbean2.append(Country_Namess[17])\n",
        "Latin_America_and_Caribbean2.append(Country_Namess[14])\n",
        "Latin_America_and_Caribbean2.append(Country_Namess[10])\n",
        "Latin_America_and_Caribbean2.append(Country_Namess[7])\n",
        "Latin_America_and_Caribbean2.append(Country_Namess[6])\n",
        "\n",
        "Latin_America_and_Caribbean2_sum2 =[]\n",
        "Latin_America_and_Caribbean2_sum2.append(df3[\"Value\"][48])\n",
        "Latin_America_and_Caribbean2_sum2.append(df3[\"Value\"][54])\n",
        "Latin_America_and_Caribbean2_sum2.append(df3[\"Value\"][53])\n",
        "Latin_America_and_Caribbean2_sum2.append(df3[\"Value\"][78])\n",
        "Latin_America_and_Caribbean2_sum2.append(df3[\"Value\"][91])\n",
        "Latin_America_and_Caribbean2_sum2.append(df3[\"Value\"][183])\n",
        "Latin_America_and_Caribbean2_sum2.append(df3[\"Value\"][156])\n",
        "Latin_America_and_Caribbean2_sum2.append(df3[\"Value\"][154])\n",
        "Latin_America_and_Caribbean2_sum2.append(df3[\"Value\"][153])\n",
        "Latin_America_and_Caribbean2_sum2.append(df3[\"Value\"][152])\n",
        "Latin_America_and_Caribbean2_sum2.append(df3[\"Value\"][143])\n",
        "Latin_America_and_Caribbean2_sum2.append(df3[\"Value\"][118])\n",
        "Latin_America_and_Caribbean2_sum2.append(df3[\"Value\"][111])\n",
        "Latin_America_and_Caribbean2_sum2.append(df3[\"Value\"][72])\n",
        "Latin_America_and_Caribbean2_sum2.append(df3[\"Value\"][49])\n",
        "Latin_America_and_Caribbean2_sum2.append(df3[\"Value\"][37])\n",
        "Latin_America_and_Caribbean2_sum2.append(df3[\"Value\"][28])\n",
        "Latin_America_and_Caribbean2_sum2.append(df3[\"Value\"][17])\n",
        "Latin_America_and_Caribbean2_sum2.append(df3[\"Value\"][14])\n",
        "Latin_America_and_Caribbean2_sum2.append(df3[\"Value\"][10])\n",
        "Latin_America_and_Caribbean2_sum2.append(df3[\"Value\"][7])\n",
        "Latin_America_and_Caribbean2_sum2.append(df3[\"Value\"][6])\n",
        "\n",
        "df6007 = pd.DataFrame({'Latin_America_and_Caribbean2':Latin_America_and_Caribbean2,'Latin_America_and_Caribbean2_sum':Latin_America_and_Caribbean2_sum2})\n",
        "ax6007 = df6007.plot.bar(x='Latin_America_and_Caribbean2', y='Latin_America_and_Caribbean2_sum', rot=90)"
      ],
      "execution_count": null,
      "outputs": [
        {
          "output_type": "display_data",
          "data": {
            "image/png": "[encoded data removed]",
            "text/plain": [
              "<Figure size 432x288 with 1 Axes>"
            ]
          },
          "metadata": {
            "tags": [],
            "needs_background": "light"
          }
        }
      ]
    },
    {
      "cell_type": "markdown",
      "metadata": {
        "id": "79LFYaR1E4zq"
      },
      "source": [
        "### Visualizations Descriptive Statistics of Additional Dataset 2"
      ]
    },
    {
      "cell_type": "markdown",
      "metadata": {
        "id": "ltkrLiqZE8zo"
      },
      "source": [
        "In the code piece below, we read our fourth dataset (from United Nations International Migration) and since some of the lines are not necessary we drop them from the start. We also created lists for both countries and migrant values and store the respective values in them."
      ]
    },
    {
      "cell_type": "code",
      "metadata": {
        "id": "cj1m2E4Tnuf1",
        "colab": {
          "base_uri": "https://localhost:8080/"
        },
        "outputId": "1be0f82e-6f3c-402e-80fc-86c929d7c3a3"
      },
      "source": [
        "df5 = pd.read_excel(\"UN_MigrantStockByOriginAndDestination_2017.xlsx\",sheet_name=1,header=15,usecols=\"C,G\")\n",
        "\n",
        "for i in range (0,1633):\n",
        "  df5 = df5.drop(i)\n",
        "for i in range (1890,1917):\n",
        "  df5 = df5.drop(i)\n",
        "\n",
        "Country_Names4 = []\n",
        "total_migrant4 = []\n",
        "for i in range(1633,1890):\n",
        "  if df5[\"Unnamed: 2\"][i] not in Country_Names4:\n",
        "    Country_Names4.append(df5[\"Unnamed: 2\"][i])\n",
        "    total_migrant4.append(df5[\"Total\"][i])\n",
        "\n",
        "\n",
        "df5 = df5.drop(1880)\n",
        "df5 = df5.drop(1872)\n",
        "df5 = df5.drop(1866)\n",
        "df5 = df5.drop(1863)\n",
        "df5 = df5.drop(1856)\n",
        "df5 = df5.drop(1841)\n",
        "df5 = df5.drop(1832)\n",
        "df5 = df5.drop(1805)\n",
        "df5 = df5.drop(1804)\n",
        "df5 = df5.drop(1794)\n",
        "df5 = df5.drop(1777)\n",
        "df5 = df5.drop(1763)\n",
        "df5 = df5.drop(1752)\n",
        "df5 = df5.drop(1751)\n",
        "df5 = df5.drop(1732)\n",
        "df5 = df5.drop(1720)\n",
        "df5 = df5.drop(1710)\n",
        "df5 = df5.drop(1702)\n",
        "df5 = df5.drop(1696)\n",
        "df5 = df5.drop(1695)\n",
        "df5 = df5.drop(1677)\n",
        "df5 = df5.drop(1671)\n",
        "df5 = df5.drop(1663)\n",
        "df5 = df5.drop(1653)\n",
        "\n",
        "\n",
        "print(df5)"
      ],
      "execution_count": null,
      "outputs": [
        {
          "output_type": "stream",
          "text": [
            "                     Unnamed: 2    Total\n",
            "1633                    Burundi   299569\n",
            "1634                    Comoros    12555\n",
            "1635                   Djibouti   116089\n",
            "1636                    Eritrea    16041\n",
            "1637                   Ethiopia  1227143\n",
            "...                         ...      ...\n",
            "1885                      Samoa     4879\n",
            "1886                    Tokelau      504\n",
            "1887                      Tonga     4952\n",
            "1888                     Tuvalu      143\n",
            "1889  Wallis and Futuna Islands     2779\n",
            "\n",
            "[233 rows x 2 columns]\n"
          ],
          "name": "stdout"
        }
      ]
    },
    {
      "cell_type": "markdown",
      "metadata": {
        "id": "xqLzcLA9FIiO"
      },
      "source": [
        "### Spatial and Temporal Analysis of Additional Dataset 2"
      ]
    },
    {
      "cell_type": "markdown",
      "metadata": {
        "id": "ZEtYM0zFGcll"
      },
      "source": [
        "Below is all the numeric data of column total (migrant value) in order have a general perspective of the world."
      ]
    },
    {
      "cell_type": "code",
      "metadata": {
        "id": "14MgeP9iGPqA",
        "colab": {
          "base_uri": "https://localhost:8080/",
          "height": 171
        },
        "outputId": "713309a5-0997-48ee-f72e-a10afeb69abd"
      },
      "source": [
        "df5.describe()"
      ],
      "execution_count": null,
      "outputs": [
        {
          "output_type": "execute_result",
          "data": {
            "text/html": [
              "<div>\n",
              "<style scoped>\n",
              "    .dataframe tbody tr th:only-of-type {\n",
              "        vertical-align: middle;\n",
              "    }\n",
              "\n",
              "    .dataframe tbody tr th {\n",
              "        vertical-align: top;\n",
              "    }\n",
              "\n",
              "    .dataframe thead th {\n",
              "        text-align: right;\n",
              "    }\n",
              "</style>\n",
              "<table border=\"1\" class=\"dataframe\">\n",
              "  <thead>\n",
              "    <tr style=\"text-align: right;\">\n",
              "      <th></th>\n",
              "      <th>Unnamed: 2</th>\n",
              "      <th>Total</th>\n",
              "    </tr>\n",
              "  </thead>\n",
              "  <tbody>\n",
              "    <tr>\n",
              "      <th>count</th>\n",
              "      <td>233</td>\n",
              "      <td>233</td>\n",
              "    </tr>\n",
              "    <tr>\n",
              "      <th>unique</th>\n",
              "      <td>233</td>\n",
              "      <td>233</td>\n",
              "    </tr>\n",
              "    <tr>\n",
              "      <th>top</th>\n",
              "      <td>Libya</td>\n",
              "      <td>798944</td>\n",
              "    </tr>\n",
              "    <tr>\n",
              "      <th>freq</th>\n",
              "      <td>1</td>\n",
              "      <td>1</td>\n",
              "    </tr>\n",
              "  </tbody>\n",
              "</table>\n",
              "</div>"
            ],
            "text/plain": [
              "       Unnamed: 2   Total\n",
              "count         233     233\n",
              "unique        233     233\n",
              "top         Libya  798944\n",
              "freq            1       1"
            ]
          },
          "metadata": {
            "tags": []
          },
          "execution_count": 88
        }
      ]
    },
    {
      "cell_type": "markdown",
      "metadata": {
        "id": "VIY_43ipGf8t"
      },
      "source": [
        "We created a box plot for the migrant value.\n"
      ]
    },
    {
      "cell_type": "markdown",
      "metadata": {
        "id": "-3JMKm10g0vJ"
      },
      "source": [
        "### Analyzing Countries with the Most Immigration and Emigration Statistics"
      ]
    },
    {
      "cell_type": "markdown",
      "metadata": {
        "id": "1ndi2R6katrY"
      },
      "source": [
        "In order to create a new dataframe we find the same countries from each four datasets and their respective happiness sum, intentional homicide rates, migrant percentage and migrant value. We created new lists for each one of them and store the values in those lists. By using the lists we created a combination of all of our datasets."
      ]
    },
    {
      "cell_type": "code",
      "metadata": {
        "id": "7EpGKkM6FtWA",
        "colab": {
          "base_uri": "https://localhost:8080/"
        },
        "outputId": "ed5768a8-c0ab-4973-a8fb-4c05b0629bc9"
      },
      "source": [
        "total_country = []\n",
        "total_happiness = []\n",
        "total_mortality = []\n",
        "total_percent_migrant = []\n",
        "total_migrant = []\n",
        "\n",
        "\n",
        "for i in range (len(Country_Name)):\n",
        "  for j in range (len(Country_Namess)):\n",
        "    for k in range (len(Country_Names)):\n",
        "      for l in range (len(Country_Names4)):\n",
        "        if Country_Name[i] == Country_Namess[j] == Country_Names[k] == Country_Names4[l]:\n",
        "          total_country.append(Country_Name[i])\n",
        "          total_happiness.append(Happiness_Sum[i])\n",
        "          total_mortality.append(Homicide_Value[j])\n",
        "          total_percent_migrant.append(Migrant_Value[k])\n",
        "          total_migrant.append(total_migrant4[l])\n",
        "\n",
        "\n",
        "df4 = pd.DataFrame({'total_country':total_country,'total_happiness':total_happiness, 'total_mortality':total_mortality, 'total_percent_migrant':total_percent_migrant, 'total_migrant':total_migrant})\n",
        "\n",
        "print(df4)"
      ],
      "execution_count": null,
      "outputs": [
        {
          "output_type": "stream",
          "text": [
            "    total_country  total_happiness  ...  total_percent_migrant  total_migrant\n",
            "0     Afghanistan        63.792171  ...             -10.152265         133612\n",
            "1         Albania        85.964210  ...              -1.312350          52484\n",
            "2         Algeria        82.043250  ...               1.912331         248624\n",
            "3          Angola        69.175770  ...              15.718606         638499\n",
            "4       Argentina        88.990971  ...               2.084937        2164524\n",
            "..            ...              ...  ...                    ...            ...\n",
            "126       Uruguay        91.565477  ...              -0.125632          79586\n",
            "127    Uzbekistan        81.051540  ...              -1.013602        1159190\n",
            "128         Yemen        68.393174  ...               5.511646         384321\n",
            "129        Zambia        69.052716  ...              -3.075620         156982\n",
            "130      Zimbabwe        63.530274  ...               0.187033         403866\n",
            "\n",
            "[131 rows x 5 columns]\n"
          ],
          "name": "stdout"
        }
      ]
    },
    {
      "cell_type": "markdown",
      "metadata": {
        "id": "rQAde9RWaukK"
      },
      "source": [
        "In order to look at all the values for the three most countries who has the most migrated from/toward rates we sorted our data by total migrant percentage."
      ]
    },
    {
      "cell_type": "code",
      "metadata": {
        "colab": {
          "base_uri": "https://localhost:8080/"
        },
        "id": "R-NCgGnyS6KT",
        "outputId": "e22d0fbe-03bc-417a-f8e7-d99e92bd50a9"
      },
      "source": [
        "df4 = df4.sort_values(by=['total_percent_migrant'])\n",
        "\n",
        "print(df4)"
      ],
      "execution_count": null,
      "outputs": [
        {
          "output_type": "stream",
          "text": [
            "    total_country  total_happiness  ...  total_percent_migrant  total_migrant\n",
            "0     Afghanistan        63.792171  ...             -10.152265         133612\n",
            "5         Armenia        82.645044  ...              -6.025505         190719\n",
            "69      Lithuania        86.986035  ...              -4.057738         124706\n",
            "64     Kyrgyzstan        78.993892  ...              -3.175964         200294\n",
            "129        Zambia        69.052716  ...              -3.075620         156982\n",
            "..            ...              ...  ...                    ...            ...\n",
            "90           Oman        84.681756  ...               8.901863        2073292\n",
            "99        Romania        86.330152  ...               9.021344         370753\n",
            "122        Uganda        67.730737  ...               9.808346        1692120\n",
            "120        Turkey        84.009531  ...              10.392855        4881966\n",
            "3          Angola        69.175770  ...              15.718606         638499\n",
            "\n",
            "[131 rows x 5 columns]\n"
          ],
          "name": "stdout"
        }
      ]
    },
    {
      "cell_type": "markdown",
      "metadata": {
        "id": "frSqSQ2HHi3K"
      },
      "source": [
        "Below is all the numeric data we collected for each category to have a general perspective of the world."
      ]
    },
    {
      "cell_type": "code",
      "metadata": {
        "id": "SCUf8r-_riZb",
        "colab": {
          "base_uri": "https://localhost:8080/",
          "height": 294
        },
        "outputId": "8220a501-4450-442b-b22f-c081f40d6746"
      },
      "source": [
        "df4.describe()"
      ],
      "execution_count": null,
      "outputs": [
        {
          "output_type": "execute_result",
          "data": {
            "text/html": [
              "<div>\n",
              "<style scoped>\n",
              "    .dataframe tbody tr th:only-of-type {\n",
              "        vertical-align: middle;\n",
              "    }\n",
              "\n",
              "    .dataframe tbody tr th {\n",
              "        vertical-align: top;\n",
              "    }\n",
              "\n",
              "    .dataframe thead th {\n",
              "        text-align: right;\n",
              "    }\n",
              "</style>\n",
              "<table border=\"1\" class=\"dataframe\">\n",
              "  <thead>\n",
              "    <tr style=\"text-align: right;\">\n",
              "      <th></th>\n",
              "      <th>total_happiness</th>\n",
              "      <th>total_mortality</th>\n",
              "      <th>total_percent_migrant</th>\n",
              "      <th>total_migrant</th>\n",
              "    </tr>\n",
              "  </thead>\n",
              "  <tbody>\n",
              "    <tr>\n",
              "      <th>count</th>\n",
              "      <td>131.000000</td>\n",
              "      <td>131.000000</td>\n",
              "      <td>131.000000</td>\n",
              "      <td>1.310000e+02</td>\n",
              "    </tr>\n",
              "    <tr>\n",
              "      <th>mean</th>\n",
              "      <td>83.100610</td>\n",
              "      <td>7.371020</td>\n",
              "      <td>2.164028</td>\n",
              "      <td>1.346529e+06</td>\n",
              "    </tr>\n",
              "    <tr>\n",
              "      <th>std</th>\n",
              "      <td>10.821182</td>\n",
              "      <td>11.720272</td>\n",
              "      <td>3.320134</td>\n",
              "      <td>2.295948e+06</td>\n",
              "    </tr>\n",
              "    <tr>\n",
              "      <th>min</th>\n",
              "      <td>55.881946</td>\n",
              "      <td>0.267500</td>\n",
              "      <td>-10.152265</td>\n",
              "      <td>6.749000e+03</td>\n",
              "    </tr>\n",
              "    <tr>\n",
              "      <th>25%</th>\n",
              "      <td>75.317608</td>\n",
              "      <td>1.261333</td>\n",
              "      <td>-0.006628</td>\n",
              "      <td>1.116680e+05</td>\n",
              "    </tr>\n",
              "    <tr>\n",
              "      <th>50%</th>\n",
              "      <td>84.125618</td>\n",
              "      <td>2.765000</td>\n",
              "      <td>2.103124</td>\n",
              "      <td>3.990680e+05</td>\n",
              "    </tr>\n",
              "    <tr>\n",
              "      <th>75%</th>\n",
              "      <td>90.297590</td>\n",
              "      <td>7.988683</td>\n",
              "      <td>3.650825</td>\n",
              "      <td>1.251750e+06</td>\n",
              "    </tr>\n",
              "    <tr>\n",
              "      <th>max</th>\n",
              "      <td>100.783091</td>\n",
              "      <td>73.889100</td>\n",
              "      <td>15.718606</td>\n",
              "      <td>1.218528e+07</td>\n",
              "    </tr>\n",
              "  </tbody>\n",
              "</table>\n",
              "</div>"
            ],
            "text/plain": [
              "       total_happiness  total_mortality  total_percent_migrant  total_migrant\n",
              "count       131.000000       131.000000             131.000000   1.310000e+02\n",
              "mean         83.100610         7.371020               2.164028   1.346529e+06\n",
              "std          10.821182        11.720272               3.320134   2.295948e+06\n",
              "min          55.881946         0.267500             -10.152265   6.749000e+03\n",
              "25%          75.317608         1.261333              -0.006628   1.116680e+05\n",
              "50%          84.125618         2.765000               2.103124   3.990680e+05\n",
              "75%          90.297590         7.988683               3.650825   1.251750e+06\n",
              "max         100.783091        73.889100              15.718606   1.218528e+07"
            ]
          },
          "metadata": {
            "tags": []
          },
          "execution_count": 92
        }
      ]
    },
    {
      "cell_type": "markdown",
      "metadata": {
        "id": "aZ7s5hhIBLxH"
      },
      "source": [
        "##Statistical Analysis & Hypothesis Testing"
      ]
    },
    {
      "cell_type": "markdown",
      "metadata": {
        "id": "7o5z6FCxDHnD"
      },
      "source": [
        "###Statistical Tests to Investigate Effects of Features in Global Happiness Report to Life Ladder (Happiness Score) "
      ]
    },
    {
      "cell_type": "markdown",
      "metadata": {
        "id": "UsHrrToD9K02"
      },
      "source": [
        "H0:The life ladder average of the countries with a happiness score lower than the average is equal to life ladder average of all countries.\n",
        "\n",
        "H1: The life ladder average of the countries with a happiness score lower than the average is not equal to life ladder average of all countries."
      ]
    },
    {
      "cell_type": "code",
      "metadata": {
        "id": "oLXVyH019LkZ",
        "colab": {
          "base_uri": "https://localhost:8080/"
        },
        "outputId": "dcb37542-4282-4cbf-fdda-afacf9df9cd2"
      },
      "source": [
        "sample = df[df['sum'] < 79.9]\n",
        "ttest_1samp(sample['sum'], df['Life Ladder'].mean())"
      ],
      "execution_count": null,
      "outputs": [
        {
          "output_type": "execute_result",
          "data": {
            "text/plain": [
              "Ttest_1sampResult(statistic=34.52804625979988, pvalue=1.5638227831281734e-43)"
            ]
          },
          "metadata": {
            "tags": []
          },
          "execution_count": 93
        }
      ]
    },
    {
      "cell_type": "markdown",
      "metadata": {
        "id": "-kgJomGT93z1"
      },
      "source": [
        "Assuming the treshold value is 0.05. Since our p-value is lower than the treshold value, we can reject the null hypothesis and claim that there is a statistically significant difference between mean of life ladder of the countries with a happiness score lower than the average and life ladder of all countries."
      ]
    },
    {
      "cell_type": "markdown",
      "metadata": {
        "id": "Ls2HzS6LDR0D"
      },
      "source": [
        "###Analyzing Migration Flows with Global Happiness Report Features to Infer Driving Factors of Global Migration Patterns"
      ]
    },
    {
      "cell_type": "markdown",
      "metadata": {
        "id": "U_BPaTDswlNe"
      },
      "source": [
        "H0: The total migrant percentage average of the countries with a happiness value lower than the average is equal to the total migrant percentage average of all countries.\n",
        "\n",
        "H1: The total migrant percentage average of the countries with a happiness value lower than the average is not equal to the total migrant percentage average of all countries."
      ]
    },
    {
      "cell_type": "code",
      "metadata": {
        "id": "8TDKTJrtrnvD",
        "colab": {
          "base_uri": "https://localhost:8080/"
        },
        "outputId": "d6fe6233-d241-49a8-da09-fbd6f59ebd2c"
      },
      "source": [
        "sample = df4[df4.total_happiness < 83.1]\n",
        "ttest_1samp(sample['total_percent_migrant'], df4['total_percent_migrant'].mean())"
      ],
      "execution_count": null,
      "outputs": [
        {
          "output_type": "execute_result",
          "data": {
            "text/plain": [
              "Ttest_1sampResult(statistic=-0.7511184614263294, pvalue=0.45567131573293573)"
            ]
          },
          "metadata": {
            "tags": []
          },
          "execution_count": 94
        }
      ]
    },
    {
      "cell_type": "markdown",
      "metadata": {
        "id": "Czp-LzkxvpED"
      },
      "source": [
        "Assuming the treshold value is 0.05. Since our p-value is higher than the treshold value, we can accept the null hypothesis and claim that the total migrant percentage average of the countries with a happiness value lower than the average is equal to the total migrant percentage average of all countries."
      ]
    },
    {
      "cell_type": "code",
      "metadata": {
        "colab": {
          "base_uri": "https://localhost:8080/"
        },
        "id": "gibFnVSdviUy",
        "outputId": "0e5d665b-716b-4d76-f76e-b4a858314930"
      },
      "source": [
        "sample = df4[df4.total_happiness > 83.1]\n",
        "ttest_1samp(sample['total_percent_migrant'], df4['total_percent_migrant'].mean())"
      ],
      "execution_count": null,
      "outputs": [
        {
          "output_type": "execute_result",
          "data": {
            "text/plain": [
              "Ttest_1sampResult(statistic=0.9701105406385045, pvalue=0.33523909954548625)"
            ]
          },
          "metadata": {
            "tags": []
          },
          "execution_count": 95
        }
      ]
    },
    {
      "cell_type": "markdown",
      "metadata": {
        "id": "_S0uHalQEQ9N"
      },
      "source": [
        "###Analyzing Similarities & Differences in Migration Patterns of Countries from the UN’s Origin-Destination Dataset"
      ]
    },
    {
      "cell_type": "markdown",
      "metadata": {
        "id": "70FiWFStH4EG"
      },
      "source": [
        "In order to compare the similarities and difference of migration patterns for countries we sorted our data by total migrant value."
      ]
    },
    {
      "cell_type": "code",
      "metadata": {
        "id": "vzN9plla4DWK",
        "colab": {
          "base_uri": "https://localhost:8080/"
        },
        "outputId": "f3a3d4d5-670f-4b29-c5fc-8e48abe32df9"
      },
      "source": [
        "\n",
        "df6 = df4.sort_values(by=['total_migrant'])\n",
        "print(df6)\n",
        "print(df6['total_migrant'].median())\n",
        "for i in range(len(df6)):\n",
        "  if df6['total_migrant'][i] == 399068.0:\n",
        "    print(df6['total_country'][i])"
      ],
      "execution_count": null,
      "outputs": [
        {
          "output_type": "stream",
          "text": [
            "            total_country  ...  total_migrant\n",
            "67                Lesotho  ...           6749\n",
            "31                   Cuba  ...          13136\n",
            "47                 Guyana  ...          15530\n",
            "77               Mongolia  ...          18204\n",
            "58                Jamaica  ...          23332\n",
            "..                    ...  ...            ...\n",
            "41                 France  ...        7902783\n",
            "124  United Arab Emirates  ...        8312524\n",
            "125        United Kingdom  ...        8841717\n",
            "43                Germany  ...       12165083\n",
            "101          Saudi Arabia  ...       12185284\n",
            "\n",
            "[131 rows x 5 columns]\n",
            "399068.0\n",
            "Ecuador\n"
          ],
          "name": "stdout"
        }
      ]
    },
    {
      "cell_type": "code",
      "metadata": {
        "id": "9L6f8G05RBdq",
        "colab": {
          "base_uri": "https://localhost:8080/",
          "height": 202
        },
        "outputId": "d3d4cbf1-326e-4583-f0f8-f8b9221cbe19"
      },
      "source": [
        "total_country1 = []\n",
        "total_happiness1 = []\n",
        "total_mortality1 = []\n",
        "total_percent_migrant1 = []\n",
        "total_migrant1 = []\n",
        "\n",
        "\n",
        "total_country1.append(df6[\"total_country\"][67])\n",
        "total_happiness1.append(df6[\"total_happiness\"][67])\n",
        "total_mortality1.append(df6[\"total_mortality\"][67])\n",
        "total_percent_migrant1.append(df6[\"total_percent_migrant\"][67])\n",
        "total_migrant1.append(df6[\"total_migrant\"][67])\n",
        "\n",
        "total_country1.append(df6[\"total_country\"][31])\n",
        "total_happiness1.append(df6[\"total_happiness\"][31])\n",
        "total_mortality1.append(df6[\"total_mortality\"][31])\n",
        "total_percent_migrant1.append(df6[\"total_percent_migrant\"][31])\n",
        "total_migrant1.append(df6[\"total_migrant\"][31])\n",
        "\n",
        "total_country1.append(df6[\"total_country\"][47])\n",
        "total_happiness1.append(df6[\"total_happiness\"][47])\n",
        "total_mortality1.append(df6[\"total_mortality\"][47])\n",
        "total_percent_migrant1.append(df6[\"total_percent_migrant\"][47])\n",
        "total_migrant1.append(df6[\"total_migrant\"][47])\n",
        "\n",
        "total_country1.append(df6[\"total_country\"][77])\n",
        "total_happiness1.append(df6[\"total_happiness\"][77])\n",
        "total_mortality1.append(df6[\"total_mortality\"][77])\n",
        "total_percent_migrant1.append(df6[\"total_percent_migrant\"][77])\n",
        "total_migrant1.append(df6[\"total_migrant\"][77])\n",
        "\n",
        "total_country1.append(df6[\"total_country\"][58])\n",
        "total_happiness1.append(df6[\"total_happiness\"][58])\n",
        "total_mortality1.append(df6[\"total_mortality\"][58])\n",
        "total_percent_migrant1.append(df6[\"total_percent_migrant\"][58])\n",
        "total_migrant1.append(df6[\"total_migrant\"][58])\n",
        "\n",
        "\n",
        "df12 = pd.DataFrame({'total_country1':total_country1,'total_happiness1':total_happiness1, 'total_mortality1':total_mortality1, 'total_percent_migrant1':total_percent_migrant1, 'total_migrant1':total_migrant1})\n",
        "\n",
        "display(df12)"
      ],
      "execution_count": null,
      "outputs": [
        {
          "output_type": "display_data",
          "data": {
            "text/html": [
              "<div>\n",
              "<style scoped>\n",
              "    .dataframe tbody tr th:only-of-type {\n",
              "        vertical-align: middle;\n",
              "    }\n",
              "\n",
              "    .dataframe tbody tr th {\n",
              "        vertical-align: top;\n",
              "    }\n",
              "\n",
              "    .dataframe thead th {\n",
              "        text-align: right;\n",
              "    }\n",
              "</style>\n",
              "<table border=\"1\" class=\"dataframe\">\n",
              "  <thead>\n",
              "    <tr style=\"text-align: right;\">\n",
              "      <th></th>\n",
              "      <th>total_country1</th>\n",
              "      <th>total_happiness1</th>\n",
              "      <th>total_mortality1</th>\n",
              "      <th>total_percent_migrant1</th>\n",
              "      <th>total_migrant1</th>\n",
              "    </tr>\n",
              "  </thead>\n",
              "  <tbody>\n",
              "    <tr>\n",
              "      <th>0</th>\n",
              "      <td>Lesotho</td>\n",
              "      <td>63.533207</td>\n",
              "      <td>39.392833</td>\n",
              "      <td>0.735317</td>\n",
              "      <td>6749</td>\n",
              "    </tr>\n",
              "    <tr>\n",
              "      <th>1</th>\n",
              "      <td>Cuba</td>\n",
              "      <td>84.972084</td>\n",
              "      <td>5.206200</td>\n",
              "      <td>-1.879165</td>\n",
              "      <td>13136</td>\n",
              "    </tr>\n",
              "    <tr>\n",
              "      <th>2</th>\n",
              "      <td>Guyana</td>\n",
              "      <td>75.202602</td>\n",
              "      <td>17.738825</td>\n",
              "      <td>2.474129</td>\n",
              "      <td>15530</td>\n",
              "    </tr>\n",
              "    <tr>\n",
              "      <th>3</th>\n",
              "      <td>Mongolia</td>\n",
              "      <td>79.925103</td>\n",
              "      <td>9.173700</td>\n",
              "      <td>3.402538</td>\n",
              "      <td>18204</td>\n",
              "    </tr>\n",
              "    <tr>\n",
              "      <th>4</th>\n",
              "      <td>Jamaica</td>\n",
              "      <td>86.211290</td>\n",
              "      <td>54.751300</td>\n",
              "      <td>-0.203874</td>\n",
              "      <td>23332</td>\n",
              "    </tr>\n",
              "  </tbody>\n",
              "</table>\n",
              "</div>"
            ],
            "text/plain": [
              "  total_country1  total_happiness1  ...  total_percent_migrant1  total_migrant1\n",
              "0        Lesotho         63.533207  ...                0.735317            6749\n",
              "1           Cuba         84.972084  ...               -1.879165           13136\n",
              "2         Guyana         75.202602  ...                2.474129           15530\n",
              "3       Mongolia         79.925103  ...                3.402538           18204\n",
              "4        Jamaica         86.211290  ...               -0.203874           23332\n",
              "\n",
              "[5 rows x 5 columns]"
            ]
          },
          "metadata": {
            "tags": []
          }
        }
      ]
    },
    {
      "cell_type": "markdown",
      "metadata": {
        "id": "EACv144EQksH"
      },
      "source": [
        "These are the 5 countries with the lowest number of migrants. When we compare them we can see that mostly they are from different regions of the world (Lesotho: Africa, Cuba-Jamaica: Caribbeans, Mongolia: Asia, Guyana: South America). Appart from Lesotho, the happiness values of the countries are close to the mean of happiness value of all countries (83.1). Appart from Cuba, the number of intentional homicides are higher than the mean of intentional homicide values of all countries (7.4). When we look at the total percentage of migrant (outgoing and incoming combined) we can see that Jamaica and Cuba have an outgoing migrant percentage. Also Lesotho joins them to have a lower total percentage of migrant than the mean of total percentage of migrant of all countries (2.2)."
      ]
    },
    {
      "cell_type": "code",
      "metadata": {
        "colab": {
          "base_uri": "https://localhost:8080/",
          "height": 202
        },
        "id": "slelxI6jTrLw",
        "outputId": "4c9cfcaa-6623-4308-8876-a6d660989539"
      },
      "source": [
        "total_country2 = []\n",
        "total_happiness2 = []\n",
        "total_mortality2 = []\n",
        "total_percent_migrant2 = []\n",
        "total_migrant2 = []\n",
        "\n",
        "\n",
        "total_country2.append(df6[\"total_country\"][99])\n",
        "total_happiness2.append(df6[\"total_happiness\"][99])\n",
        "total_mortality2.append(df6[\"total_mortality\"][99])\n",
        "total_percent_migrant2.append(df6[\"total_percent_migrant\"][99])\n",
        "total_migrant2.append(df6[\"total_migrant\"][99])\n",
        "\n",
        "total_country2.append(df6[\"total_country\"][128])\n",
        "total_happiness2.append(df6[\"total_happiness\"][128])\n",
        "total_mortality2.append(df6[\"total_mortality\"][128])\n",
        "total_percent_migrant2.append(df6[\"total_percent_migrant\"][128])\n",
        "total_migrant2.append(df6[\"total_migrant\"][128])\n",
        "\n",
        "total_country2.append(df6[\"total_country\"][35])\n",
        "total_happiness2.append(df6[\"total_happiness\"][35])\n",
        "total_mortality2.append(df6[\"total_mortality\"][35])\n",
        "total_percent_migrant2.append(df6[\"total_percent_migrant\"][35])\n",
        "total_migrant2.append(df6[\"total_migrant\"][35])\n",
        "\n",
        "total_country2.append(df6[\"total_country\"][130])\n",
        "total_happiness2.append(df6[\"total_happiness\"][130])\n",
        "total_mortality2.append(df6[\"total_mortality\"][130])\n",
        "total_percent_migrant2.append(df6[\"total_percent_migrant\"][130])\n",
        "total_migrant2.append(df6[\"total_migrant\"][130])\n",
        "\n",
        "total_country2.append(df6[\"total_country\"][29])\n",
        "total_happiness2.append(df6[\"total_happiness\"][29])\n",
        "total_mortality2.append(df6[\"total_mortality\"][29])\n",
        "total_percent_migrant2.append(df6[\"total_percent_migrant\"][29])\n",
        "total_migrant2.append(df6[\"total_migrant\"][29])\n",
        "\n",
        "\n",
        "df13 = pd.DataFrame({'total_country2':total_country2,'total_happiness2':total_happiness2, 'total_mortality2':total_mortality2, 'total_percent_migrant2':total_percent_migrant2, 'total_migrant2':total_migrant2})\n",
        "\n",
        "display(df13)"
      ],
      "execution_count": null,
      "outputs": [
        {
          "output_type": "display_data",
          "data": {
            "text/html": [
              "<div>\n",
              "<style scoped>\n",
              "    .dataframe tbody tr th:only-of-type {\n",
              "        vertical-align: middle;\n",
              "    }\n",
              "\n",
              "    .dataframe tbody tr th {\n",
              "        vertical-align: top;\n",
              "    }\n",
              "\n",
              "    .dataframe thead th {\n",
              "        text-align: right;\n",
              "    }\n",
              "</style>\n",
              "<table border=\"1\" class=\"dataframe\">\n",
              "  <thead>\n",
              "    <tr style=\"text-align: right;\">\n",
              "      <th></th>\n",
              "      <th>total_country2</th>\n",
              "      <th>total_happiness2</th>\n",
              "      <th>total_mortality2</th>\n",
              "      <th>total_percent_migrant2</th>\n",
              "      <th>total_migrant2</th>\n",
              "    </tr>\n",
              "  </thead>\n",
              "  <tbody>\n",
              "    <tr>\n",
              "      <th>0</th>\n",
              "      <td>Romania</td>\n",
              "      <td>86.330152</td>\n",
              "      <td>14.122550</td>\n",
              "      <td>9.021344</td>\n",
              "      <td>370753</td>\n",
              "    </tr>\n",
              "    <tr>\n",
              "      <th>1</th>\n",
              "      <td>Yemen</td>\n",
              "      <td>68.393174</td>\n",
              "      <td>5.153750</td>\n",
              "      <td>5.511646</td>\n",
              "      <td>384321</td>\n",
              "    </tr>\n",
              "    <tr>\n",
              "      <th>2</th>\n",
              "      <td>Ecuador</td>\n",
              "      <td>86.069638</td>\n",
              "      <td>11.111200</td>\n",
              "      <td>5.332925</td>\n",
              "      <td>399068</td>\n",
              "    </tr>\n",
              "    <tr>\n",
              "      <th>3</th>\n",
              "      <td>Zimbabwe</td>\n",
              "      <td>63.530274</td>\n",
              "      <td>8.085967</td>\n",
              "      <td>0.187033</td>\n",
              "      <td>403866</td>\n",
              "    </tr>\n",
              "    <tr>\n",
              "      <th>4</th>\n",
              "      <td>Costa Rica</td>\n",
              "      <td>93.666400</td>\n",
              "      <td>10.044800</td>\n",
              "      <td>1.030025</td>\n",
              "      <td>414214</td>\n",
              "    </tr>\n",
              "  </tbody>\n",
              "</table>\n",
              "</div>"
            ],
            "text/plain": [
              "  total_country2  total_happiness2  ...  total_percent_migrant2  total_migrant2\n",
              "0        Romania         86.330152  ...                9.021344          370753\n",
              "1          Yemen         68.393174  ...                5.511646          384321\n",
              "2        Ecuador         86.069638  ...                5.332925          399068\n",
              "3       Zimbabwe         63.530274  ...                0.187033          403866\n",
              "4     Costa Rica         93.666400  ...                1.030025          414214\n",
              "\n",
              "[5 rows x 5 columns]"
            ]
          },
          "metadata": {
            "tags": []
          }
        }
      ]
    },
    {
      "cell_type": "markdown",
      "metadata": {
        "id": "wpHn1JTmQzNP"
      },
      "source": [
        "These are the 5 countries at the median of the df6 which sorts countries according to the incoming number of migrants. When we compare them we can see that mostly they are from different regions of the world (Zimbabwe: Africa, Yemen: Asia, Romania: Europe, Costa Rica: Central America, Ecuador: South America). Yemen and Zimbabwe have a fairly low total happiness value compared to Ecuador, Costa Rica and Romania and their values are lower than the mean of happiness value of all countries (83.1). Appart from Yemen, the number of intentional homicides are higher than the mean of intentional homicide values of all countries (7.4). When we look at the total percentage of migrant (outgoing and incoming combined) we can see that all countries have an incoming migrant percentage but Zimbabwe and Costa Rica have a lower total percentage of migrant than the mean of total percentage of migrant of all countries (2.2)."
      ]
    },
    {
      "cell_type": "code",
      "metadata": {
        "colab": {
          "base_uri": "https://localhost:8080/",
          "height": 202
        },
        "id": "qsOdfVsZUrK-",
        "outputId": "446871bc-3f1e-4b13-fbb1-0732224830dd"
      },
      "source": [
        "total_country3 = []\n",
        "total_happiness3 = []\n",
        "total_mortality3 = []\n",
        "total_percent_migrant3 = []\n",
        "total_migrant3 = []\n",
        "\n",
        "\n",
        "total_country3.append(df6[\"total_country\"][101])\n",
        "total_happiness3.append(df6[\"total_happiness\"][101])\n",
        "total_mortality3.append(df6[\"total_mortality\"][101])\n",
        "total_percent_migrant3.append(df6[\"total_percent_migrant\"][101])\n",
        "total_migrant3.append(df6[\"total_migrant\"][101])\n",
        "\n",
        "total_country3.append(df6[\"total_country\"][43])\n",
        "total_happiness3.append(df6[\"total_happiness\"][43])\n",
        "total_mortality3.append(df6[\"total_mortality\"][43])\n",
        "total_percent_migrant3.append(df6[\"total_percent_migrant\"][43])\n",
        "total_migrant3.append(df6[\"total_migrant\"][43])\n",
        "\n",
        "total_country3.append(df6[\"total_country\"][125])\n",
        "total_happiness3.append(df6[\"total_happiness\"][125])\n",
        "total_mortality3.append(df6[\"total_mortality\"][125])\n",
        "total_percent_migrant3.append(df6[\"total_percent_migrant\"][125])\n",
        "total_migrant3.append(df6[\"total_migrant\"][125])\n",
        "\n",
        "total_country3.append(df6[\"total_country\"][124])\n",
        "total_happiness3.append(df6[\"total_happiness\"][124])\n",
        "total_mortality3.append(df6[\"total_mortality\"][124])\n",
        "total_percent_migrant3.append(df6[\"total_percent_migrant\"][124])\n",
        "total_migrant3.append(df6[\"total_migrant\"][124])\n",
        "\n",
        "total_country3.append(df6[\"total_country\"][41])\n",
        "total_happiness3.append(df6[\"total_happiness\"][41])\n",
        "total_mortality3.append(df6[\"total_mortality\"][41])\n",
        "total_percent_migrant3.append(df6[\"total_percent_migrant\"][41])\n",
        "total_migrant3.append(df6[\"total_migrant\"][41])\n",
        "\n",
        "\n",
        "df14 = pd.DataFrame({'total_country3':total_country3,'total_happiness3':total_happiness3, 'total_mortality3':total_mortality3, 'total_percent_migrant3':total_percent_migrant3, 'total_migrant3':total_migrant3})\n",
        "\n",
        "display(df14)"
      ],
      "execution_count": null,
      "outputs": [
        {
          "output_type": "display_data",
          "data": {
            "text/html": [
              "<div>\n",
              "<style scoped>\n",
              "    .dataframe tbody tr th:only-of-type {\n",
              "        vertical-align: middle;\n",
              "    }\n",
              "\n",
              "    .dataframe tbody tr th {\n",
              "        vertical-align: top;\n",
              "    }\n",
              "\n",
              "    .dataframe thead th {\n",
              "        text-align: right;\n",
              "    }\n",
              "</style>\n",
              "<table border=\"1\" class=\"dataframe\">\n",
              "  <thead>\n",
              "    <tr style=\"text-align: right;\">\n",
              "      <th></th>\n",
              "      <th>total_country3</th>\n",
              "      <th>total_happiness3</th>\n",
              "      <th>total_mortality3</th>\n",
              "      <th>total_percent_migrant3</th>\n",
              "      <th>total_migrant3</th>\n",
              "    </tr>\n",
              "  </thead>\n",
              "  <tbody>\n",
              "    <tr>\n",
              "      <th>0</th>\n",
              "      <td>Saudi Arabia</td>\n",
              "      <td>85.029558</td>\n",
              "      <td>1.263300</td>\n",
              "      <td>5.421024</td>\n",
              "      <td>12185284</td>\n",
              "    </tr>\n",
              "    <tr>\n",
              "      <th>1</th>\n",
              "      <td>Germany</td>\n",
              "      <td>97.205265</td>\n",
              "      <td>1.050300</td>\n",
              "      <td>3.459155</td>\n",
              "      <td>12165083</td>\n",
              "    </tr>\n",
              "    <tr>\n",
              "      <th>2</th>\n",
              "      <td>United Kingdom</td>\n",
              "      <td>96.971176</td>\n",
              "      <td>1.259367</td>\n",
              "      <td>3.166751</td>\n",
              "      <td>8841717</td>\n",
              "    </tr>\n",
              "    <tr>\n",
              "      <th>3</th>\n",
              "      <td>United Arab Emirates</td>\n",
              "      <td>89.200139</td>\n",
              "      <td>0.759417</td>\n",
              "      <td>6.586672</td>\n",
              "      <td>8312524</td>\n",
              "    </tr>\n",
              "    <tr>\n",
              "      <th>4</th>\n",
              "      <td>France</td>\n",
              "      <td>96.853754</td>\n",
              "      <td>1.371275</td>\n",
              "      <td>1.043689</td>\n",
              "      <td>7902783</td>\n",
              "    </tr>\n",
              "  </tbody>\n",
              "</table>\n",
              "</div>"
            ],
            "text/plain": [
              "         total_country3  ...  total_migrant3\n",
              "0          Saudi Arabia  ...        12185284\n",
              "1               Germany  ...        12165083\n",
              "2        United Kingdom  ...         8841717\n",
              "3  United Arab Emirates  ...         8312524\n",
              "4                France  ...         7902783\n",
              "\n",
              "[5 rows x 5 columns]"
            ]
          },
          "metadata": {
            "tags": []
          }
        }
      ]
    },
    {
      "cell_type": "markdown",
      "metadata": {
        "id": "4kZVa1rQX5iS"
      },
      "source": [
        "These are the 5 countries with the highest number of migrants. When we compare them we can see that mostly they are from similar regions of the world (Saudi Arabia-United Arab Emirates: Asia, Germany-France-United Kingdom: Europe). The happiness values of the countries are much higher than the mean of happiness value of all countries (83.1). The number of intentional homicides are significantly lower than the mean of intentional homicide values of all countries (7.4). When we look at the total percentage of migrant (outgoing and incoming combined) we can see that all of them have an incoming migrant percentage but France have a lower total percentage of migrant than the mean of total percentage of migrant of all countries (2.2)."
      ]
    },
    {
      "cell_type": "markdown",
      "metadata": {
        "id": "TTCJv5yMByLP"
      },
      "source": [
        "###Hypothesis-1"
      ]
    },
    {
      "cell_type": "markdown",
      "metadata": {
        "id": "-tDKiA_cxVPq"
      },
      "source": [
        "\n",
        "H0:The total migrant percentage average of the countries with a homicide value lower than the average is equal to the total migrant percentage average of all countries.\n",
        "\n",
        "H1: The total migrant percentage average of the countries with a homicide value lower than the average is not equal to the total migrant percentage average of all countries.\n",
        "\n"
      ]
    },
    {
      "cell_type": "code",
      "metadata": {
        "id": "LJNw3oQTxoue",
        "colab": {
          "base_uri": "https://localhost:8080/"
        },
        "outputId": "82c3f95f-ff6e-4576-9c56-d77406e5b16e"
      },
      "source": [
        "sample = df4[df4.total_mortality < 7.4]\n",
        "ttest_1samp(sample['total_percent_migrant'], df4['total_percent_migrant'].mean())"
      ],
      "execution_count": null,
      "outputs": [
        {
          "output_type": "execute_result",
          "data": {
            "text/plain": [
              "Ttest_1sampResult(statistic=-0.5850235411040975, pvalue=0.559904447550378)"
            ]
          },
          "metadata": {
            "tags": []
          },
          "execution_count": 100
        }
      ]
    },
    {
      "cell_type": "markdown",
      "metadata": {
        "id": "whytR-GtyY0y"
      },
      "source": [
        "Assuming the treshold value is 0.05. Since our p-value is higher than the treshold value, we can accept the null hypothesis and claim that the total migrant percentage average of the countries with a homicide value lower than the average is equal to the total migrant percentage average of all countries."
      ]
    },
    {
      "cell_type": "code",
      "metadata": {
        "id": "cg4U2QVsx-mq",
        "colab": {
          "base_uri": "https://localhost:8080/"
        },
        "outputId": "2943b996-70ac-45df-ab82-a2bbd087589d"
      },
      "source": [
        "sample = df4[df4.total_mortality > 7.4]\n",
        "ttest_1samp(sample['total_percent_migrant'], df4['total_percent_migrant'].mean())"
      ],
      "execution_count": null,
      "outputs": [
        {
          "output_type": "execute_result",
          "data": {
            "text/plain": [
              "Ttest_1sampResult(statistic=1.1019992167637944, pvalue=0.2784346532508819)"
            ]
          },
          "metadata": {
            "tags": []
          },
          "execution_count": 101
        }
      ]
    },
    {
      "cell_type": "markdown",
      "metadata": {
        "id": "fHX6342QB718"
      },
      "source": [
        "###Hypothesis-2"
      ]
    },
    {
      "cell_type": "markdown",
      "metadata": {
        "id": "JZ0QOQgEeTfJ"
      },
      "source": [
        "H0:The total migrant percentage average of the countries with total migrant entering the country lower than the average is equal to the total migrant percentage average of all countries.\n",
        "\n",
        "H1: The total migrant percentage average of the countries with total migrant entering the country lower than the average is not equal to the total migrant percentage average of all countries."
      ]
    },
    {
      "cell_type": "code",
      "metadata": {
        "id": "SR-AQvR-eXX4",
        "colab": {
          "base_uri": "https://localhost:8080/"
        },
        "outputId": "0219719d-cce8-486d-e8b1-af7d341cffc5"
      },
      "source": [
        "sample = df4[df4.total_migrant < 1346529]\n",
        "ttest_1samp(sample['total_percent_migrant'], df4['total_percent_migrant'].mean())"
      ],
      "execution_count": null,
      "outputs": [
        {
          "output_type": "execute_result",
          "data": {
            "text/plain": [
              "Ttest_1sampResult(statistic=-1.4489687000708213, pvalue=0.15053865574107345)"
            ]
          },
          "metadata": {
            "tags": []
          },
          "execution_count": 102
        }
      ]
    },
    {
      "cell_type": "markdown",
      "metadata": {
        "id": "lyENrRfSNzhY"
      },
      "source": [
        "Assuming the treshold value is 0.05. Since our p-value is higher than the treshold value, we can accept the null hypothesis and claim that the total migrant percentage average of the countries with total migrant entering the coutnry lower than the average is equal to the total migrant percentage average of all countries."
      ]
    },
    {
      "cell_type": "markdown",
      "metadata": {
        "id": "iRsRx6qxEpgS"
      },
      "source": [
        "##Machine Learning"
      ]
    },
    {
      "cell_type": "markdown",
      "metadata": {
        "id": "z1u-HHfRE2gV"
      },
      "source": [
        "###Regression models to predict Life Ladder (Happiness Score) of countries"
      ]
    },
    {
      "cell_type": "markdown",
      "metadata": {
        "id": "iAnvXm_KJ826"
      },
      "source": [
        "We created a linear regression model between life ladder and sum values (happiness values) in order to show the rigth proportion between them. "
      ]
    },
    {
      "cell_type": "code",
      "metadata": {
        "colab": {
          "base_uri": "https://localhost:8080/",
          "height": 300
        },
        "id": "tIQ6bxFvIpad",
        "outputId": "55673d73-d283-4059-b862-b14f1251313c"
      },
      "source": [
        "from ipywidgets import interact, widgets\n",
        "y = df['sum']\n",
        "x = df['Life Ladder']\n",
        "\n",
        "plt.plot(x, y, 'o')\n",
        "m, b = np.polyfit(x, y, 1)\n",
        "plt.plot(x, m*x + b)\n",
        "\n",
        "print(m)\n",
        "print(b)"
      ],
      "execution_count": null,
      "outputs": [
        {
          "output_type": "stream",
          "text": [
            "8.93698978527355\n",
            "31.806153940748487\n"
          ],
          "name": "stdout"
        },
        {
          "output_type": "display_data",
          "data": {
            "image/png": "[encoded data removed]",
            "text/plain": [
              "<Figure size 432x288 with 1 Axes>"
            ]
          },
          "metadata": {
            "tags": [],
            "needs_background": "light"
          }
        }
      ]
    },
    {
      "cell_type": "markdown",
      "metadata": {
        "id": "IDIWuyUnE3wh"
      },
      "source": [
        "###Introducing Aggregated Migration Features of Countries to Regression Models"
      ]
    },
    {
      "cell_type": "markdown",
      "metadata": {
        "id": "O5MfIpXyKdpw"
      },
      "source": [
        "We created a linear regression model between happiness values and migrant percentage values in order to show the rigth proportion between them. Since happiness values has a rigth proportion with life ladder we can also say migrant percentage has a rigth proportion with life ladder."
      ]
    },
    {
      "cell_type": "code",
      "metadata": {
        "colab": {
          "base_uri": "https://localhost:8080/",
          "height": 300
        },
        "id": "CwpLkqjnMDuA",
        "outputId": "f81983f2-6010-48c5-c46e-6f551dd850e9"
      },
      "source": [
        "x = df4['total_happiness']\n",
        "y = df4['total_percent_migrant']\n",
        "\n",
        "plt.plot(x, y, 'o')\n",
        "m, b = np.polyfit(x, y, 1)\n",
        "plt.plot(x, m*x + b)\n",
        "\n",
        "print(m)\n",
        "print(b)"
      ],
      "execution_count": null,
      "outputs": [
        {
          "output_type": "stream",
          "text": [
            "0.02097732224679106\n",
            "0.4207994663093132\n"
          ],
          "name": "stdout"
        },
        {
          "output_type": "display_data",
          "data": {
            "image/png": "[encoded data removed]",
            "text/plain": [
              "<Figure size 432x288 with 1 Axes>"
            ]
          },
          "metadata": {
            "tags": [],
            "needs_background": "light"
          }
        }
      ]
    },
    {
      "cell_type": "markdown",
      "metadata": {
        "id": "fmWlaib8KqoM"
      },
      "source": [
        "We created a linear regression model between happiness values and migrant values in order to show the rigth proportion between them. Since happiness values has a rigth proportion with life ladder we can also say migrant values has a rigth proportion with life ladder."
      ]
    },
    {
      "cell_type": "code",
      "metadata": {
        "colab": {
          "base_uri": "https://localhost:8080/",
          "height": 311
        },
        "id": "TDsDDcnjO0x6",
        "outputId": "bb50e4a3-649a-4402-c081-097fa1145d80"
      },
      "source": [
        "x = df4['total_happiness']\n",
        "y = df4['total_migrant']\n",
        "\n",
        "plt.plot(x, y, 'o')\n",
        "m, b = np.polyfit(x, y, 1)\n",
        "plt.plot(x, m*x + b)\n",
        "\n",
        "print(m)\n",
        "print(b)"
      ],
      "execution_count": null,
      "outputs": [
        {
          "output_type": "stream",
          "text": [
            "64941.949802866075\n",
            "-4050186.886051804\n"
          ],
          "name": "stdout"
        },
        {
          "output_type": "display_data",
          "data": {
            "image/png": "[encoded data removed]",
            "text/plain": [
              "<Figure size 432x288 with 1 Axes>"
            ]
          },
          "metadata": {
            "tags": [],
            "needs_background": "light"
          }
        }
      ]
    },
    {
      "cell_type": "markdown",
      "metadata": {
        "id": "uMPVJDT6E8iZ"
      },
      "source": [
        "###Introducing Further Demographic and Socio-Economic Metrics from Additional Data Sources to Regression Models\n"
      ]
    },
    {
      "cell_type": "markdown",
      "metadata": {
        "id": "l8DZxcOFK7ap"
      },
      "source": [
        "We created a linear regression model between happiness values and intentional murder values per 100,000 people in order to show the inverse proportion between them. Since happiness values has a rigth proportion with life ladder we can also say intentional murder values per 100,000 people has a inverse proportion with life ladder."
      ]
    },
    {
      "cell_type": "code",
      "metadata": {
        "colab": {
          "base_uri": "https://localhost:8080/",
          "height": 300
        },
        "id": "GZKUUtw_PLNQ",
        "outputId": "488c0a0f-e319-4258-d833-dfc5fcfff493"
      },
      "source": [
        "x = df4['total_happiness']\n",
        "y = df4['total_mortality']\n",
        "\n",
        "plt.plot(x, y, 'o')\n",
        "m, b = np.polyfit(x, y, 1)\n",
        "plt.plot(x, m*x + b)\n",
        "\n",
        "print(m)\n",
        "print(b)"
      ],
      "execution_count": null,
      "outputs": [
        {
          "output_type": "stream",
          "text": [
            "-0.22699541867902154\n",
            "26.23447788034594\n"
          ],
          "name": "stdout"
        },
        {
          "output_type": "display_data",
          "data": {
            "image/png": "[encoded data removed]",
            "text/plain": [
              "<Figure size 432x288 with 1 Axes>"
            ]
          },
          "metadata": {
            "tags": [],
            "needs_background": "light"
          }
        }
      ]
    },
    {
      "cell_type": "markdown",
      "metadata": {
        "id": "vNUOAI5TSShc"
      },
      "source": [
        "###Combination of Regression Models to Predict Life Ladder of Countries"
      ]
    },
    {
      "cell_type": "markdown",
      "metadata": {
        "id": "oHUMgvRvLUD2"
      },
      "source": [
        "In order to find the score, coefficant and intercept value we again created a linear regression between happiness value and migrant percentage value."
      ]
    },
    {
      "cell_type": "code",
      "metadata": {
        "id": "TN1XN-zFWm_A"
      },
      "source": [
        "from sklearn.model_selection import train_test_split \n",
        "from sklearn.linear_model import LinearRegression\n",
        "from sklearn import metrics\n",
        "from sklearn.metrics import mean_squared_error, mean_absolute_error\n",
        "\n",
        "combined = np.vstack((df4['total_happiness'], df4['total_percent_migrant'])).T\n",
        "X = combined\n",
        "y = np.dot(X, np.array([1, 2])) + 3\n",
        "\n",
        "reg = LinearRegression().fit(X, y)"
      ],
      "execution_count": null,
      "outputs": []
    },
    {
      "cell_type": "code",
      "metadata": {
        "colab": {
          "base_uri": "https://localhost:8080/"
        },
        "id": "nh6NrcXak8oR",
        "outputId": "4363598f-bb80-44ec-ff76-bad7ac80462e"
      },
      "source": [
        "reg.score(X, y)"
      ],
      "execution_count": null,
      "outputs": [
        {
          "output_type": "execute_result",
          "data": {
            "text/plain": [
              "1.0"
            ]
          },
          "metadata": {
            "tags": []
          },
          "execution_count": 108
        }
      ]
    },
    {
      "cell_type": "code",
      "metadata": {
        "colab": {
          "base_uri": "https://localhost:8080/"
        },
        "id": "mA_OdBmWk25U",
        "outputId": "9e97dccf-0801-4986-c691-e5c4843d3afc"
      },
      "source": [
        "reg.coef_"
      ],
      "execution_count": null,
      "outputs": [
        {
          "output_type": "execute_result",
          "data": {
            "text/plain": [
              "array([1., 2.])"
            ]
          },
          "metadata": {
            "tags": []
          },
          "execution_count": 109
        }
      ]
    },
    {
      "cell_type": "code",
      "metadata": {
        "colab": {
          "base_uri": "https://localhost:8080/"
        },
        "id": "QvNOf5U_kvj5",
        "outputId": "8d311020-ec7c-4fb5-8a5e-83a33fe5ff49"
      },
      "source": [
        "reg.intercept_"
      ],
      "execution_count": null,
      "outputs": [
        {
          "output_type": "execute_result",
          "data": {
            "text/plain": [
              "2.999999999999986"
            ]
          },
          "metadata": {
            "tags": []
          },
          "execution_count": 110
        }
      ]
    },
    {
      "cell_type": "markdown",
      "metadata": {
        "id": "6_FMcLwRM-ab"
      },
      "source": [
        "We created a new dataframe with the same countries from each four datasets and their respective life ladder, happiness sum, intentional homicide rates, migrant percentage and migrant value. We created new lists for each one of them and store the values in those lists and used these lists to create the dataframe. "
      ]
    },
    {
      "cell_type": "code",
      "metadata": {
        "id": "N0BvyPryWkQh",
        "colab": {
          "base_uri": "https://localhost:8080/"
        },
        "outputId": "109f1b40-3c22-489b-8af0-d54b9913233f"
      },
      "source": [
        "total_country9 = []\n",
        "total_happiness9 = []\n",
        "total_ladder9 = []\n",
        "total_mortality9 = []\n",
        "total_percent_migrant9 = []\n",
        "total_migrant9 = []\n",
        "\n",
        "for i in range (len(Country_Name)):\n",
        "  for j in range (len(Country_Namess)):\n",
        "    for k in range (len(Country_Names)):\n",
        "      for l in range (len(Country_Names4)):\n",
        "        if Country_Name[i] == Country_Namess[j] == Country_Names[k] == Country_Names4[l]:\n",
        "          total_country9.append(Country_Name[i])\n",
        "          total_happiness9.append(Happiness_Sum[i])\n",
        "          total_ladder9.append(Life_Ladder[i])\n",
        "          total_mortality9.append(Homicide_Value[j])\n",
        "          total_percent_migrant9.append(Migrant_Value[k])\n",
        "          total_migrant9.append(total_migrant4[l])\n",
        "\n",
        "df10 = pd.DataFrame({'total_country9':total_country9,'total_ladder9':total_ladder9, 'total_happiness9':total_happiness9, 'total_mortality9':total_mortality9, 'total_percent_migrant9':total_percent_migrant9, 'total_migrant9':total_migrant9})\n",
        "\n",
        "print(df10)"
      ],
      "execution_count": null,
      "outputs": [
        {
          "output_type": "stream",
          "text": [
            "    total_country9  total_ladder9  ...  total_percent_migrant9  total_migrant9\n",
            "0      Afghanistan       3.594628  ...              -10.152265          133612\n",
            "1          Albania       4.990636  ...               -1.312350           52484\n",
            "2          Algeria       5.389717  ...                1.912331          248624\n",
            "3           Angola       4.420299  ...               15.718606          638499\n",
            "4        Argentina       6.339423  ...                2.084937         2164524\n",
            "..             ...            ...  ...                     ...             ...\n",
            "126        Uruguay       6.258516  ...               -0.125632           79586\n",
            "127     Uzbekistan       5.791761  ...               -1.013602         1159190\n",
            "128          Yemen       3.912124  ...                5.511646          384321\n",
            "129         Zambia       4.529805  ...               -3.075620          156982\n",
            "130       Zimbabwe       3.934324  ...                0.187033          403866\n",
            "\n",
            "[131 rows x 6 columns]\n"
          ],
          "name": "stdout"
        }
      ]
    },
    {
      "cell_type": "markdown",
      "metadata": {
        "id": "94A--ZvNOWq8"
      },
      "source": [
        "We combined happiness values, intentional murder values per 100,000 people, migrant percentage values and migrant values. Then we created a linear regression between our combination and life ladder."
      ]
    },
    {
      "cell_type": "code",
      "metadata": {
        "id": "6Ymw6Im3RfRH",
        "colab": {
          "base_uri": "https://localhost:8080/"
        },
        "outputId": "599b808e-50c7-44d1-c67c-99632bf6fce7"
      },
      "source": [
        "features = ['total_happiness9','total_mortality9', 'total_percent_migrant9', 'total_migrant9']\n",
        "X = df10[features].values \n",
        "target = df10['total_ladder9'].values\n",
        "\n",
        "X_train, X_test, y_train, y_test = train_test_split(X, target, test_size=0.2, random_state=0)\n",
        "\n",
        "model = LinearRegression()  \n",
        "model.fit(X_train, y_train)"
      ],
      "execution_count": null,
      "outputs": [
        {
          "output_type": "execute_result",
          "data": {
            "text/plain": [
              "LinearRegression(copy_X=True, fit_intercept=True, n_jobs=None, normalize=False)"
            ]
          },
          "metadata": {
            "tags": []
          },
          "execution_count": 112
        }
      ]
    },
    {
      "cell_type": "markdown",
      "metadata": {
        "id": "AmQ1bZ3jTRyn"
      },
      "source": [
        "Then we looked at the coefficients of the linear regression for each member in combination. Since the life ladder values are between 3 and 8 coefficients having low values are expactable and understandable. When we look at the coefficients we can deduct that our linear regression is true since every coefficient is bigger than 0."
      ]
    },
    {
      "cell_type": "code",
      "metadata": {
        "colab": {
          "base_uri": "https://localhost:8080/",
          "height": 171
        },
        "id": "-IVcpv_hTUfB",
        "outputId": "4dec8387-2a1c-43ac-8766-53362fdb658f"
      },
      "source": [
        "coeff_df10 = pd.DataFrame(model.coef_, features, columns=['Coefficient']) \n",
        "coeff_df10"
      ],
      "execution_count": null,
      "outputs": [
        {
          "output_type": "execute_result",
          "data": {
            "text/html": [
              "<div>\n",
              "<style scoped>\n",
              "    .dataframe tbody tr th:only-of-type {\n",
              "        vertical-align: middle;\n",
              "    }\n",
              "\n",
              "    .dataframe tbody tr th {\n",
              "        vertical-align: top;\n",
              "    }\n",
              "\n",
              "    .dataframe thead th {\n",
              "        text-align: right;\n",
              "    }\n",
              "</style>\n",
              "<table border=\"1\" class=\"dataframe\">\n",
              "  <thead>\n",
              "    <tr style=\"text-align: right;\">\n",
              "      <th></th>\n",
              "      <th>Coefficient</th>\n",
              "    </tr>\n",
              "  </thead>\n",
              "  <tbody>\n",
              "    <tr>\n",
              "      <th>total_happiness9</th>\n",
              "      <td>8.258091e-02</td>\n",
              "    </tr>\n",
              "    <tr>\n",
              "      <th>total_mortality9</th>\n",
              "      <td>1.303252e-02</td>\n",
              "    </tr>\n",
              "    <tr>\n",
              "      <th>total_percent_migrant9</th>\n",
              "      <td>9.360831e-03</td>\n",
              "    </tr>\n",
              "    <tr>\n",
              "      <th>total_migrant9</th>\n",
              "      <td>6.075932e-08</td>\n",
              "    </tr>\n",
              "  </tbody>\n",
              "</table>\n",
              "</div>"
            ],
            "text/plain": [
              "                         Coefficient\n",
              "total_happiness9        8.258091e-02\n",
              "total_mortality9        1.303252e-02\n",
              "total_percent_migrant9  9.360831e-03\n",
              "total_migrant9          6.075932e-08"
            ]
          },
          "metadata": {
            "tags": []
          },
          "execution_count": 113
        }
      ]
    },
    {
      "cell_type": "markdown",
      "metadata": {
        "id": "FzktVp8UShKC"
      },
      "source": [
        "###Random Forest Regressor"
      ]
    },
    {
      "cell_type": "markdown",
      "metadata": {
        "id": "eVHMnl9sUP7V"
      },
      "source": [
        "From the linear reggresion created above we created a random forest regressor."
      ]
    },
    {
      "cell_type": "code",
      "metadata": {
        "id": "uWEwfHZrdW62",
        "colab": {
          "base_uri": "https://localhost:8080/"
        },
        "outputId": "ce2476c4-d69c-4e17-c827-9d2ebbbb2b79"
      },
      "source": [
        "from sklearn.ensemble import RandomForestRegressor\n",
        "\n",
        "model_rf = RandomForestRegressor(n_estimators=130, random_state=0)\n",
        "model_rf.fit(X_train, y_train)"
      ],
      "execution_count": null,
      "outputs": [
        {
          "output_type": "execute_result",
          "data": {
            "text/plain": [
              "RandomForestRegressor(bootstrap=True, ccp_alpha=0.0, criterion='mse',\n",
              "                      max_depth=None, max_features='auto', max_leaf_nodes=None,\n",
              "                      max_samples=None, min_impurity_decrease=0.0,\n",
              "                      min_impurity_split=None, min_samples_leaf=1,\n",
              "                      min_samples_split=2, min_weight_fraction_leaf=0.0,\n",
              "                      n_estimators=130, n_jobs=None, oob_score=False,\n",
              "                      random_state=0, verbose=0, warm_start=False)"
            ]
          },
          "metadata": {
            "tags": []
          },
          "execution_count": 114
        }
      ]
    },
    {
      "cell_type": "markdown",
      "metadata": {
        "id": "SEz6k23WUZyT"
      },
      "source": [
        "After some calculations we found out that our random forest regressor had a mean absolute error of 0.44 degrees."
      ]
    },
    {
      "cell_type": "code",
      "metadata": {
        "id": "VbGJlgYXjlkd",
        "colab": {
          "base_uri": "https://localhost:8080/"
        },
        "outputId": "73b2e0d6-e428-4400-9fc1-55f206222259"
      },
      "source": [
        "from sklearn.metrics import accuracy_score, precision_score, recall_score, roc_auc_score, roc_curve\n",
        "predictions = model_rf.predict(X_test)\n",
        "errors = abs(predictions - y_test)\n",
        "print('Mean Absolute Error:', round(np.mean(errors), 2), 'degrees.')"
      ],
      "execution_count": null,
      "outputs": [
        {
          "output_type": "stream",
          "text": [
            "Mean Absolute Error: 0.44 degrees.\n"
          ],
          "name": "stdout"
        }
      ]
    },
    {
      "cell_type": "markdown",
      "metadata": {
        "id": "KRft--6xUzOx"
      },
      "source": [
        "After some calculations we found out that our random forest test accuracy is 92.81%."
      ]
    },
    {
      "cell_type": "code",
      "metadata": {
        "id": "TkrVJMpJmSJQ",
        "colab": {
          "base_uri": "https://localhost:8080/"
        },
        "outputId": "4ccb4df5-0036-4fd8-bd56-8aafaaa96cf2"
      },
      "source": [
        "mape = 100 * (errors / y_test)\n",
        "accuracy = 100 - np.mean(mape)\n",
        "print('Random Forest Test Accuracy:', round(accuracy, 2), '%.')"
      ],
      "execution_count": null,
      "outputs": [
        {
          "output_type": "stream",
          "text": [
            "Random Forest Test Accuracy: 92.81 %.\n"
          ],
          "name": "stdout"
        }
      ]
    },
    {
      "cell_type": "markdown",
      "metadata": {
        "id": "lTciH-COVDeR"
      },
      "source": [
        "We changed n_estimators and maximum depth inorder to adjust the random forest regressor better in our case hence, our mean absolute error increased by 0.04 and become 0.48 degrees."
      ]
    },
    {
      "cell_type": "code",
      "metadata": {
        "id": "vNj1dGLfkIOV",
        "colab": {
          "base_uri": "https://localhost:8080/"
        },
        "outputId": "d825b16d-1fbb-4aa5-99e3-4c487469071f"
      },
      "source": [
        "model_rf = RandomForestRegressor(n_estimators=100,max_depth=2)\n",
        "model_rf.fit(X_train, y_train,)\n",
        "\n",
        "predictions = model_rf.predict(X_test)\n",
        "errors = abs(predictions - y_test)\n",
        "print('Mean Absolute Error:', round(np.mean(errors), 2), 'degrees.')"
      ],
      "execution_count": null,
      "outputs": [
        {
          "output_type": "stream",
          "text": [
            "Mean Absolute Error: 0.48 degrees.\n"
          ],
          "name": "stdout"
        }
      ]
    },
    {
      "cell_type": "markdown",
      "metadata": {
        "id": "5_yxlzvYWiNz"
      },
      "source": [
        "###Efforts on Better Feature Selection, Hyper-Parameter Tuning of Models, and Scaling/Normalization if Possible "
      ]
    },
    {
      "cell_type": "markdown",
      "metadata": {
        "id": "wJvxX3heVu1i"
      },
      "source": [
        "We learned that our random forest regreesor model had an average error of 0.4784 degrees and had an accuracy of 91.87%. After some hyper-parameter tuning we managed to decrease the random forest regreesor model's average error by 0.0463 to 0.4321 and increase the random forest regreesor model's accuracy by 0.97 to 92.84%."
      ]
    },
    {
      "cell_type": "code",
      "metadata": {
        "id": "70MHEv-Wt9DK",
        "colab": {
          "base_uri": "https://localhost:8080/"
        },
        "outputId": "141143ce-f9c1-4203-c0ec-6a71f678d5e7"
      },
      "source": [
        "from sklearn.model_selection import RandomizedSearchCV\n",
        "from sklearn.model_selection import GridSearchCV\n",
        "\n",
        "n_estimators = [int(x) for x in np.linspace(start = 200, stop = 2000, num = 100)]\n",
        "max_features = ['auto', 'sqrt']\n",
        "max_depth = [int(x) for x in np.linspace(10, 110, num = 101)]\n",
        "max_depth.append(None)\n",
        "min_samples_split = [2, 5, 6]\n",
        "min_samples_leaf = [1, 2, 4]\n",
        "bootstrap = [True, False]\n",
        "\n",
        "def evaluate(model, X_test, y_test):\n",
        "    predictions = model.predict(X_test)\n",
        "    errors = abs(predictions - y_test)\n",
        "    mape = 100 * np.mean(errors / y_test)\n",
        "    accuracy = 100 - mape\n",
        "    print('Model Performance')\n",
        "    print('Average Error: {:0.4f} degrees.'.format(np.mean(errors)))\n",
        "    print('Accuracy = {:0.2f}%.'.format(accuracy))\n",
        "    \n",
        "    return accuracy\n",
        "\n",
        "random_grid = {'n_estimators': n_estimators,\n",
        "               'max_features': max_features,\n",
        "               'max_depth': max_depth,\n",
        "               'min_samples_split': min_samples_split,\n",
        "               'min_samples_leaf': min_samples_leaf,\n",
        "               'bootstrap': bootstrap}\n",
        "\n",
        "rf = RandomForestRegressor()\n",
        "rf_random = RandomizedSearchCV(estimator = rf, param_distributions = random_grid, n_iter = 100, cv = 3, verbose=2, random_state=42, n_jobs = -1)\n",
        "rf_random.fit(X_train, y_train,)\n",
        "\n",
        "base_model = model_rf\n",
        "base_model.fit(X_train, y_train)\n",
        "base_accuracy = evaluate(base_model, X_test, y_test)\n",
        "\n",
        "best_random = rf_random.best_estimator_\n",
        "random_accuracy = evaluate(best_random, X_test, y_test)\n",
        "\n",
        "print('Improvement of {:0.2f}%.'.format( 100 * (random_accuracy - base_accuracy) / base_accuracy))\n"
      ],
      "execution_count": null,
      "outputs": [
        {
          "output_type": "stream",
          "text": [
            "Fitting 3 folds for each of 100 candidates, totalling 300 fits\n"
          ],
          "name": "stdout"
        },
        {
          "output_type": "stream",
          "text": [
            "[Parallel(n_jobs=-1)]: Using backend LokyBackend with 2 concurrent workers.\n",
            "[Parallel(n_jobs=-1)]: Done  37 tasks      | elapsed:   47.2s\n",
            "[Parallel(n_jobs=-1)]: Done 158 tasks      | elapsed:  2.7min\n",
            "[Parallel(n_jobs=-1)]: Done 300 out of 300 | elapsed:  5.1min finished\n"
          ],
          "name": "stderr"
        },
        {
          "output_type": "stream",
          "text": [
            "Model Performance\n",
            "Average Error: 0.4768 degrees.\n",
            "Accuracy = 91.93%.\n",
            "Model Performance\n",
            "Average Error: 0.4950 degrees.\n",
            "Accuracy = 91.86%.\n",
            "Improvement of -0.08%.\n"
          ],
          "name": "stdout"
        }
      ]
    }
  ]
}